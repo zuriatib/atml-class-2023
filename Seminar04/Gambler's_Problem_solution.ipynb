{
 "cells": [
  {
   "cell_type": "markdown",
   "id": "c9f507cc",
   "metadata": {},
   "source": [
    "# Gambler's problem (Dynamic programming)"
   ]
  },
  {
   "cell_type": "code",
   "execution_count": 1,
   "id": "6df8844d",
   "metadata": {},
   "outputs": [],
   "source": [
    "# Some useful libraries\n",
    "import numpy as np\n",
    "import matplotlib.pyplot as plt"
   ]
  },
  {
   "cell_type": "markdown",
   "id": "e2f87b2c",
   "metadata": {},
   "source": [
    "## 1. Introduction and Setup"
   ]
  },
  {
   "attachments": {},
   "cell_type": "markdown",
   "id": "6a765d1f",
   "metadata": {},
   "source": [
    "*(Based on Example 4.3 in Sutton & Barto)*\n",
    "\n",
    "A gambler has the opportunity to make bets on the outcomes of a sequence of coin flips. If the coin comes up heads, he wins as many dollars as he has staked on that flip; if it is tails, he loses his stake.\n",
    "The coin has a probability of $p_h = 0.4$ of coming up heads.\n",
    "The player starts with some integer amount of money between $1 and $99.\n",
    "\n",
    "The game ends when the gambler wins by reaching his goal of $100, or loses by running out of money.\n",
    "On each flip, the gambler must decide what portion of his capital to stake, a positive integer number of dollars.\n",
    "The player cannot cash out, he must play until he wins or loses.\n",
    "Since there is only a total of $100 at the table, the gambler cannot place a bet that would cause him to have more than $100 after a win.\n",
    "This problem can be formulated as an undiscounted, episodic, finite MDP. "
   ]
  },
  {
   "attachments": {},
   "cell_type": "markdown",
   "id": "4993fa34",
   "metadata": {},
   "source": [
    "Identify the state-space, possible actions (per state), and reward/transition probabilities.\n",
    "\n",
    "State-space: $ s \\in S$ with\n",
    "$$S = \\{0, 1, ..., 100\\} $$\n",
    "\n",
    "Possible actions in state $s$: $a \\in A(s)$ with\n",
    "$$A(s) = \\{1, ..., min(s, 100-s)\\} $$\n",
    "\n",
    "Rewards/transition probabilites:\n",
    "$$ p(a+s, r|s, a) = 0.4 $$\n",
    "$$ p(a-s, r|s, a) = 0.6 $$\n",
    "\n",
    "If $s' = 100$, then $r = 1$, else $r = 0$.\n"
   ]
  },
  {
   "attachments": {},
   "cell_type": "markdown",
   "id": "335e5d83",
   "metadata": {},
   "source": [
    "Assign the values mentioned in the description to the constants below. (*Sidenote: in Python, there are no constants, but by convention, we use all caps for variables that are not supposed to be changed.*)"
   ]
  },
  {
   "cell_type": "code",
   "execution_count": 2,
   "id": "b58b0822",
   "metadata": {},
   "outputs": [],
   "source": [
    "# Money goal to reach\n",
    "MAX_MONEY = 100\n",
    "\n",
    "# Possible values of probability of the coin coming up heads\n",
    "P_HEADS =  0.4\n",
    "\n",
    "# Small number determining the accuracy of policy evaluation's estimation\n",
    "THETA = 1e-15\n",
    "\n",
    "# Discount factor (can be 1, since this is an episodic task)\n",
    "GAMMA = 1\n",
    "\n",
    "# A list/array of all possible states\n",
    "STATES = np.arange(MAX_MONEY + 1)"
   ]
  },
  {
   "attachments": {},
   "cell_type": "markdown",
   "id": "808b61d2",
   "metadata": {},
   "source": [
    "## 2. Policy Evaluation"
   ]
  },
  {
   "attachments": {},
   "cell_type": "markdown",
   "id": "558ec238",
   "metadata": {},
   "source": [
    "In this section we evaluate a given deterministic policy $\\pi$ by computing the state-value function $v_{\\pi}$.\n",
    "\n",
    "Define the policy you want to evaluate as an array `policy` of adequate length, where `policy[s]` is the action to take when the gambler's capital is `s`.\n",
    "\n",
    "Initialize the value function as an array `values` of adequate length, where `values[s]` is the value of state `s`. Make sure that terminal states have value zero."
   ]
  },
  {
   "cell_type": "code",
   "execution_count": 3,
   "id": "f839c660",
   "metadata": {},
   "outputs": [],
   "source": [
    "# Use length `MAX_MONEY + 1` to include the terminal state\n",
    "policy = [min(s, MAX_MONEY - s, 30) for s in STATES]\n",
    "values = np.zeros(MAX_MONEY + 1)"
   ]
  },
  {
   "attachments": {},
   "cell_type": "markdown",
   "id": "4c2589ff",
   "metadata": {},
   "source": [
    "First, we implement a helper function that evaluates an action `a` for a given state `s`, using the current value function `currentValues`."
   ]
  },
  {
   "cell_type": "code",
   "execution_count": 4,
   "id": "5a1ef0ba",
   "metadata": {},
   "outputs": [],
   "source": [
    "def evalAction(state, action, currentValues):\n",
    "    # If we are already in a terminal state, return 0\n",
    "    if state == 0 or state == MAX_MONEY:\n",
    "        return 0\n",
    "    \n",
    "    # Check that s+a and s-a are valid states\n",
    "    if state + action > MAX_MONEY or state - action < 0:\n",
    "        raise ValueError(\"Invalid action\")\n",
    "\n",
    "    # Compute and return the expected reward + value of the next state\n",
    "    expectedValue = P_HEADS * currentValues[state + action] + (1 - P_HEADS) * currentValues[state - action]\n",
    "    \n",
    "    if state + action == MAX_MONEY:\n",
    "        expextedReward = P_HEADS\n",
    "    else:\n",
    "        expextedReward = 0\n",
    "\n",
    "    return expextedReward + GAMMA * expectedValue\n",
    "    "
   ]
  },
  {
   "attachments": {},
   "cell_type": "markdown",
   "id": "cf05c493",
   "metadata": {},
   "source": [
    "Implement iterative policy evaluation. You can follow the pseudo-code on page 75 in Sutton & Barto."
   ]
  },
  {
   "cell_type": "code",
   "execution_count": 5,
   "id": "2ddf49e2",
   "metadata": {},
   "outputs": [],
   "source": [
    "# Loop:\n",
    "    # delta <- 0\n",
    "\n",
    "    # Loop for each s in S:\n",
    "        # v <- V(s)\n",
    "\n",
    "        # V(s) <- sum_a ...\n",
    "        # (this part might require multiple lines of code)\n",
    "\n",
    "        # delta <- max(delta, |v - V(s)|)\n",
    "\n",
    "    # until delta < THETA"
   ]
  },
  {
   "cell_type": "code",
   "execution_count": 6,
   "id": "df05e0c3",
   "metadata": {},
   "outputs": [],
   "source": [
    "while True:\n",
    "    # Set delta to 0\n",
    "    delta = 0\n",
    "    \n",
    "    # Update value function for each state\n",
    "    for state in STATES:\n",
    "        oldValue = values[state]\n",
    "\n",
    "        action = policy[state]\n",
    "        values[state] = evalAction(state, action, values)\n",
    "\n",
    "        delta = max(delta, abs(oldValue - values[state]))\n",
    "    \n",
    "    # Break if delta is small enough\n",
    "    if delta < THETA:\n",
    "        break"
   ]
  },
  {
   "attachments": {},
   "cell_type": "markdown",
   "id": "a127c3b7",
   "metadata": {},
   "source": [
    "Plot the value function you computed above.\n",
    "Depending on your implementation, it might look nicer to ignore the terminal states (`0`, `MAX_MONEY`)."
   ]
  },
  {
   "cell_type": "code",
   "execution_count": 7,
   "id": "3aa71539",
   "metadata": {},
   "outputs": [
    {
     "data": {
      "image/png": "[encoded data removed]",
      "text/plain": [
       "<Figure size 640x480 with 1 Axes>"
      ]
     },
     "metadata": {},
     "output_type": "display_data"
    }
   ],
   "source": [
    "plt.figure()\n",
    "plt.plot(STATES[1:-1], values[1:-1])\n",
    "plt.show()"
   ]
  },
  {
   "attachments": {},
   "cell_type": "markdown",
   "id": "611ca345",
   "metadata": {},
   "source": [
    "Does the value function look as expected?\n",
    "How does the value function change for different policies, probabilities (`P_HEADS`), and discount factors (`GAMMA`)?"
   ]
  },
  {
   "attachments": {},
   "cell_type": "markdown",
   "id": "8f0e5b61",
   "metadata": {},
   "source": [
    "## 3. Policy Iteration"
   ]
  },
  {
   "attachments": {},
   "cell_type": "markdown",
   "id": "e525645f",
   "metadata": {},
   "source": [
    "In this section, we compute the optimal policy and value function using policy iteration.\n",
    "We implement the policy evaluation and improvement steps as individual functions, which we then call alternately for the actual policy iteration.\n"
   ]
  },
  {
   "cell_type": "markdown",
   "id": "8b0e48df",
   "metadata": {},
   "source": [
    "\n",
    "Implement the policy evaluation step. You can use your code from above, but need to wrap it in a function that takes the current policy as an argument."
   ]
  },
  {
   "cell_type": "code",
   "execution_count": 8,
   "id": "e85a696d",
   "metadata": {},
   "outputs": [],
   "source": [
    "\n",
    "def policyEvaluation(policy):\n",
    "    # Initialize value function\n",
    "    values = np.zeros(MAX_MONEY + 1)\n",
    "\n",
    "    # (Same code as above)\n",
    "    while True:\n",
    "        # Set delta to 0\n",
    "        delta = 0\n",
    "        \n",
    "        # Update value function for each state\n",
    "        for state in STATES:\n",
    "            oldValue = values[state]\n",
    "\n",
    "            action = policy[state]\n",
    "            values[state] = evalAction(state, action, values)\n",
    "\n",
    "            delta = max(delta, abs(oldValue - values[state]))\n",
    "        \n",
    "        # Break if delta is small enough\n",
    "        if delta < THETA:\n",
    "            break\n",
    "    # /(Same code as above)\n",
    "    \n",
    "    # Return the value function\n",
    "    return values\n"
   ]
  },
  {
   "attachments": {},
   "cell_type": "markdown",
   "id": "977b91cc",
   "metadata": {},
   "source": [
    "Implement the policy improvement step as a function that takes the current value function as an argument and returns the new (greedy) policy.\n",
    "\n",
    "*Note: In this particular example, there are multiple optimal policies. Your results might look nicer if you break ties (or almost ties) in favor of lower stakes.*"
   ]
  },
  {
   "cell_type": "code",
   "execution_count": 9,
   "id": "5fa149a5",
   "metadata": {},
   "outputs": [],
   "source": [
    "def policyImprovement(values):\n",
    "    policy = []\n",
    "\n",
    "    # Loop for each state\n",
    "    for state in STATES:\n",
    "        # If we are in a terminal state, do nothing (=0)\n",
    "        if state == 0 or state == MAX_MONEY:\n",
    "            policy.append(0)\n",
    "            continue\n",
    "        \n",
    "        # Initialize best action and its value\n",
    "        bestAction = 0\n",
    "        bestValue = 0\n",
    "\n",
    "        # Loop for each action\n",
    "        actions = range(1, min(state, MAX_MONEY - state) + 1)\n",
    "        for action in actions:\n",
    "            # Compute the value of the action\n",
    "            value = evalAction(state, action, values)\n",
    "\n",
    "            # If the value is (significantly) better than the best value, update best value and best action\n",
    "            # if value > bestValue:\n",
    "            if value - bestValue > 2*THETA: # (avoid noisy updates)\n",
    "                bestValue = value\n",
    "                bestAction = action\n",
    "        \n",
    "        # Append best action to policy\n",
    "        policy.append(bestAction)\n",
    "    \n",
    "    # Return the policy\n",
    "    return policy"
   ]
  },
  {
   "attachments": {},
   "cell_type": "markdown",
   "id": "299e5061",
   "metadata": {},
   "source": [
    "Implement policy iteration, using the functions you implemented above."
   ]
  },
  {
   "cell_type": "code",
   "execution_count": 10,
   "id": "d2d9bfb8",
   "metadata": {},
   "outputs": [],
   "source": [
    "# Initialize values and policy\n",
    "values = np.zeros(MAX_MONEY + 1)\n",
    "policy = [1 for s in STATES]\n",
    "\n",
    "# Do policy iteration\n",
    "while True:\n",
    "    # Policy evaluation\n",
    "    values = policyEvaluation(policy)\n",
    "\n",
    "    # Policy improvement\n",
    "    newPolicy = policyImprovement(values)\n",
    "\n",
    "    # Check if policy has changed\n",
    "    if newPolicy == policy:\n",
    "        break\n",
    "\n",
    "    # Update policy\n",
    "    policy = newPolicy\n",
    "    "
   ]
  },
  {
   "attachments": {},
   "cell_type": "markdown",
   "id": "260a694c",
   "metadata": {},
   "source": [
    "Plot the optimal value function and the optimal policy."
   ]
  },
  {
   "cell_type": "code",
   "execution_count": 11,
   "id": "7a042edf",
   "metadata": {},
   "outputs": [
    {
     "data": {
      "image/png": "[encoded data removed]",
      "text/plain": [
       "<Figure size 640x480 with 1 Axes>"
      ]
     },
     "metadata": {},
     "output_type": "display_data"
    },
    {
     "data": {
      "image/png": "[encoded data removed]",
      "text/plain": [
       "<Figure size 640x480 with 1 Axes>"
      ]
     },
     "metadata": {},
     "output_type": "display_data"
    }
   ],
   "source": [
    "plt.figure()\n",
    "plt.plot(STATES[1:-1], values[1:-1])\n",
    "plt.title('Optimal value function')\n",
    "plt.show()\n",
    "\n",
    "plt.figure()\n",
    "plt.step(STATES, policy)\n",
    "plt.title('(An) Optimal policy')\n",
    "plt.show()"
   ]
  },
  {
   "attachments": {},
   "cell_type": "markdown",
   "id": "437ac65f",
   "metadata": {},
   "source": [
    "## 4. Value Iteration"
   ]
  },
  {
   "attachments": {},
   "cell_type": "markdown",
   "id": "d30453a2",
   "metadata": {},
   "source": [
    "In this section we compute the optimal policy and value function using value iteration.\n",
    "Again, we follow the pseudo-code from Sutton & Barto (p. 83)."
   ]
  },
  {
   "cell_type": "code",
   "execution_count": 12,
   "id": "f204e031",
   "metadata": {},
   "outputs": [],
   "source": [
    "# Initialize values\n",
    "\n",
    "# Loop:\n",
    "    # delta <- 0\n",
    "\n",
    "    # Loop for each s in S:\n",
    "        # v <- V(s)\n",
    "\n",
    "        # V(s) <- max_a sum_s' ...\n",
    "        # (this part might require multiple lines of code)\n",
    "\n",
    "        # delta <- max(delta, |v - V(s)|)\n",
    "\n",
    "    # until delta < THETA\n",
    "\n",
    "# Output a deterministic policy such that\n",
    "# policy[s] = argmax_a ..."
   ]
  },
  {
   "cell_type": "code",
   "execution_count": 13,
   "id": "77bfd9a6",
   "metadata": {},
   "outputs": [],
   "source": [
    "# Initialize values to zero\n",
    "values = np.zeros(MAX_MONEY + 1)\n",
    "\n",
    "# Do value iteration\n",
    "while True:\n",
    "    delta = 0\n",
    "    \n",
    "    for state in STATES:\n",
    "        oldValue = values[state]\n",
    "\n",
    "        # Initialize best value\n",
    "        newValue = 0\n",
    "\n",
    "        # Loop for each action\n",
    "        actions = range(1, min(state, MAX_MONEY - state) + 1)\n",
    "        for action in actions:\n",
    "            # Compute the value of the action\n",
    "            value = evalAction(state, action, values)\n",
    "            \n",
    "            # Update newValue if better\n",
    "            newValue = max(value, newValue)\n",
    "\n",
    "        # Update value\n",
    "        values[state] = newValue\n",
    "\n",
    "        # Update delta\n",
    "        delta = max(delta, abs(oldValue - newValue))\n",
    "        \n",
    "    if delta < THETA:\n",
    "        break\n"
   ]
  },
  {
   "cell_type": "code",
   "execution_count": 14,
   "id": "b6ed5716",
   "metadata": {},
   "outputs": [],
   "source": [
    "# Initialize empty policy\n",
    "policy = []\n",
    "\n",
    "# Find best action for each state\n",
    "for state in STATES:\n",
    "    # If we are in a terminal state, do nothing (=0)\n",
    "    if state == 0 or state == MAX_MONEY:\n",
    "        policy.append(0)\n",
    "        continue\n",
    "\n",
    "    # Evaluate all actions\n",
    "    actions = range(1, min(state, MAX_MONEY - state) + 1)\n",
    "    actionValues = [evalAction(state, action, values) for action in actions]\n",
    "    \n",
    "    # Find the best action\n",
    "    bestAction = actions[np.argmax(actionValues)]\n",
    "\n",
    "    # Append best action to policy\n",
    "    policy.append(bestAction)\n"
   ]
  },
  {
   "cell_type": "markdown",
   "id": "df0d3832",
   "metadata": {},
   "source": [
    "Plot the optimal value function and the optimal policy."
   ]
  },
  {
   "cell_type": "code",
   "execution_count": 15,
   "id": "d2fe4a2b",
   "metadata": {},
   "outputs": [
    {
     "data": {
      "image/png": "[encoded data removed]",
      "text/plain": [
       "<Figure size 640x480 with 1 Axes>"
      ]
     },
     "metadata": {},
     "output_type": "display_data"
    },
    {
     "data": {
      "image/png": "[encoded data removed]",
      "text/plain": [
       "<Figure size 640x480 with 1 Axes>"
      ]
     },
     "metadata": {},
     "output_type": "display_data"
    }
   ],
   "source": [
    "plt.figure()\n",
    "plt.plot(STATES[1:-1], values[1:-1])\n",
    "plt.title('Optimal value function')\n",
    "plt.show()\n",
    "\n",
    "plt.figure()\n",
    "plt.step(STATES, policy)\n",
    "plt.title('(An) Optimal policy')\n",
    "plt.show()"
   ]
  },
  {
   "cell_type": "markdown",
   "id": "a2df9502",
   "metadata": {},
   "source": [
    "### 4.a Bonus"
   ]
  },
  {
   "attachments": {},
   "cell_type": "markdown",
   "id": "5781f4fd",
   "metadata": {},
   "source": [
    "Find and plot *all* optimal policies."
   ]
  },
  {
   "cell_type": "code",
   "execution_count": 16,
   "id": "a7832e2a",
   "metadata": {},
   "outputs": [],
   "source": [
    "# Tolerance for \"equal\" values\n",
    "TOL_OPTIMAL = 10 * THETA\n",
    "\n",
    "\n",
    "# Initialize empty policy\n",
    "# This time, this will be a list of lists\n",
    "policy = []\n",
    "\n",
    "# Loop for each state\n",
    "for state in STATES:\n",
    "    # If we are in a terminal state, do nothing\n",
    "    if state == 0 or state == MAX_MONEY:\n",
    "        policy.append([])\n",
    "        continue\n",
    "\n",
    "    # Evaluate all actions\n",
    "    actions = range(1, min(state, MAX_MONEY - state) + 1)\n",
    "    actionValues = [evalAction(state, action, values) for action in actions]\n",
    "    \n",
    "    # All optimal actions\n",
    "    bestValue = np.max(actionValues)\n",
    "    bestActions = [action for action, value in zip(actions, actionValues) if abs(value - bestValue) <= TOL_OPTIMAL]\n",
    "\n",
    "    # Append best action to policy\n",
    "    policy.append(bestActions)"
   ]
  },
  {
   "cell_type": "code",
   "execution_count": 17,
   "id": "149fd573",
   "metadata": {},
   "outputs": [
    {
     "data": {
      "image/png": "[encoded data removed]",
      "text/plain": [
       "<Figure size 640x480 with 1 Axes>"
      ]
     },
     "metadata": {},
     "output_type": "display_data"
    }
   ],
   "source": [
    "# Create scatter plot with all optimal state/action pairs\n",
    "x = []\n",
    "y = []\n",
    "\n",
    "for state in STATES:\n",
    "    for action in policy[state]:\n",
    "        x.append(state)\n",
    "        y.append(action)\n",
    "        \n",
    "plt.figure()\n",
    "plt.scatter(x, y)\n",
    "plt.show()\n"
   ]
  },
  {
   "attachments": {},
   "cell_type": "markdown",
   "id": "e6f4eca8",
   "metadata": {},
   "source": [
    "### 4.b Bonus 2"
   ]
  },
  {
   "attachments": {},
   "cell_type": "markdown",
   "id": "36049ea4",
   "metadata": {},
   "source": [
    "Ideas for further exploration:\n",
    "- How does the set of *all* optimal policies behave for different values of `MAX_MONEY`? *Hint: Powers of 2 are particularly interesting!*\n",
    "- Change the code above to allow bets which would cause the player to have more than $100 after a win. Does this change the optimal policy?\n",
    "- Change the policy evaluation code to allow for non-deterministic policies."
   ]
  }
 ],
 "metadata": {
  "kernelspec": {
   "display_name": "Python 3",
   "language": "python",
   "name": "python3"
  },
  "language_info": {
   "codemirror_mode": {
    "name": "ipython",
    "version": 3
   },
   "file_extension": ".py",
   "mimetype": "text/x-python",
   "name": "python",
   "nbconvert_exporter": "python",
   "pygments_lexer": "ipython3",
   "version": "3.11.0 (main, Oct 24 2022, 18:26:48) [MSC v.1933 64 bit (AMD64)]"
  },
  "vscode": {
   "interpreter": {
    "hash": "275c90bd5bb82664c788af040251692cc03dc86a881c38c70c21622899dbd0c4"
   }
  }
 },
 "nbformat": 4,
 "nbformat_minor": 5
}
