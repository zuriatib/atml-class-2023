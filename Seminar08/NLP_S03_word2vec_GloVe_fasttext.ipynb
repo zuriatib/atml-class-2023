{
 "cells": [
  {
   "cell_type": "markdown",
   "id": "0e363c3d",
   "metadata": {},
   "source": [
    "# NLP Seminar 3: static word embeddings (word2vec, fasttext, GloVe)"
   ]
  },
  {
   "cell_type": "markdown",
   "id": "4fd3f8d4",
   "metadata": {},
   "source": [
    "In this seminar, we will use the `gensim` package, as it has unifying easy-to-use implementations and pretrained word2vec, fasttext, and GloVe models"
   ]
  },
  {
   "cell_type": "code",
   "execution_count": null,
   "id": "7fc88c42",
   "metadata": {},
   "outputs": [],
   "source": [
    "#!pip install --upgrade gensim"
   ]
  },
  {
   "cell_type": "code",
   "execution_count": 1,
   "id": "64633a93",
   "metadata": {},
   "outputs": [],
   "source": [
    "import numpy as np\n",
    "import pandas as pd"
   ]
  },
  {
   "cell_type": "code",
   "execution_count": 2,
   "id": "cc4e07fa",
   "metadata": {},
   "outputs": [
    {
     "data": {
      "text/plain": [
       "8"
      ]
     },
     "execution_count": 2,
     "metadata": {},
     "output_type": "execute_result"
    }
   ],
   "source": [
    "import multiprocessing\n",
    "cores = multiprocessing.cpu_count()\n",
    "cores"
   ]
  },
  {
   "cell_type": "code",
   "execution_count": 3,
   "id": "3dc2b985",
   "metadata": {},
   "outputs": [],
   "source": [
    "from nltk.tokenize import word_tokenize"
   ]
  },
  {
   "cell_type": "markdown",
   "id": "f6638bd1",
   "metadata": {},
   "source": [
    "# Data preparation"
   ]
  },
  {
   "attachments": {},
   "cell_type": "markdown",
   "id": "1a0da84b",
   "metadata": {},
   "source": [
    "Data source: https://www.kaggle.com/datasets/prashant111/the-simpsons-dataset"
   ]
  },
  {
   "cell_type": "code",
   "execution_count": 4,
   "id": "82dfe53d",
   "metadata": {},
   "outputs": [
    {
     "data": {
      "text/html": [
       "<div>\n",
       "<style scoped>\n",
       "    .dataframe tbody tr th:only-of-type {\n",
       "        vertical-align: middle;\n",
       "    }\n",
       "\n",
       "    .dataframe tbody tr th {\n",
       "        vertical-align: top;\n",
       "    }\n",
       "\n",
       "    .dataframe thead th {\n",
       "        text-align: right;\n",
       "    }\n",
       "</style>\n",
       "<table border=\"1\" class=\"dataframe\">\n",
       "  <thead>\n",
       "    <tr style=\"text-align: right;\">\n",
       "      <th></th>\n",
       "      <th>raw_character_text</th>\n",
       "      <th>raw_location_text</th>\n",
       "      <th>spoken_words</th>\n",
       "      <th>normalized_text</th>\n",
       "    </tr>\n",
       "  </thead>\n",
       "  <tbody>\n",
       "    <tr>\n",
       "      <th>0</th>\n",
       "      <td>Miss Hoover</td>\n",
       "      <td>Springfield Elementary School</td>\n",
       "      <td>No, actually, it was a little of both. Sometim...</td>\n",
       "      <td>no actually it was a little of both sometimes ...</td>\n",
       "    </tr>\n",
       "    <tr>\n",
       "      <th>1</th>\n",
       "      <td>Lisa Simpson</td>\n",
       "      <td>Springfield Elementary School</td>\n",
       "      <td>Where's Mr. Bergstrom?</td>\n",
       "      <td>wheres mr bergstrom</td>\n",
       "    </tr>\n",
       "    <tr>\n",
       "      <th>2</th>\n",
       "      <td>Miss Hoover</td>\n",
       "      <td>Springfield Elementary School</td>\n",
       "      <td>I don't know. Although I'd sure like to talk t...</td>\n",
       "      <td>i dont know although id sure like to talk to h...</td>\n",
       "    </tr>\n",
       "    <tr>\n",
       "      <th>3</th>\n",
       "      <td>Lisa Simpson</td>\n",
       "      <td>Springfield Elementary School</td>\n",
       "      <td>That life is worth living.</td>\n",
       "      <td>that life is worth living</td>\n",
       "    </tr>\n",
       "    <tr>\n",
       "      <th>4</th>\n",
       "      <td>Edna Krabappel-Flanders</td>\n",
       "      <td>Springfield Elementary School</td>\n",
       "      <td>The polls will be open from now until the end ...</td>\n",
       "      <td>the polls will be open from now until the end ...</td>\n",
       "    </tr>\n",
       "  </tbody>\n",
       "</table>\n",
       "</div>"
      ],
      "text/plain": [
       "        raw_character_text              raw_location_text  \\\n",
       "0              Miss Hoover  Springfield Elementary School   \n",
       "1             Lisa Simpson  Springfield Elementary School   \n",
       "2              Miss Hoover  Springfield Elementary School   \n",
       "3             Lisa Simpson  Springfield Elementary School   \n",
       "4  Edna Krabappel-Flanders  Springfield Elementary School   \n",
       "\n",
       "                                        spoken_words  \\\n",
       "0  No, actually, it was a little of both. Sometim...   \n",
       "1                             Where's Mr. Bergstrom?   \n",
       "2  I don't know. Although I'd sure like to talk t...   \n",
       "3                         That life is worth living.   \n",
       "4  The polls will be open from now until the end ...   \n",
       "\n",
       "                                     normalized_text  \n",
       "0  no actually it was a little of both sometimes ...  \n",
       "1                                wheres mr bergstrom  \n",
       "2  i dont know although id sure like to talk to h...  \n",
       "3                          that life is worth living  \n",
       "4  the polls will be open from now until the end ...  "
      ]
     },
     "execution_count": 4,
     "metadata": {},
     "output_type": "execute_result"
    }
   ],
   "source": [
    "simpsons = pd.read_csv(\"data/simpsons_script_lines.csv\",\n",
    "                       usecols=[\"raw_character_text\", \"raw_location_text\", \"spoken_words\", \"normalized_text\"],\n",
    "                       dtype={'raw_character_text':'string', 'raw_location_text':'string',\n",
    "                              'spoken_words':'string', 'normalized_text':'string'})\n",
    "simpsons.head()"
   ]
  },
  {
   "cell_type": "code",
   "execution_count": 5,
   "id": "fad41f58",
   "metadata": {},
   "outputs": [
    {
     "name": "stdout",
     "output_type": "stream",
     "text": [
      "<class 'pandas.core.frame.DataFrame'>\n",
      "RangeIndex: 158271 entries, 0 to 158270\n",
      "Data columns (total 4 columns):\n",
      " #   Column              Non-Null Count   Dtype \n",
      "---  ------              --------------   ----- \n",
      " 0   raw_character_text  140749 non-null  string\n",
      " 1   raw_location_text   157863 non-null  string\n",
      " 2   spoken_words        132112 non-null  string\n",
      " 3   normalized_text     132087 non-null  string\n",
      "dtypes: string(4)\n",
      "memory usage: 4.8 MB\n"
     ]
    }
   ],
   "source": [
    "simpsons.info()"
   ]
  },
  {
   "cell_type": "code",
   "execution_count": 6,
   "id": "5b721d19",
   "metadata": {},
   "outputs": [],
   "source": [
    "simpsons = simpsons.dropna().drop_duplicates().reset_index(drop=True)"
   ]
  },
  {
   "cell_type": "code",
   "execution_count": 9,
   "id": "e5dc2b95",
   "metadata": {},
   "outputs": [
    {
     "data": {
      "text/plain": [
       "['wheres', 'mr', 'bergstrom']"
      ]
     },
     "execution_count": 9,
     "metadata": {},
     "output_type": "execute_result"
    }
   ],
   "source": [
    "corpus_tok = simpsons['normalized_text'].str.split(' ').to_list()\n",
    "corpus_tok[1]"
   ]
  },
  {
   "cell_type": "code",
   "execution_count": null,
   "id": "d7e26241",
   "metadata": {},
   "outputs": [],
   "source": [
    "# If you don't know the Simpsons tv show, \n",
    "# you can e.g. use the wikipedia subset corpus instead,\n",
    "# (and try different words when evaluating the vectors and similarities in next sections):\n",
    "\n",
    "#import gensim.downloader as gensim_api\n",
    "#gensim_api.info('text8')['description']\n",
    "#corpus_tok = gensim_api.load('text8')"
   ]
  },
  {
   "cell_type": "markdown",
   "id": "7b207b86",
   "metadata": {},
   "source": [
    "## Phraser"
   ]
  },
  {
   "cell_type": "markdown",
   "id": "0174a551",
   "metadata": {},
   "source": [
    "https://radimrehurek.com/gensim/models/phrases.html"
   ]
  },
  {
   "cell_type": "code",
   "execution_count": 28,
   "id": "8f5f8907",
   "metadata": {},
   "outputs": [],
   "source": [
    "from gensim.models.phrases import Phrases, Phraser\n",
    "phrases = Phrases(corpus_tok, min_count=30)\n",
    "phraser = Phraser(phrases)\n",
    "del(phrases)"
   ]
  },
  {
   "cell_type": "code",
   "execution_count": 25,
   "id": "ad7400ad",
   "metadata": {},
   "outputs": [
    {
     "data": {
      "text/plain": [
       "['homer_simpson', 'eats', 'chocolate']"
      ]
     },
     "execution_count": 25,
     "metadata": {},
     "output_type": "execute_result"
    }
   ],
   "source": [
    "phraser[[\"homer\", \"simpson\", \"eats\", \"chocolate\"]]"
   ]
  },
  {
   "cell_type": "code",
   "execution_count": 26,
   "id": "ffad8b85",
   "metadata": {},
   "outputs": [],
   "source": [
    "corpus_phrased = phraser[corpus_tok]"
   ]
  },
  {
   "cell_type": "code",
   "execution_count": 27,
   "id": "5de72f11",
   "metadata": {},
   "outputs": [
    {
     "data": {
      "text/plain": [
       "['wheres', 'mr', 'bergstrom']"
      ]
     },
     "execution_count": 27,
     "metadata": {},
     "output_type": "execute_result"
    }
   ],
   "source": [
    "corpus_phrased[1]"
   ]
  },
  {
   "cell_type": "markdown",
   "id": "ac8a99c2",
   "metadata": {},
   "source": [
    "# Word2vec"
   ]
  },
  {
   "cell_type": "markdown",
   "id": "f61299b3",
   "metadata": {},
   "source": [
    "Word2vec has two sub-methods for training the word embeddings: continuous bag of words (CBOW) and skip-gram.\n",
    "In both cases, a shallow neural network is trained to predict either\n",
    "\n",
    "- a word given a context (CBOW), or\n",
    "- a context of a given a word (skip-gram).\n",
    "\n",
    "The context is defined as the other surrounding words in a given window. The word embedding vectors are then obained from the two trained weight matrices for each word in the vocabulary.\n",
    "\n",
    "\n",
    "Official website: https://code.google.com/archive/p/word2vec/\n",
    "\n",
    "Original papers: http://arxiv.org/abs/1301.3781 and http://arxiv.org/abs/1310.4546"
   ]
  },
  {
   "cell_type": "markdown",
   "id": "96fab24b",
   "metadata": {},
   "source": [
    "### Training word2vec on the Simpson scripts"
   ]
  },
  {
   "cell_type": "code",
   "execution_count": 29,
   "id": "b78c5a65",
   "metadata": {},
   "outputs": [],
   "source": [
    "from gensim.models import Word2Vec, KeyedVectors"
   ]
  },
  {
   "cell_type": "code",
   "execution_count": 30,
   "id": "0ba32471",
   "metadata": {},
   "outputs": [],
   "source": [
    "w2v_s = Word2Vec(corpus_phrased, vector_size=150, window=3, min_count=2, sg=0, negative=5, ns_exponent=0.75,\n",
    "                 alpha=0.025, min_alpha=0.0001, workers=cores-1, epochs=30)\n",
    "#1st line: Method's hyperparameters\n",
    "#2nd line: Optimization (gradient descent) hyperparameters"
   ]
  },
  {
   "cell_type": "markdown",
   "id": "bf201943",
   "metadata": {},
   "source": [
    "Can also be done in separate steps:\n",
    "\n",
    "    w2v_s = Word2Vec(vector_size=150, window=3, min_count=2, sg=0, negative=5, ns_exponent=0.75,\n",
    "                     alpha=0.025, min_alpha=0.0001, workers=cores-1)\n",
    "    w2v_s.build_vocab(sentences, progress_per=10000)\n",
    "    w2v_s.train(sentences, total_examples=w2v_model.corpus_count, epochs=30, report_delay=1)"
   ]
  },
  {
   "cell_type": "markdown",
   "id": "f0366ec2",
   "metadata": {},
   "source": [
    "Word embedding vectors can then be obtained from the trained model, for each word in the training vocabulary."
   ]
  },
  {
   "cell_type": "code",
   "execution_count": 32,
   "id": "c933ee52",
   "metadata": {},
   "outputs": [
    {
     "data": {
      "text/plain": [
       "array([-2.61049289e-02,  1.16754053e-02,  4.14576307e-02, -3.42069268e-02,\n",
       "        1.30050406e-01, -9.81555060e-02,  4.27696370e-02,  3.90677335e-04,\n",
       "        7.67412856e-02, -3.18297967e-02, -2.23855227e-01,  6.22445457e-02,\n",
       "        2.95470506e-02, -6.00912683e-02,  1.74143090e-04, -9.63065997e-02,\n",
       "       -3.22594284e-03, -1.07110972e-02, -1.21698245e-01,  3.19398683e-03,\n",
       "        1.92827471e-02, -2.36378796e-02,  9.73904952e-02,  3.53702530e-02,\n",
       "       -2.03763053e-01, -6.04840107e-02,  7.69039765e-02,  6.79884478e-02,\n",
       "       -1.43225715e-01,  1.61224619e-01, -7.66186565e-02,  2.99185198e-02,\n",
       "       -4.58554961e-02,  1.33616626e-01, -1.38652027e-01,  6.64678738e-02,\n",
       "       -5.30304164e-02,  1.88559201e-02, -7.94080496e-02,  4.37537115e-03,\n",
       "       -6.06294349e-02, -8.22855681e-02,  8.64137858e-02,  1.00588866e-01,\n",
       "        1.08145639e-01, -1.00142181e-01, -6.77912086e-02, -8.14181045e-02,\n",
       "       -2.70792772e-03, -1.27574295e-01,  1.34241477e-01,  1.57823578e-01,\n",
       "       -2.79842759e-03,  2.10677236e-02,  2.78264321e-02,  3.79391909e-02,\n",
       "       -2.25779396e-02, -5.93080856e-02,  1.63182735e-01, -6.03938252e-02,\n",
       "        5.98482676e-02, -9.53045487e-02,  4.67220135e-02,  9.30422992e-02,\n",
       "        1.57810710e-02, -5.42789102e-02, -4.57571782e-02,  3.39161395e-03,\n",
       "        7.16808438e-02,  6.67713508e-02, -1.15098238e-01, -1.60645470e-01,\n",
       "       -4.18099649e-02,  1.25272155e-01, -5.61035573e-02, -1.34636700e-01,\n",
       "       -4.19401638e-02,  2.78757513e-03,  3.20564061e-02,  7.54451528e-02,\n",
       "        6.71067834e-02, -4.36278805e-03,  4.58234642e-03, -1.14010222e-01,\n",
       "        6.68407083e-02, -7.57234171e-02, -5.57914302e-02, -1.12133855e-02,\n",
       "       -2.54871957e-02, -5.95491715e-02, -6.64280877e-02, -8.23860988e-02,\n",
       "        7.69585073e-02, -1.22625381e-01, -1.54893681e-01, -8.25994387e-02,\n",
       "        8.72773118e-03, -2.59292722e-02, -8.76206607e-02, -6.60840794e-02,\n",
       "        3.62547450e-02, -8.76897499e-02, -3.48628405e-03,  5.01767397e-02,\n",
       "        1.08915970e-01,  1.51119307e-01, -1.17048435e-01,  4.22733799e-02,\n",
       "       -1.12695530e-01,  1.40510714e-02,  7.62459487e-02,  3.49630713e-02,\n",
       "        8.98989215e-02,  1.19081018e-02,  1.11543939e-01, -5.62556833e-03,\n",
       "       -2.73901690e-02, -1.22746095e-01, -5.92833348e-02,  1.62048921e-01,\n",
       "        5.44607341e-02, -5.33762202e-02, -6.10703267e-02, -4.28982191e-02,\n",
       "        7.82357082e-02,  9.49803069e-02,  7.08324388e-02,  1.48884847e-03,\n",
       "       -4.02002186e-02,  6.73675314e-02, -5.30837849e-03,  5.24635464e-02,\n",
       "       -2.09440105e-02,  5.02858311e-02,  1.37474477e-01, -1.52798146e-01,\n",
       "        3.21917958e-03,  1.08374365e-01,  4.79096062e-02, -9.91158281e-03,\n",
       "        1.78216901e-02,  7.56331086e-02,  7.32912030e-03, -1.73149213e-01,\n",
       "       -2.66503282e-02, -1.06392488e-01, -3.10253985e-02, -9.03546736e-02,\n",
       "       -8.17806199e-02, -1.05472608e-02], dtype=float32)"
      ]
     },
     "execution_count": 32,
     "metadata": {},
     "output_type": "execute_result"
    }
   ],
   "source": [
    "homer_vector = w2v_s.wv.get_vector(\"homer\", norm=True) # Father of the Simpsons\n",
    "homer_vector"
   ]
  },
  {
   "cell_type": "markdown",
   "id": "3eb6ccba",
   "metadata": {},
   "source": [
    "For a given word or vector, one can query the other most similar word vectors, in terms of cosine similarity."
   ]
  },
  {
   "cell_type": "code",
   "execution_count": 33,
   "id": "1c8fcd69",
   "metadata": {},
   "outputs": [
    {
     "data": {
      "text/plain": [
       "[('marge', 0.6593793630599976),\n",
       " ('homie', 0.6120056509971619),\n",
       " ('dad', 0.586644172668457),\n",
       " ('moe', 0.5705775618553162),\n",
       " ('bart', 0.5647057890892029),\n",
       " ('son', 0.5607966780662537),\n",
       " ('but', 0.5501118302345276),\n",
       " ('honey', 0.5330860018730164),\n",
       " ('ned', 0.5255712866783142),\n",
       " ('well', 0.5097299814224243)]"
      ]
     },
     "execution_count": 33,
     "metadata": {},
     "output_type": "execute_result"
    }
   ],
   "source": [
    "w2v_s.wv.most_similar(\"homer\") # Marge is Homer's wife"
   ]
  },
  {
   "cell_type": "code",
   "execution_count": 34,
   "id": "1b0b648a",
   "metadata": {},
   "outputs": [
    {
     "data": {
      "text/plain": [
       "[('homer', 0.9999998807907104),\n",
       " ('marge', 0.6593793630599976),\n",
       " ('homie', 0.6120056509971619),\n",
       " ('dad', 0.586644172668457),\n",
       " ('moe', 0.5705775618553162),\n",
       " ('bart', 0.5647057890892029),\n",
       " ('son', 0.5607966780662537),\n",
       " ('but', 0.5501118302345276),\n",
       " ('honey', 0.5330860018730164),\n",
       " ('ned', 0.5255712866783142)]"
      ]
     },
     "execution_count": 34,
     "metadata": {},
     "output_type": "execute_result"
    }
   ],
   "source": [
    "w2v_s.wv.most_similar(homer_vector)"
   ]
  },
  {
   "cell_type": "code",
   "execution_count": 35,
   "id": "22a9c52e",
   "metadata": {},
   "outputs": [
    {
     "data": {
      "text/plain": [
       "[('robert', 0.49677714705467224),\n",
       " ('montgomery_burns', 0.4636591970920563),\n",
       " ('kent_brockman', 0.4602481722831726),\n",
       " ('ned_flanders', 0.4517003893852234),\n",
       " ('manager', 0.44521698355674744),\n",
       " ('mr_burns', 0.4346499741077423),\n",
       " ('sideshow_bob', 0.4296829402446747),\n",
       " ('bart_simpson', 0.4286467134952545),\n",
       " ('rabbi', 0.4273083508014679),\n",
       " ('hutz', 0.4256899356842041)]"
      ]
     },
     "execution_count": 35,
     "metadata": {},
     "output_type": "execute_result"
    }
   ],
   "source": [
    "w2v_s.wv.most_similar(\"homer_simpson\") # name bigram"
   ]
  },
  {
   "cell_type": "code",
   "execution_count": 36,
   "id": "67437c5b",
   "metadata": {},
   "outputs": [
    {
     "data": {
      "text/plain": [
       "[('lisa', 0.6480810046195984),\n",
       " ('milhouse', 0.6399539113044739),\n",
       " ('dad', 0.6044421792030334),\n",
       " ('homer', 0.5647057890892029),\n",
       " ('mom', 0.5577839612960815),\n",
       " ('your_father', 0.5532432198524475),\n",
       " ('son', 0.5313892960548401),\n",
       " ('honey', 0.5028467774391174),\n",
       " ('maggie', 0.486422598361969),\n",
       " ('well', 0.4840283989906311)]"
      ]
     },
     "execution_count": 36,
     "metadata": {},
     "output_type": "execute_result"
    }
   ],
   "source": [
    "w2v_s.wv.most_similar(\"bart\") # Bart is the son, Lisa his sister and Milhouse his best friend"
   ]
  },
  {
   "cell_type": "markdown",
   "id": "9b6d2dfa",
   "metadata": {},
   "source": [
    "One can also compute the cosine similarity between two word vectors"
   ]
  },
  {
   "cell_type": "code",
   "execution_count": 37,
   "id": "3b8a94fb",
   "metadata": {},
   "outputs": [
    {
     "data": {
      "text/plain": [
       "0.648081"
      ]
     },
     "execution_count": 37,
     "metadata": {},
     "output_type": "execute_result"
    }
   ],
   "source": [
    "w2v_s.wv.similarity('bart', 'lisa')"
   ]
  },
  {
   "cell_type": "code",
   "execution_count": 38,
   "id": "acff6c57",
   "metadata": {},
   "outputs": [
    {
     "data": {
      "text/plain": [
       "1.0"
      ]
     },
     "execution_count": 38,
     "metadata": {},
     "output_type": "execute_result"
    }
   ],
   "source": [
    "w2v_s.wv.similarity('bart', 'bart')"
   ]
  },
  {
   "cell_type": "markdown",
   "id": "0ca51aad",
   "metadata": {},
   "source": [
    "Odd-one-out identification:"
   ]
  },
  {
   "cell_type": "code",
   "execution_count": 39,
   "id": "1e05bde6",
   "metadata": {},
   "outputs": [
    {
     "data": {
      "text/plain": [
       "'homer'"
      ]
     },
     "execution_count": 39,
     "metadata": {},
     "output_type": "execute_result"
    }
   ],
   "source": [
    "w2v_s.wv.doesnt_match(['homer', 'patty', 'selma']) # Patty and Selma are Marge's twin sisters"
   ]
  },
  {
   "cell_type": "markdown",
   "id": "3bbc0f5e",
   "metadata": {},
   "source": [
    "Word analogies: how well do embeddings vectors capture intuitive semantic and syntactic analogy questions?"
   ]
  },
  {
   "cell_type": "code",
   "execution_count": 40,
   "id": "d13bddc2",
   "metadata": {},
   "outputs": [
    {
     "data": {
      "text/plain": [
       "[('marge', 0.5385385155677795),\n",
       " ('lisa', 0.535293698310852),\n",
       " ('homie', 0.5107763409614563)]"
      ]
     },
     "execution_count": 40,
     "metadata": {},
     "output_type": "execute_result"
    }
   ],
   "source": [
    "# \" Homer - man + woman = ? \" - i.e. \" man:Homer :: woman:? \"\n",
    "w2v_s.wv.most_similar(positive=[\"homer\", \"woman\"], negative=[\"man\"], topn=3) # Marge is Homer's wife"
   ]
  },
  {
   "cell_type": "code",
   "execution_count": 41,
   "id": "55155190",
   "metadata": {},
   "outputs": [
    {
     "data": {
      "text/plain": [
       "[('man', 0.49348142743110657),\n",
       " ('child', 0.4717772305011749),\n",
       " ('friend', 0.4468388855457306)]"
      ]
     },
     "execution_count": 41,
     "metadata": {},
     "output_type": "execute_result"
    }
   ],
   "source": [
    "# \" woman - Marge + Homer = ? \" - i.e. \" Marge:Homer :: woman:? \" \n",
    "w2v_s.wv.most_similar(positive=[\"woman\", \"homer\"], negative=[\"marge\"], topn=3)"
   ]
  },
  {
   "cell_type": "markdown",
   "id": "d42f30f4",
   "metadata": {},
   "source": [
    "### Sentence embedding"
   ]
  },
  {
   "cell_type": "code",
   "execution_count": 42,
   "id": "7b3ca96b",
   "metadata": {},
   "outputs": [],
   "source": [
    "def document2vec(tokens, embedding_wv, phraser=None, normalize=True):\n",
    "    \"\"\"Returns the embedding of a sentence or document as the mean of its tokens/words embeddings.\"\"\"\n",
    "    if phraser:\n",
    "        tokens = phraser[tokens]\n",
    "    sent_mean = np.array([embedding_wv.get_vector(tok, norm=normalize) for tok in tokens]).mean(axis=0)\n",
    "    return sent_mean"
   ]
  },
  {
   "cell_type": "code",
   "execution_count": 43,
   "id": "77703262",
   "metadata": {},
   "outputs": [
    {
     "data": {
      "text/plain": [
       "array([ 0.02951671,  0.05051985, -0.01147764,  0.00250905,  0.02797181,\n",
       "       -0.04177618, -0.01815402,  0.06632936, -0.03103207,  0.05728322,\n",
       "       -0.03415288,  0.06185882,  0.01379502, -0.012237  ,  0.0600308 ,\n",
       "       -0.07371085,  0.05660002, -0.04321506, -0.00117968,  0.00423469,\n",
       "        0.03577783, -0.03476532, -0.09413234,  0.02200813, -0.0224283 ,\n",
       "       -0.08386368,  0.02829584,  0.00567001,  0.051918  , -0.00260505,\n",
       "       -0.07733845, -0.01166051,  0.01938361, -0.00876098,  0.03038546,\n",
       "        0.09039616,  0.01135792,  0.00505491, -0.01039881,  0.01160451,\n",
       "        0.03023958, -0.00198646,  0.03735946,  0.06403868, -0.03261832,\n",
       "       -0.04678274,  0.00698215, -0.01436172, -0.04199128, -0.03298742,\n",
       "        0.02217922,  0.07795637,  0.01725201, -0.04941735,  0.06661747,\n",
       "       -0.05657046,  0.02422118, -0.03922039,  0.09386795,  0.05391004,\n",
       "        0.00784591, -0.0943244 , -0.09749899, -0.03016669, -0.00357802,\n",
       "        0.00299996, -0.01701612,  0.06620205, -0.00322717,  0.02000597,\n",
       "       -0.04155928, -0.11527262,  0.00347052,  0.01722545, -0.08774421,\n",
       "       -0.054214  ,  0.02122537, -0.02283395,  0.07221729,  0.00101469,\n",
       "       -0.01438611, -0.02169835,  0.06369475,  0.02092667,  0.05025315,\n",
       "       -0.0302673 , -0.08822731, -0.00161026, -0.02717103, -0.01875499,\n",
       "       -0.00108288, -0.03907765, -0.01104646, -0.01008329, -0.02592687,\n",
       "       -0.00716622, -0.05490251, -0.05173699, -0.0421258 ,  0.03760196,\n",
       "        0.08847567,  0.06791086,  0.1167242 ,  0.03968843,  0.04199542,\n",
       "        0.00816153, -0.04652144,  0.03551434, -0.10068641,  0.0389627 ,\n",
       "        0.08153207,  0.06639535, -0.01947308, -0.01177232,  0.01287325,\n",
       "        0.0310698 ,  0.07110912, -0.01116468, -0.01312155, -0.01258308,\n",
       "       -0.00518604,  0.03655003, -0.00013567,  0.03819786,  0.04177023,\n",
       "        0.02536281,  0.07798892, -0.0398029 , -0.0364076 ,  0.04854815,\n",
       "       -0.05025803, -0.00930449,  0.00547736,  0.00249642, -0.01723096,\n",
       "       -0.02885414,  0.02295668,  0.03625158, -0.07333686,  0.00478329,\n",
       "       -0.0075759 ,  0.10470787, -0.055725  , -0.01680529, -0.03234363,\n",
       "        0.01686616,  0.03165984, -0.02198209,  0.00987155, -0.02222178],\n",
       "      dtype=float32)"
      ]
     },
     "execution_count": 43,
     "metadata": {},
     "output_type": "execute_result"
    }
   ],
   "source": [
    "document2vec([\"bart\", \"is\", \"grounded\"], w2v_s.wv, phraser=phraser)"
   ]
  },
  {
   "cell_type": "markdown",
   "id": "3ae21d85",
   "metadata": {},
   "source": [
    "### Pretrained word2vec vectors"
   ]
  },
  {
   "cell_type": "markdown",
   "id": "3f07e270",
   "metadata": {},
   "source": [
    "https://github.com/RaRe-Technologies/gensim-data#models"
   ]
  },
  {
   "cell_type": "code",
   "execution_count": 44,
   "id": "cea08609",
   "metadata": {
    "scrolled": false
   },
   "outputs": [],
   "source": [
    "import gensim.downloader as gensim_api"
   ]
  },
  {
   "cell_type": "code",
   "execution_count": 45,
   "id": "4842ad1a",
   "metadata": {},
   "outputs": [],
   "source": [
    "w2v_pret = gensim_api.load('word2vec-google-news-300')"
   ]
  },
  {
   "cell_type": "code",
   "execution_count": null,
   "id": "93ca0624",
   "metadata": {},
   "outputs": [],
   "source": [
    "# Or from downloaded source (e.g. https://code.google.com/archive/p/word2vec/):\n",
    "#w2v_pret = KeyedVectors.load_word2vec_format('GoogleNews-vectors-negative300.bin', binary=True)"
   ]
  },
  {
   "cell_type": "code",
   "execution_count": 46,
   "id": "8cf6e802",
   "metadata": {},
   "outputs": [
    {
     "data": {
      "text/plain": [
       "<gensim.models.keyedvectors.KeyedVectors at 0x198c21a1970>"
      ]
     },
     "execution_count": 46,
     "metadata": {},
     "output_type": "execute_result"
    }
   ],
   "source": [
    "w2v_pret"
   ]
  },
  {
   "cell_type": "code",
   "execution_count": 47,
   "id": "f7ea335e",
   "metadata": {},
   "outputs": [
    {
     "data": {
      "text/plain": [
       "[('eating', 0.7529403567314148),\n",
       " ('ate', 0.7013993859291077),\n",
       " ('eaten', 0.6724975109100342),\n",
       " ('eats', 0.6589087843894958),\n",
       " ('munch', 0.6417747735977173),\n",
       " ('eat_healthfully', 0.6315395832061768),\n",
       " ('eat_fatty_foods', 0.6280142068862915),\n",
       " ('consume', 0.6184970140457153),\n",
       " ('Nutritionists_recommend', 0.6183844804763794),\n",
       " ('overeaten', 0.6109130382537842)]"
      ]
     },
     "execution_count": 47,
     "metadata": {},
     "output_type": "execute_result"
    }
   ],
   "source": [
    "w2v_pret.most_similar(positive=[\"eat\"])"
   ]
  },
  {
   "cell_type": "code",
   "execution_count": 48,
   "id": "de4fa1b1",
   "metadata": {},
   "outputs": [
    {
     "data": {
      "text/plain": [
       "0.6184971"
      ]
     },
     "execution_count": 48,
     "metadata": {},
     "output_type": "execute_result"
    }
   ],
   "source": [
    "w2v_pret.similarity(\"eat\", 'consume')"
   ]
  },
  {
   "cell_type": "code",
   "execution_count": 49,
   "id": "4caefd71",
   "metadata": {},
   "outputs": [
    {
     "data": {
      "text/plain": [
       "'dance'"
      ]
     },
     "execution_count": 49,
     "metadata": {},
     "output_type": "execute_result"
    }
   ],
   "source": [
    "w2v_pret.doesnt_match([\"eat\", 'dance', 'drink'])"
   ]
  },
  {
   "cell_type": "code",
   "execution_count": 50,
   "id": "525f3956",
   "metadata": {},
   "outputs": [
    {
     "data": {
      "text/plain": [
       "'car'"
      ]
     },
     "execution_count": 50,
     "metadata": {},
     "output_type": "execute_result"
    }
   ],
   "source": [
    "w2v_pret.doesnt_match(['fire', 'water', 'land', 'sea', 'air', 'car'])"
   ]
  },
  {
   "cell_type": "code",
   "execution_count": 51,
   "id": "5ab33091",
   "metadata": {},
   "outputs": [
    {
     "data": {
      "text/plain": [
       "[('queen', 0.7118193507194519),\n",
       " ('monarch', 0.6189674139022827),\n",
       " ('princess', 0.5902431011199951)]"
      ]
     },
     "execution_count": 51,
     "metadata": {},
     "output_type": "execute_result"
    }
   ],
   "source": [
    "w2v_pret.most_similar(positive=[\"king\", \"woman\"], negative=[\"man\"], topn=3)"
   ]
  },
  {
   "cell_type": "code",
   "execution_count": 52,
   "id": "8398d4a5",
   "metadata": {},
   "outputs": [
    {
     "data": {
      "text/plain": [
       "[('king', 0.7992597818374634),\n",
       " ('queen', 0.7118192911148071),\n",
       " ('monarch', 0.6189674139022827),\n",
       " ('princess', 0.5902431011199951),\n",
       " ('crown_prince', 0.5499460697174072),\n",
       " ('prince', 0.5377321839332581),\n",
       " ('kings', 0.5236844420433044),\n",
       " ('Queen_Consort', 0.5235945582389832),\n",
       " ('queens', 0.518113374710083),\n",
       " ('sultan', 0.5098593831062317)]"
      ]
     },
     "execution_count": 52,
     "metadata": {},
     "output_type": "execute_result"
    }
   ],
   "source": [
    "vectcalc = w2v_pret.get_vector(\"king\", norm=True) - w2v_pret.get_vector(\"man\", norm=True) + w2v_pret.get_vector(\"woman\", norm=True)\n",
    "w2v_pret.most_similar(vectcalc)"
   ]
  },
  {
   "cell_type": "markdown",
   "id": "e61dbb06",
   "metadata": {},
   "source": [
    "king - man + woman = king ?"
   ]
  },
  {
   "cell_type": "code",
   "execution_count": 75,
   "id": "d84f05ba",
   "metadata": {},
   "outputs": [
    {
     "data": {
      "text/plain": [
       "[('joseph', 0.620844841003418),\n",
       " ('boston_globe', 0.6205891370773315),\n",
       " ('liz', 0.6189237833023071),\n",
       " ('gerald', 0.6109275817871094),\n",
       " ('jta', 0.6039943099021912),\n",
       " ('jg', 0.6032029986381531),\n",
       " ('meyers', 0.6026628613471985),\n",
       " ('ellis', 0.5999051928520203),\n",
       " ('christine', 0.5992782115936279),\n",
       " ('becky', 0.5988665223121643)]"
      ]
     },
     "execution_count": 75,
     "metadata": {},
     "output_type": "execute_result"
    }
   ],
   "source": [
    "w2v_pret.most_similar(positive=[\"bart\"])"
   ]
  },
  {
   "cell_type": "code",
   "execution_count": 77,
   "id": "435548b8",
   "metadata": {},
   "outputs": [
    {
     "data": {
      "text/plain": [
       "[('lisa', 0.6480810046195984),\n",
       " ('milhouse', 0.6399539113044739),\n",
       " ('dad', 0.6044421792030334),\n",
       " ('homer', 0.5647057890892029),\n",
       " ('mom', 0.5577839612960815),\n",
       " ('your_father', 0.5532432198524475),\n",
       " ('son', 0.5313892960548401),\n",
       " ('honey', 0.5028467774391174),\n",
       " ('maggie', 0.486422598361969),\n",
       " ('well', 0.4840283989906311)]"
      ]
     },
     "execution_count": 77,
     "metadata": {},
     "output_type": "execute_result"
    }
   ],
   "source": [
    "w2v_s.wv.most_similar(\"bart\")"
   ]
  },
  {
   "cell_type": "markdown",
   "id": "ba72e10b",
   "metadata": {},
   "source": [
    "# Fasttext"
   ]
  },
  {
   "cell_type": "markdown",
   "id": "69cd1cc7",
   "metadata": {},
   "source": [
    "\"university\" , \"univ\", \"niver\", ... , \"sity\""
   ]
  },
  {
   "cell_type": "markdown",
   "id": "2e8e09bf",
   "metadata": {},
   "source": [
    "Fastext is a static word embedding, that is very similar to word2vec. As a main difference, it uses character-level ngram vectors together with the word vectors.\n",
    "\n",
    "Advantages:\n",
    "+ Out of training vocabulary embeddings are obtainable.\n",
    "+ Better representation for rare words (that are morphologically similar to others).\n",
    "+ Tends to perform better for syntactic tasks.\n",
    "+ Is more useful in morphologically rich languages (such as German, Arabic and Russian) compared to English (German example: 'table tennis' -> 'Tischtennis'), but it heavily depends on the task.\n",
    "+ might work better for small datasets.\n",
    "+ The \"official\" implementation is quite efficient, and allows training the embedding and classifier at once (see the official `fasttest` package documentation https://fasttext.cc/docs/en/python-module.html).\n",
    "\n",
    "Disatvantages:\n",
    "- Can overfit more easily, and is a bit harder to fine tune with the additionnal character ngram hyperparameters.\n",
    "- Tends to perform more poorly for semantic tasks.\n",
    "- May tend to privilege too much the morphologically close synonyms compared to other semantically closer synomyms.\n",
    "- Can be heavier to train.\n",
    "\n",
    "However, the differences between fasttext and word2vec thend to decrease as the size of the training corpus increases.\n",
    "\n",
    "Official website: https://fasttext.cc/\n",
    "\n",
    "Original paper: https://arxiv.org/abs/1607.04606"
   ]
  },
  {
   "cell_type": "markdown",
   "id": "74f2a656",
   "metadata": {},
   "source": [
    "### Training fasttext on the Simpson scripts"
   ]
  },
  {
   "cell_type": "code",
   "execution_count": 53,
   "id": "1fe7c87b",
   "metadata": {},
   "outputs": [],
   "source": [
    "from gensim.models import FastText"
   ]
  },
  {
   "cell_type": "code",
   "execution_count": 54,
   "id": "3685e271",
   "metadata": {},
   "outputs": [],
   "source": [
    "fst_s = FastText(corpus_phrased, vector_size=150, window=3, min_count=5, sg=0, negative=5, ns_exponent=0.75,\n",
    "                 min_n=3, max_n=6, #Additional fasttest hyperparameters\n",
    "                 alpha=0.025, min_alpha=0.0001, workers=cores-1, epochs=30)"
   ]
  },
  {
   "cell_type": "markdown",
   "id": "1d0ce61e",
   "metadata": {},
   "source": [
    "Can also be performed in separate steps:\n",
    "\n",
    "    fst_s = FastText(vector_size=150, window=3, min_count=5, sg=0, negative=5, ns_exponent=0.75,\n",
    "                     min_n = 1, max_n = 4,\n",
    "                     alpha=0.025, min_alpha=0.0001, workers=cores-1)\n",
    "    fst_s.build_vocab(corpus_phrased)\n",
    "    print(len(fst_s.wv.vocab.keys()))\n",
    "    fst_s.train(sentences, total_examples = fst_s.corpus_count, epochs=100) "
   ]
  },
  {
   "cell_type": "code",
   "execution_count": 60,
   "id": "c1661375",
   "metadata": {},
   "outputs": [
    {
     "data": {
      "text/plain": [
       "(False, False)"
      ]
     },
     "execution_count": 60,
     "metadata": {},
     "output_type": "execute_result"
    }
   ],
   "source": [
    "\"unige\" in fst_s.wv.index_to_key, \"unige\" in w2v_s.wv.index_to_key"
   ]
  },
  {
   "cell_type": "code",
   "execution_count": 61,
   "id": "da69fcb1",
   "metadata": {},
   "outputs": [
    {
     "name": "stdout",
     "output_type": "stream",
     "text": [
      "KeyError: the given token is not not present in the vocabulary.\n"
     ]
    }
   ],
   "source": [
    "try:\n",
    "    print(w2v_s.wv.get_vector(\"unige\", norm=True))\n",
    "except:\n",
    "    print(\"KeyError: the given token is not not present in the vocabulary.\")"
   ]
  },
  {
   "cell_type": "code",
   "execution_count": 62,
   "id": "6ff45ae1",
   "metadata": {},
   "outputs": [
    {
     "name": "stdout",
     "output_type": "stream",
     "text": [
      "[-2.32658256e-02  1.54256532e-02  1.02248400e-01  3.65314335e-02\n",
      "  2.44426336e-02  2.30771720e-01 -1.05185851e-01  1.25458771e-02\n",
      "  1.01180095e-02  7.86468089e-02 -4.43905145e-02 -1.22101642e-02\n",
      "  2.64566615e-02  1.10361949e-01  1.82546936e-02 -8.55090022e-02\n",
      " -4.48813327e-02 -2.48250179e-02  1.09720200e-01  1.76316015e-02\n",
      " -1.21377856e-02 -1.01584643e-01  6.26003295e-02  1.60837501e-01\n",
      "  1.28992632e-01  1.66536812e-02 -2.00505257e-01  6.09177910e-02\n",
      "  6.00020774e-02 -1.29563481e-01 -8.92450511e-02 -2.23424267e-02\n",
      "  2.59135365e-02 -8.79552215e-02  1.66614115e-01  1.44762427e-01\n",
      "  8.79511461e-02 -9.38010067e-02 -1.18069828e-01  8.03272575e-02\n",
      " -1.60505429e-01  1.40563279e-01 -1.00491950e-02 -4.79830131e-02\n",
      " -1.38284331e-02  3.78725417e-02 -1.32014439e-01 -1.01249419e-01\n",
      " -1.79909602e-01  1.01562396e-01 -4.72330190e-02  3.71297598e-02\n",
      "  6.80269897e-02  2.32637161e-03  1.23015074e-02 -7.23210722e-02\n",
      "  5.05620390e-02  1.35850720e-02 -4.44205254e-02 -1.12646095e-01\n",
      "  3.80120017e-02 -9.97520909e-02  4.82846471e-03 -2.30686162e-02\n",
      "  2.40648836e-02  6.17677532e-02  4.33885632e-03 -6.59904443e-03\n",
      " -2.05601426e-03  5.83786890e-02  2.24634167e-03 -2.85321176e-02\n",
      "  3.90330143e-02  5.26028201e-02  4.42129038e-02 -1.68620273e-01\n",
      "  4.98763379e-03  4.38599549e-02 -1.03032934e-02  3.83163318e-02\n",
      "  5.36419190e-02 -7.22982850e-06 -3.16464230e-02 -2.71479376e-02\n",
      " -5.90357073e-02 -4.91731688e-02  1.55384988e-01  1.17227681e-01\n",
      "  3.84942405e-02  6.99682608e-02 -1.06705958e-02 -5.87118901e-02\n",
      " -2.94052344e-02 -5.59136905e-02 -6.40149489e-02 -7.67353252e-02\n",
      "  6.75671697e-02  5.37010990e-02 -2.37074122e-02  5.20545729e-02\n",
      " -3.52114352e-04  4.49695513e-02  1.20338276e-01 -1.05500728e-01\n",
      " -3.08912750e-02 -9.82618332e-02  1.10198028e-01 -5.14086820e-02\n",
      "  7.64912814e-02  2.27170587e-02  7.37298280e-02 -7.30164722e-02\n",
      "  3.68559286e-02  1.04678934e-02  1.72447376e-02  3.30907516e-02\n",
      "  6.57959934e-03 -1.23801433e-01 -1.26848454e-02  2.14624815e-02\n",
      " -2.40426976e-02 -1.19940720e-01  8.64536390e-02 -2.48679742e-01\n",
      "  1.22365586e-01 -1.34260938e-01 -6.82511479e-02  6.26935586e-02\n",
      "  5.54111861e-02 -1.09535180e-01 -1.01576716e-01  1.71880294e-02\n",
      "  1.30778164e-01 -7.83359483e-02 -2.85547469e-02 -2.15054140e-03\n",
      "  4.99678962e-02 -8.44022036e-02  1.04898721e-01  5.19056693e-02\n",
      " -4.78493683e-02 -3.28012668e-02 -1.03911953e-02  1.69341624e-01\n",
      "  5.31339161e-02  3.62595692e-02 -6.02004305e-02 -5.64562120e-02\n",
      "  1.63954660e-01  6.09417334e-02]\n"
     ]
    }
   ],
   "source": [
    "try:\n",
    "    print(fst_s.wv.get_vector(\"unige\", norm=True))\n",
    "except:\n",
    "    print(\"KeyError: the given token is not not present in the vocabulary.\")"
   ]
  },
  {
   "cell_type": "code",
   "execution_count": 63,
   "id": "e289f1e1",
   "metadata": {},
   "outputs": [
    {
     "data": {
      "text/plain": [
       "[('unit', 0.8582980632781982),\n",
       " ('unite', 0.8408799767494202),\n",
       " ('university', 0.8266153931617737),\n",
       " ('unique', 0.8156555891036987),\n",
       " ('union', 0.7794871926307678),\n",
       " ('universe', 0.7756810188293457),\n",
       " ('un', 0.7631798982620239),\n",
       " ('united_states', 0.7625829577445984),\n",
       " ('village', 0.760526180267334),\n",
       " ('universal', 0.7568336129188538)]"
      ]
     },
     "execution_count": 63,
     "metadata": {},
     "output_type": "execute_result"
    }
   ],
   "source": [
    "fst_s.wv.most_similar(\"unige\")"
   ]
  },
  {
   "cell_type": "code",
   "execution_count": 64,
   "id": "65c1e320",
   "metadata": {},
   "outputs": [
    {
     "data": {
      "text/plain": [
       "[('homey', 0.8053441643714905),\n",
       " ('homer_j', 0.771196186542511),\n",
       " ('homeboy', 0.7320456504821777),\n",
       " ('homie', 0.7198623418807983),\n",
       " ('homers', 0.7179117798805237),\n",
       " ('knockahomer', 0.7139254808425903),\n",
       " ('homemaker', 0.7117170095443726),\n",
       " ('marge', 0.7071914076805115),\n",
       " ('homer_simpson', 0.6997377872467041),\n",
       " ('bart', 0.6730086803436279)]"
      ]
     },
     "execution_count": 64,
     "metadata": {},
     "output_type": "execute_result"
    }
   ],
   "source": [
    "fst_s.wv.most_similar(\"homer\", topn = 10)"
   ]
  },
  {
   "cell_type": "code",
   "execution_count": 65,
   "id": "699e5aa7",
   "metadata": {},
   "outputs": [
    {
     "data": {
      "text/plain": [
       "[('maaarge', 0.8417245745658875),\n",
       " ('margie', 0.8175097703933716),\n",
       " ('marge-a-rine', 0.7889267206192017),\n",
       " ('marges', 0.775191605091095),\n",
       " ('sarge', 0.7706901431083679),\n",
       " ('margaret', 0.7593051195144653),\n",
       " ('margarita', 0.7477173209190369),\n",
       " ('homer', 0.7071914672851562),\n",
       " ('marie', 0.6962291598320007),\n",
       " ('marjorie', 0.6722584366798401)]"
      ]
     },
     "execution_count": 65,
     "metadata": {},
     "output_type": "execute_result"
    }
   ],
   "source": [
    "fst_s.wv.most_similar(\"marge\", topn = 10)"
   ]
  },
  {
   "cell_type": "code",
   "execution_count": 66,
   "id": "fc1181a1",
   "metadata": {
    "scrolled": false
   },
   "outputs": [
    {
     "data": {
      "text/plain": [
       "[('homer', 0.6593793630599976),\n",
       " ('abe', 0.5592204928398132),\n",
       " ('homie', 0.5501308441162109),\n",
       " ('honey', 0.5463864207267761),\n",
       " ('lisa', 0.5315233469009399),\n",
       " ('maggie', 0.5128048062324524),\n",
       " ('but', 0.4928845465183258),\n",
       " ('family', 0.49145132303237915),\n",
       " ('moe', 0.47630375623703003),\n",
       " ('mom', 0.4672625958919525)]"
      ]
     },
     "execution_count": 66,
     "metadata": {},
     "output_type": "execute_result"
    }
   ],
   "source": [
    "w2v_s.wv.most_similar(\"marge\", topn = 10)"
   ]
  },
  {
   "cell_type": "code",
   "execution_count": 67,
   "id": "1250e569",
   "metadata": {},
   "outputs": [
    {
     "data": {
      "text/plain": [
       "[('teat', 0.7125701308250427),\n",
       " ('neat', 0.6677605509757996),\n",
       " ('beat', 0.6515675783157349),\n",
       " ('earn', 0.6420717835426331),\n",
       " ('sweat', 0.6323785185813904),\n",
       " ('eatin', 0.6129869818687439),\n",
       " ('meat', 0.6103528738021851),\n",
       " ('drink', 0.6020302176475525),\n",
       " ('eats', 0.6009734869003296),\n",
       " ('cheat', 0.5747995376586914)]"
      ]
     },
     "execution_count": 67,
     "metadata": {},
     "output_type": "execute_result"
    }
   ],
   "source": [
    "fst_s.wv.most_similar(\"eat\", topn = 10)"
   ]
  },
  {
   "cell_type": "code",
   "execution_count": 68,
   "id": "8fc77d1d",
   "metadata": {
    "scrolled": true
   },
   "outputs": [
    {
     "data": {
      "text/plain": [
       "[('drink', 0.5764316916465759),\n",
       " ('buy', 0.5259267687797546),\n",
       " ('steal', 0.5198866724967957),\n",
       " ('feed', 0.5180990099906921),\n",
       " ('wear', 0.5007943511009216),\n",
       " ('suck', 0.49226200580596924),\n",
       " ('lose', 0.491549015045166),\n",
       " ('sell', 0.4849689304828644),\n",
       " ('throw', 0.4725513756275177),\n",
       " ('scrape', 0.4724678695201874)]"
      ]
     },
     "execution_count": 68,
     "metadata": {},
     "output_type": "execute_result"
    }
   ],
   "source": [
    "w2v_s.wv.most_similar(\"eat\", topn = 10)"
   ]
  },
  {
   "cell_type": "markdown",
   "id": "394fa992",
   "metadata": {},
   "source": [
    "### Pretrained fasttext vectors"
   ]
  },
  {
   "cell_type": "code",
   "execution_count": 69,
   "id": "5eb1fa74",
   "metadata": {},
   "outputs": [],
   "source": [
    "fst_pret = gensim_api.load('fasttext-wiki-news-subwords-300')"
   ]
  },
  {
   "cell_type": "code",
   "execution_count": null,
   "id": "ce25f9df",
   "metadata": {},
   "outputs": [],
   "source": [
    "# or from downloaded source (e.g. https://fasttext.cc/docs/en/english-vectors.html):\n",
    "# fst_pret = FastText.load_fasttext_format('fasttest_file')"
   ]
  },
  {
   "cell_type": "code",
   "execution_count": 70,
   "id": "38ac3b39",
   "metadata": {},
   "outputs": [
    {
     "data": {
      "text/plain": [
       "[('eate', 0.80073082447052),\n",
       " ('eat-', 0.7924754619598389),\n",
       " ('eatin', 0.7710843682289124),\n",
       " ('eating', 0.7475292682647705),\n",
       " ('ate', 0.739423930644989),\n",
       " ('eat.', 0.7381978631019592),\n",
       " ('eats', 0.7242209315299988),\n",
       " ('consume', 0.7190532088279724),\n",
       " ('eaten', 0.7079055905342102),\n",
       " ('eatable', 0.7070158123970032)]"
      ]
     },
     "execution_count": 70,
     "metadata": {},
     "output_type": "execute_result"
    }
   ],
   "source": [
    "fst_pret.most_similar(\"eat\", topn = 10)"
   ]
  },
  {
   "cell_type": "code",
   "execution_count": 71,
   "id": "bdce5fda",
   "metadata": {},
   "outputs": [
    {
     "data": {
      "text/plain": [
       "[('eating', 0.7529403567314148),\n",
       " ('ate', 0.7013993859291077),\n",
       " ('eaten', 0.6724975109100342),\n",
       " ('eats', 0.6589087843894958),\n",
       " ('munch', 0.6417747735977173),\n",
       " ('eat_healthfully', 0.6315395832061768),\n",
       " ('eat_fatty_foods', 0.6280142068862915),\n",
       " ('consume', 0.6184970140457153),\n",
       " ('Nutritionists_recommend', 0.6183844804763794),\n",
       " ('overeaten', 0.6109130382537842)]"
      ]
     },
     "execution_count": 71,
     "metadata": {},
     "output_type": "execute_result"
    }
   ],
   "source": [
    "w2v_pret.most_similar(\"eat\", topn = 10)"
   ]
  },
  {
   "cell_type": "code",
   "execution_count": 72,
   "id": "c3c92413",
   "metadata": {},
   "outputs": [
    {
     "data": {
      "text/plain": [
       "[('consumes', 0.7680187821388245),\n",
       " ('over-consume', 0.7483881711959839),\n",
       " ('consumed', 0.7472653388977051),\n",
       " ('consuming', 0.7410412430763245),\n",
       " ('eat', 0.7190532088279724),\n",
       " ('overconsume', 0.6897545456886292),\n",
       " ('devour', 0.6756592392921448),\n",
       " ('ingest', 0.65708327293396),\n",
       " ('Consume', 0.6442354917526245),\n",
       " ('consumption', 0.6395013928413391)]"
      ]
     },
     "execution_count": 72,
     "metadata": {},
     "output_type": "execute_result"
    }
   ],
   "source": [
    "fst_pret.most_similar(\"consume\", topn = 10)"
   ]
  },
  {
   "cell_type": "code",
   "execution_count": 73,
   "id": "a52b166e",
   "metadata": {},
   "outputs": [
    {
     "data": {
      "text/plain": [
       "[('consumed', 0.698164701461792),\n",
       " ('consumes', 0.6695359349250793),\n",
       " ('eat', 0.6184970736503601),\n",
       " ('consumption', 0.6043094992637634),\n",
       " ('guzzle', 0.5901384949684143),\n",
       " ('ingest', 0.5877813696861267),\n",
       " ('consuming', 0.5756837725639343),\n",
       " ('overconsume', 0.5606318712234497),\n",
       " ('devour', 0.5577657222747803),\n",
       " ('Consuming', 0.5523046851158142)]"
      ]
     },
     "execution_count": 73,
     "metadata": {},
     "output_type": "execute_result"
    }
   ],
   "source": [
    "w2v_pret.most_similar(\"consume\", topn = 10)"
   ]
  },
  {
   "cell_type": "markdown",
   "id": "7ef9f974",
   "metadata": {},
   "source": [
    "# GloVe"
   ]
  },
  {
   "cell_type": "markdown",
   "id": "442cfa50",
   "metadata": {},
   "source": [
    "Contrary to word2vec and fasttext, GloVe doesn't use skipgram or CBOW networks. GloVe relies on word-context co-occurrence matrix factorization to obtain the embedded word vectors.\n",
    "\n",
    "- GloVe can be longer to train on larger corpora, compared to word2vec.\n",
    "- It has fewer hyperparameters, so it's much easier to tune, but then cannot be fine tuned for a specific task.\n",
    "- word2vec and fasttext are in comparison much more sensitive to the coices of hyperparameters, and results can thus vary much more.\n",
    "\n",
    "Official website: https://nlp.stanford.edu/projects/glove/\n",
    "\n",
    "Original paper: https://nlp.stanford.edu/pubs/glove.pdf"
   ]
  },
  {
   "cell_type": "markdown",
   "id": "82a9f4d3",
   "metadata": {},
   "source": [
    "https://nlp.stanford.edu/projects/glove/"
   ]
  },
  {
   "cell_type": "code",
   "execution_count": 78,
   "id": "b63fb45f",
   "metadata": {},
   "outputs": [],
   "source": [
    "glv_pret = gensim_api.load(\"glove-wiki-gigaword-200\")\n",
    "\n",
    "# Are already available in gensim:\n",
    "#'glove-wiki-gigaword-50', 'glove-wiki-gigaword-100', 'glove-wiki-gigaword-200', 'glove-wiki-gigaword-300',\n",
    "#'glove-twitter-25', 'glove-twitter-50', 'glove-twitter-100', 'glove-twitter-200'"
   ]
  },
  {
   "cell_type": "markdown",
   "id": "7294cb5f",
   "metadata": {},
   "source": [
    "From downloaded source (e.g. https://nlp.stanford.edu/projects/glove/), one can do:\n",
    "\n",
    "    from gensim.test.utils import datapath, get_tmpfile\n",
    "    from gensim.models import KeyedVectors\n",
    "    from gensim.scripts.glove2word2vec import glove2word2vec\n",
    "    glove_file = datapath('DOWNLOADED_GLOVE_VECTORS.txt')\n",
    "    tmp_file = get_tmpfile(\"test_word2vec.txt\")\n",
    "    glove2word2vec(glove_file, tmp_file)\n",
    "    model = KeyedVectors.load_word2vec_format(tmp_file)"
   ]
  },
  {
   "cell_type": "code",
   "execution_count": 79,
   "id": "02bac8df",
   "metadata": {},
   "outputs": [
    {
     "data": {
      "text/plain": [
       "[('faster', 0.7852828502655029),\n",
       " ('slow', 0.6931735873222351),\n",
       " ('slower', 0.6770131587982178)]"
      ]
     },
     "execution_count": 79,
     "metadata": {},
     "output_type": "execute_result"
    }
   ],
   "source": [
    "glv_pret.most_similar(positive=[\"better\", \"fast\"], negative=[\"good\"], topn=3)"
   ]
  },
  {
   "cell_type": "code",
   "execution_count": 80,
   "id": "97a9c62c",
   "metadata": {},
   "outputs": [
    {
     "data": {
      "text/plain": [
       "[('eating', 0.7841552495956421),\n",
       " ('ate', 0.7657052874565125),\n",
       " ('eaten', 0.7538666129112244),\n",
       " ('meal', 0.6805590987205505),\n",
       " ('consume', 0.6571250557899475),\n",
       " ('eats', 0.6406125426292419),\n",
       " ('food', 0.6227813363075256),\n",
       " ('meat', 0.6211603879928589),\n",
       " ('drink', 0.6211259961128235),\n",
       " ('vegetables', 0.6168597340583801)]"
      ]
     },
     "execution_count": 80,
     "metadata": {},
     "output_type": "execute_result"
    }
   ],
   "source": [
    "glv_pret.most_similar(\"eat\", topn = 10)"
   ]
  },
  {
   "cell_type": "code",
   "execution_count": 81,
   "id": "6d253f2c",
   "metadata": {},
   "outputs": [
    {
     "data": {
      "text/plain": [
       "[('consumed', 0.7226211428642273),\n",
       " ('consumes', 0.6638200283050537),\n",
       " ('eat', 0.657124936580658),\n",
       " ('consuming', 0.6452376842498779),\n",
       " ('devour', 0.5809320211410522),\n",
       " ('consumption', 0.5808643698692322),\n",
       " ('feed', 0.5677404999732971),\n",
       " ('ingest', 0.5554704666137695),\n",
       " ('calories', 0.5538193583488464),\n",
       " ('drink', 0.5402347445487976)]"
      ]
     },
     "execution_count": 81,
     "metadata": {},
     "output_type": "execute_result"
    }
   ],
   "source": [
    "glv_pret.most_similar(\"consume\", topn = 10)"
   ]
  },
  {
   "cell_type": "markdown",
   "id": "639a4491",
   "metadata": {},
   "source": [
    "### Remark: training GloVe"
   ]
  },
  {
   "cell_type": "markdown",
   "id": "aa8416f5",
   "metadata": {},
   "source": [
    "Training GloVe vectors is not possible with gensim. If interested, one can use the [official GloVe code](https://nlp.stanford.edu/projects/glove/) (command line interface).\n",
    "\n",
    "For a python interface, see for example the (\"toy implementation\") [`glove_python`](https://github.com/maciejkula/glove-python) pachage\n",
    "\n",
    "    !pip install glove_python"
   ]
  },
  {
   "cell_type": "markdown",
   "id": "5f1d4a4b",
   "metadata": {},
   "source": [
    "### See also other vector embeddings..."
   ]
  },
  {
   "cell_type": "markdown",
   "id": "dc1217d0",
   "metadata": {},
   "source": [
    "https://github.com/RaRe-Technologies/gensim-data#models"
   ]
  },
  {
   "cell_type": "code",
   "execution_count": 84,
   "id": "13734dad",
   "metadata": {},
   "outputs": [
    {
     "data": {
      "text/plain": [
       "'ConceptNet Numberbatch consists of state-of-the-art semantic vectors (also known as word embeddings) that can be used directly as a representation of word meanings or as a starting point for further machine learning. ConceptNet Numberbatch is part of the ConceptNet open data project. ConceptNet provides lots of ways to compute with word meanings, one of which is word embeddings. ConceptNet Numberbatch is a snapshot of just the word embeddings. It is built using an ensemble that combines data from ConceptNet, word2vec, GloVe, and OpenSubtitles 2016, using a variation on retrofitting.'"
      ]
     },
     "execution_count": 84,
     "metadata": {},
     "output_type": "execute_result"
    }
   ],
   "source": [
    "gensim_api.info('conceptnet-numberbatch-17-06-300')['description']\n",
    "#conceptnet = gensim_api.load(\"conceptnet-numberbatch-17-06-300\")"
   ]
  },
  {
   "cell_type": "markdown",
   "id": "eef2d347",
   "metadata": {},
   "source": [
    "# Saving gensim models and word vectors"
   ]
  },
  {
   "cell_type": "markdown",
   "id": "b3a9a923",
   "metadata": {},
   "source": [
    "One can save either the entire model (if further training is expected)."
   ]
  },
  {
   "cell_type": "code",
   "execution_count": null,
   "id": "01d9cfac",
   "metadata": {},
   "outputs": [],
   "source": [
    "w2v_s.save('word2vec_simpson_model')\n",
    "w2v_s = Word2Vec.load('word2vec_simpson_model')"
   ]
  },
  {
   "cell_type": "markdown",
   "id": "ac40a19a",
   "metadata": {},
   "source": [
    "Or only the word vectors (the `KeyedVectors`-type attribute) if the vecors are final. They are much more memory-efficient to save."
   ]
  },
  {
   "cell_type": "code",
   "execution_count": 82,
   "id": "a64dadde",
   "metadata": {
    "scrolled": false
   },
   "outputs": [],
   "source": [
    "w2v_s.wv.save('word2vec_simpson_word_vectors')\n",
    "w2v_s_wv = KeyedVectors.load('word2vec_simpson_word_vectors')"
   ]
  },
  {
   "cell_type": "code",
   "execution_count": 83,
   "id": "2347d1c8",
   "metadata": {},
   "outputs": [
    {
     "data": {
      "text/plain": [
       "[('lisa', 0.6480810046195984),\n",
       " ('milhouse', 0.6399539113044739),\n",
       " ('dad', 0.6044421792030334),\n",
       " ('homer', 0.5647057890892029),\n",
       " ('mom', 0.5577839612960815),\n",
       " ('your_father', 0.5532432198524475),\n",
       " ('son', 0.5313892960548401),\n",
       " ('honey', 0.5028467774391174),\n",
       " ('maggie', 0.486422598361969),\n",
       " ('well', 0.4840283989906311)]"
      ]
     },
     "execution_count": 83,
     "metadata": {},
     "output_type": "execute_result"
    }
   ],
   "source": [
    "w2v_s_wv.most_similar(\"bart\")"
   ]
  },
  {
   "cell_type": "markdown",
   "id": "9671a4f9",
   "metadata": {},
   "source": [
    "# Exercise: ML classification using advanced static embeddings\n",
    "\n",
    "Compare the performance of the logistic regression classifier on the 20newsgroup dataset using word2vect, GloVe or fasttext to the performance achieved in the previous seminar using TF-IDF."
   ]
  }
 ],
 "metadata": {
  "kernelspec": {
   "display_name": "Python 3 (ipykernel)",
   "language": "python",
   "name": "python3"
  },
  "language_info": {
   "codemirror_mode": {
    "name": "ipython",
    "version": 3
   },
   "file_extension": ".py",
   "mimetype": "text/x-python",
   "name": "python",
   "nbconvert_exporter": "python",
   "pygments_lexer": "ipython3",
   "version": "3.9.16"
  }
 },
 "nbformat": 4,
 "nbformat_minor": 5
}
