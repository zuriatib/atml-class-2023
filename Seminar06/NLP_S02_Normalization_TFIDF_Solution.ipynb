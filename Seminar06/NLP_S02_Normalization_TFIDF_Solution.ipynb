{
 "cells": [
  {
   "cell_type": "markdown",
   "metadata": {
    "id": "6Jwv4NQIZQx3"
   },
   "source": [
    "# NLP Seminar 2 - Normalization and Simple Word Embeddings"
   ]
  },
  {
   "cell_type": "markdown",
   "metadata": {},
   "source": [
    "# 0. Preliminaries"
   ]
  },
  {
   "cell_type": "markdown",
   "metadata": {},
   "source": [
    "In this first NLP seminar, we focus on classical text normalization methods (stemming, lemmatization) and simple word embedding/vectorization techniques (bag of words, TF-IDF), that will allow us to train machine learning methods on text data. We use again the `nltk` (natural language toolkit) python package, as well as `scikit-learn`."
   ]
  },
  {
   "cell_type": "code",
   "execution_count": 1,
   "metadata": {
    "executionInfo": {
     "elapsed": 1946,
     "status": "ok",
     "timestamp": 1662019861618,
     "user": {
      "displayName": "Zach Schillaci",
      "userId": "04144020147330636013"
     },
     "user_tz": -120
    },
    "id": "ZSzIHTvFUnOn"
   },
   "outputs": [],
   "source": [
    "# Module imports\n",
    "import nltk\n",
    "import numpy as np\n",
    "import pandas as pd\n",
    "import matplotlib.pyplot as plt\n",
    "import sklearn\n",
    "from sklearnex import patch_sklearn\n",
    "patch_sklearn(verbose=False)"
   ]
  },
  {
   "cell_type": "code",
   "execution_count": 2,
   "metadata": {
    "colab": {
     "base_uri": "https://localhost:8080/"
    },
    "executionInfo": {
     "elapsed": 999,
     "status": "ok",
     "timestamp": 1662019862614,
     "user": {
      "displayName": "Zach Schillaci",
      "userId": "04144020147330636013"
     },
     "user_tz": -120
    },
    "id": "-AtJGJBCWZpo",
    "outputId": "1f533aca-94fc-4526-b7f7-18af2bbce299"
   },
   "outputs": [
    {
     "data": {
      "text/plain": [
       "True"
      ]
     },
     "execution_count": 2,
     "metadata": {},
     "output_type": "execute_result"
    }
   ],
   "source": [
    "# First download some nltk resources\n",
    "#nltk.download(\"stopwords\")\n",
    "#nltk.download(\"wordnet\")\n",
    "#nltk.download(\"omw-1.4\")\n",
    "#nltk.download(\"punkt\")\n",
    "#nltk.download(\"averaged_perceptron_tagger\")\n",
    "# alternatively, they are all part of:\n",
    "nltk.download('popular', quiet=True)\n",
    "nltk.download('universal_tagset', quiet=True)"
   ]
  },
  {
   "cell_type": "markdown",
   "metadata": {
    "id": "m8pxK9ucU-LX"
   },
   "source": [
    "# 1. Download the data\n"
   ]
  },
  {
   "cell_type": "markdown",
   "metadata": {},
   "source": [
    "We will work with the famous `20newsgroups` dataset. It consists of a large collection of news posts across 20 topics. We will be using it to test some basic NLP techniques and train a multi-class classification model to predict the most likely topic for unseen news posts. \n",
    "For more information, check [the dataset description](https://scikit-learn.org/stable/datasets/real_world.html#the-20-newsgroups-text-dataset) and the [import function helper](https://scikit-learn.org/stable/modules/generated/sklearn.datasets.fetch_20newsgroups.html)\n",
    "\n",
    "To make the task a bit harder, we import the data without the headers, footers and quotes.\n",
    "\n",
    "We also restrict the dataset to only 4 of the categories, for presentation simplicity."
   ]
  },
  {
   "cell_type": "code",
   "execution_count": 4,
   "metadata": {
    "executionInfo": {
     "elapsed": 19957,
     "status": "ok",
     "timestamp": 1662019882569,
     "user": {
      "displayName": "Zach Schillaci",
      "userId": "04144020147330636013"
     },
     "user_tz": -120
    },
    "id": "VBE9MVJDTSHK"
   },
   "outputs": [],
   "source": [
    "from sklearn.datasets import fetch_20newsgroups\n",
    "# we restrict the data to the following response categories:\n",
    "categories = ['alt.atheism', 'soc.religion.christian', 'comp.graphics', 'sci.med']\n",
    "\n",
    "data_train = fetch_20newsgroups(subset=\"train\", categories=categories, shuffle=True, random_state=42,\n",
    "                                remove=(\"headers\", \"footers\", \"quotes\"))\n",
    "\n",
    "data_test = fetch_20newsgroups(subset=\"test\", categories=categories, shuffle=True, random_state=42,\n",
    "                               remove=(\"headers\", \"footers\", \"quotes\"))\n",
    "\n",
    "df_train = pd.DataFrame({\"text\": data_train.data, \"class\": data_train.target})\n",
    "df_test = pd.DataFrame({\"text\": data_test.data, \"class\": data_test.target})"
   ]
  },
  {
   "cell_type": "code",
   "execution_count": 5,
   "metadata": {
    "colab": {
     "base_uri": "https://localhost:8080/",
     "height": 206
    },
    "executionInfo": {
     "elapsed": 21,
     "status": "ok",
     "timestamp": 1662019882569,
     "user": {
      "displayName": "Zach Schillaci",
      "userId": "04144020147330636013"
     },
     "user_tz": -120
    },
    "id": "yaOYzXrqUmTY",
    "outputId": "10c2ff36-5713-4bef-ca6d-afec8797c10a"
   },
   "outputs": [
    {
     "data": {
      "text/html": [
       "<div>\n",
       "<style scoped>\n",
       "    .dataframe tbody tr th:only-of-type {\n",
       "        vertical-align: middle;\n",
       "    }\n",
       "\n",
       "    .dataframe tbody tr th {\n",
       "        vertical-align: top;\n",
       "    }\n",
       "\n",
       "    .dataframe thead th {\n",
       "        text-align: right;\n",
       "    }\n",
       "</style>\n",
       "<table border=\"1\" class=\"dataframe\">\n",
       "  <thead>\n",
       "    <tr style=\"text-align: right;\">\n",
       "      <th></th>\n",
       "      <th>text</th>\n",
       "      <th>class</th>\n",
       "    </tr>\n",
       "  </thead>\n",
       "  <tbody>\n",
       "    <tr>\n",
       "      <th>0</th>\n",
       "      <td>Does anyone know of a good way (standard PC ap...</td>\n",
       "      <td>1</td>\n",
       "    </tr>\n",
       "    <tr>\n",
       "      <th>1</th>\n",
       "      <td>Hi,\\n\\n\\tI have a problem, I hope some of the ...</td>\n",
       "      <td>1</td>\n",
       "    </tr>\n",
       "    <tr>\n",
       "      <th>2</th>\n",
       "      <td>(Well, I'll email also, but this may apply to ...</td>\n",
       "      <td>3</td>\n",
       "    </tr>\n",
       "    <tr>\n",
       "      <th>3</th>\n",
       "      <td>Hello,\\n\\nI'm writing a paper on the role of t...</td>\n",
       "      <td>3</td>\n",
       "    </tr>\n",
       "    <tr>\n",
       "      <th>4</th>\n",
       "      <td></td>\n",
       "      <td>3</td>\n",
       "    </tr>\n",
       "  </tbody>\n",
       "</table>\n",
       "</div>"
      ],
      "text/plain": [
       "                                                text  class\n",
       "0  Does anyone know of a good way (standard PC ap...      1\n",
       "1  Hi,\\n\\n\\tI have a problem, I hope some of the ...      1\n",
       "2  (Well, I'll email also, but this may apply to ...      3\n",
       "3  Hello,\\n\\nI'm writing a paper on the role of t...      3\n",
       "4                                                         3"
      ]
     },
     "execution_count": 5,
     "metadata": {},
     "output_type": "execute_result"
    }
   ],
   "source": [
    "# Inspect the data\n",
    "df_train.head()"
   ]
  },
  {
   "cell_type": "code",
   "execution_count": 6,
   "metadata": {
    "colab": {
     "base_uri": "https://localhost:8080/"
    },
    "executionInfo": {
     "elapsed": 19,
     "status": "ok",
     "timestamp": 1662019882569,
     "user": {
      "displayName": "Zach Schillaci",
      "userId": "04144020147330636013"
     },
     "user_tz": -120
    },
    "id": "Gq_er6VLuSTE",
    "outputId": "0698f796-4d3f-4fcd-ec8a-6d4c3d4c10fa"
   },
   "outputs": [
    {
     "data": {
      "text/plain": [
       "(4,)"
      ]
     },
     "execution_count": 6,
     "metadata": {},
     "output_type": "execute_result"
    }
   ],
   "source": [
    "# How many classes are there to identify?\n",
    "df_train[\"class\"].unique().shape"
   ]
  },
  {
   "cell_type": "code",
   "execution_count": 7,
   "metadata": {
    "colab": {
     "base_uri": "https://localhost:8080/"
    },
    "executionInfo": {
     "elapsed": 17,
     "status": "ok",
     "timestamp": 1662019882569,
     "user": {
      "displayName": "Zach Schillaci",
      "userId": "04144020147330636013"
     },
     "user_tz": -120
    },
    "id": "fPPcy8rpuYmF",
    "outputId": "e5cf7ee6-cf81-4849-80e5-5f581d05af79"
   },
   "outputs": [
    {
     "name": "stdout",
     "output_type": "stream",
     "text": [
      "['alt.atheism', 'comp.graphics', 'sci.med', 'soc.religion.christian']\n"
     ]
    }
   ],
   "source": [
    "# What do these class labels correspond to?\n",
    "target_names = data_train.target_names\n",
    "print(target_names)"
   ]
  },
  {
   "cell_type": "code",
   "execution_count": 8,
   "metadata": {
    "colab": {
     "base_uri": "https://localhost:8080/"
    },
    "executionInfo": {
     "elapsed": 16,
     "status": "ok",
     "timestamp": 1662019882569,
     "user": {
      "displayName": "Zach Schillaci",
      "userId": "04144020147330636013"
     },
     "user_tz": -120
    },
    "id": "Ck87gAPDWv-f",
    "outputId": "cf91124d-94d3-46e5-800f-a8cf2df37b31"
   },
   "outputs": [
    {
     "name": "stdout",
     "output_type": "stream",
     "text": [
      "Train: (2257, 2)\n",
      "Test: (1502, 2)\n"
     ]
    }
   ],
   "source": [
    "print(f\"Train: {df_train.shape}\")\n",
    "print(f\"Test: {df_test.shape}\")"
   ]
  },
  {
   "cell_type": "markdown",
   "metadata": {
    "id": "t1uc0__Px0R5"
   },
   "source": [
    "# 2. Natural Language Processing: Text Normalization\n",
    "\n",
    "For classic NLP techniques, text normalization can be crucial to good model performance. Their main aim is to decrease the vocabulary size, by reducing similar words to common roots or removing useless words. These techniques include word tokenization, stopword removal, lemmatization, and more. We'll try a few of those here to see their impact on our news classification model.\n",
    "\n",
    "We begin by testing those text normalization methods on a single news post example, before applying them to the entire dataset."
   ]
  },
  {
   "cell_type": "code",
   "execution_count": 9,
   "metadata": {
    "executionInfo": {
     "elapsed": 15,
     "status": "ok",
     "timestamp": 1662019882569,
     "user": {
      "displayName": "Zach Schillaci",
      "userId": "04144020147330636013"
     },
     "user_tz": -120
    },
    "id": "NWWF9t3S0OZo"
   },
   "outputs": [
    {
     "name": "stdout",
     "output_type": "stream",
     "text": [
      "Hi:\n",
      "\n",
      "I am digitizing a NTSC signal and displaying on a PC video monitor.\n",
      "It is known that the display response of tubes is non-linear and is\n",
      "sometimes said to follow Gamma-Law. I am not certain if these\n",
      "non-linearities are \"Gamma-corrected\" before encoding NTSC signals\n",
      "or if the TV display is supposed to correct this.\n",
      " \n",
      "Also, if  256 grey levels, for example, are coded in a C program do\n",
      "these intensity levels appear with linear brightness on a PC\n",
      "monitor? In other words does PC monitor display circuitry\n",
      "correct for \"gamma errrors\"?\n",
      " \n",
      "Your response is much appreciated.\n",
      " \n",
      "Amjad.\n"
     ]
    }
   ],
   "source": [
    "# Take an example entry in the training set for demonstration purposes here\n",
    "text = df_train[\"text\"].iloc[11]\n",
    "print(text)"
   ]
  },
  {
   "cell_type": "markdown",
   "metadata": {
    "id": "yv7hitczyvUA"
   },
   "source": [
    "### 2.1. Tokenization\n",
    "Before any type of normalization, the first step is to tokenize each document in our corpus. We again rely on the NLTK tokenizer to convert a string to a list of words. We here tokennize the selected `text` observation from above."
   ]
  },
  {
   "cell_type": "code",
   "execution_count": 10,
   "metadata": {
    "colab": {
     "base_uri": "https://localhost:8080/"
    },
    "executionInfo": {
     "elapsed": 16,
     "status": "ok",
     "timestamp": 1662019882570,
     "user": {
      "displayName": "Zach Schillaci",
      "userId": "04144020147330636013"
     },
     "user_tz": -120
    },
    "id": "pfbCYh3Jyu5z",
    "outputId": "b7c341ad-f608-4335-9d3b-c5de97c12b25"
   },
   "outputs": [
    {
     "name": "stdout",
     "output_type": "stream",
     "text": [
      "['Hi', ':', 'I', 'am', 'digitizing', 'a', 'NTSC', 'signal', 'and', 'displaying', 'on', 'a', 'PC', 'video', 'monitor', '.', 'It', 'is', 'known', 'that', 'the', 'display', 'response', 'of', 'tubes', 'is', 'non-linear', 'and', 'is', 'sometimes', 'said', 'to', 'follow', 'Gamma-Law', '.', 'I', 'am', 'not', 'certain', 'if', 'these', 'non-linearities', 'are', '``', 'Gamma-corrected', \"''\", 'before', 'encoding', 'NTSC', 'signals', 'or', 'if', 'the', 'TV', 'display', 'is', 'supposed', 'to', 'correct', 'this', '.', 'Also', ',', 'if', '256', 'grey', 'levels', ',', 'for', 'example', ',', 'are', 'coded', 'in', 'a', 'C', 'program', 'do', 'these', 'intensity', 'levels', 'appear', 'with', 'linear', 'brightness', 'on', 'a', 'PC', 'monitor', '?', 'In', 'other', 'words', 'does', 'PC', 'monitor', 'display', 'circuitry', 'correct', 'for', '``', 'gamma', 'errrors', \"''\", '?', 'Your', 'response', 'is', 'much', 'appreciated', '.', 'Amjad', '.']\n"
     ]
    }
   ],
   "source": [
    "text_tokens = nltk.word_tokenize(text)\n",
    "print(text_tokens)"
   ]
  },
  {
   "cell_type": "markdown",
   "metadata": {
    "id": "VfzsMmdIymLR"
   },
   "source": [
    "### 2.2. Stopwords and punctuation"
   ]
  },
  {
   "cell_type": "markdown",
   "metadata": {
    "id": "B5umdlOizLCp"
   },
   "source": [
    "Stopwords correspond to unimportant words which might safely be ignored for the task at hand. For the specific task of news classification, we might for example rely on the default stopwords provided by NLTK."
   ]
  },
  {
   "cell_type": "code",
   "execution_count": 11,
   "metadata": {
    "colab": {
     "base_uri": "https://localhost:8080/"
    },
    "executionInfo": {
     "elapsed": 368,
     "status": "ok",
     "timestamp": 1662019882923,
     "user": {
      "displayName": "Zach Schillaci",
      "userId": "04144020147330636013"
     },
     "user_tz": -120
    },
    "id": "QFikvQzWUkq7",
    "outputId": "186cfccc-ddf4-4e77-e5d5-7a98d90eb80e"
   },
   "outputs": [
    {
     "name": "stdout",
     "output_type": "stream",
     "text": [
      "['i', 'me', 'my', 'myself', 'we', 'our', 'ours', 'ourselves', 'you', \"you're\", \"you've\", \"you'll\", \"you'd\", 'your', 'yours', 'yourself', 'yourselves', 'he', 'him', 'his', 'himself', 'she', \"she's\", 'her', 'hers', 'herself', 'it', \"it's\", 'its', 'itself', 'they', 'them', 'their', 'theirs', 'themselves', 'what', 'which', 'who', 'whom', 'this', 'that', \"that'll\", 'these', 'those', 'am', 'is', 'are', 'was', 'were', 'be', 'been', 'being', 'have', 'has', 'had', 'having', 'do', 'does', 'did', 'doing', 'a', 'an', 'the', 'and', 'but', 'if', 'or', 'because', 'as', 'until', 'while', 'of', 'at', 'by', 'for', 'with', 'about', 'against', 'between', 'into', 'through', 'during', 'before', 'after', 'above', 'below', 'to', 'from', 'up', 'down', 'in', 'out', 'on', 'off', 'over', 'under', 'again', 'further', 'then', 'once', 'here', 'there', 'when', 'where', 'why', 'how', 'all', 'any', 'both', 'each', 'few', 'more', 'most', 'other', 'some', 'such', 'no', 'nor', 'not', 'only', 'own', 'same', 'so', 'than', 'too', 'very', 's', 't', 'can', 'will', 'just', 'don', \"don't\", 'should', \"should've\", 'now', 'd', 'll', 'm', 'o', 're', 've', 'y', 'ain', 'aren', \"aren't\", 'couldn', \"couldn't\", 'didn', \"didn't\", 'doesn', \"doesn't\", 'hadn', \"hadn't\", 'hasn', \"hasn't\", 'haven', \"haven't\", 'isn', \"isn't\", 'ma', 'mightn', \"mightn't\", 'mustn', \"mustn't\", 'needn', \"needn't\", 'shan', \"shan't\", 'shouldn', \"shouldn't\", 'wasn', \"wasn't\", 'weren', \"weren't\", 'won', \"won't\", 'wouldn', \"wouldn't\"]\n"
     ]
    }
   ],
   "source": [
    "# Let's use the nltk stopwords available for the English language\n",
    "stopwords = nltk.corpus.stopwords.words(\"english\")\n",
    "print(stopwords)"
   ]
  },
  {
   "cell_type": "markdown",
   "metadata": {},
   "source": [
    "One might also want to remove punctuation tokens. Here is a list of standard punctuation."
   ]
  },
  {
   "cell_type": "code",
   "execution_count": 12,
   "metadata": {},
   "outputs": [
    {
     "data": {
      "text/plain": [
       "'!\"#$%&\\'()*+,-./:;<=>?@[\\\\]^_`{|}~'"
      ]
     },
     "execution_count": 12,
     "metadata": {},
     "output_type": "execute_result"
    }
   ],
   "source": [
    "import string\n",
    "string.punctuation"
   ]
  },
  {
   "cell_type": "markdown",
   "metadata": {},
   "source": [
    "### 2.3. Stemming"
   ]
  },
  {
   "cell_type": "markdown",
   "metadata": {},
   "source": [
    "When it comes to reducing similar words to common roots, stemming is the simplest and fastest approach. Stemming is an abstract rule-based process that stems or removes some of the last few characters from a word. This sometimes leads to incorrect meanings and spelling, as a downsize.\n",
    "\n",
    "Let's try two different stemmers: \"PorterStemmer\" and the slightly more recent \"SnowballStemmer\""
   ]
  },
  {
   "cell_type": "code",
   "execution_count": 13,
   "metadata": {},
   "outputs": [],
   "source": [
    "from nltk.stem import PorterStemmer\n",
    "from nltk.stem.snowball import SnowballStemmer"
   ]
  },
  {
   "cell_type": "code",
   "execution_count": 15,
   "metadata": {},
   "outputs": [
    {
     "name": "stdout",
     "output_type": "stream",
     "text": [
      "['hi', ':', 'i', 'am', 'digit', 'a', 'ntsc', 'signal', 'and', 'display', 'on', 'a', 'pc', 'video', 'monitor', '.', 'it', 'is', 'known', 'that', 'the', 'display', 'respons', 'of', 'tube', 'is', 'non-linear', 'and', 'is', 'sometim', 'said', 'to', 'follow', 'gamma-law', '.', 'i', 'am', 'not', 'certain', 'if', 'these', 'non-linear', 'are', '``', 'gamma-correct', \"''\", 'befor', 'encod', 'ntsc', 'signal', 'or', 'if', 'the', 'tv', 'display', 'is', 'suppos', 'to', 'correct', 'thi', '.', 'also', ',', 'if', '256', 'grey', 'level', ',', 'for', 'exampl', ',', 'are', 'code', 'in', 'a', 'c', 'program', 'do', 'these', 'intens', 'level', 'appear', 'with', 'linear', 'bright', 'on', 'a', 'pc', 'monitor', '?', 'in', 'other', 'word', 'doe', 'pc', 'monitor', 'display', 'circuitri', 'correct', 'for', '``', 'gamma', 'errror', \"''\", '?', 'your', 'respons', 'is', 'much', 'appreci', '.', 'amjad', '.']\n"
     ]
    }
   ],
   "source": [
    "ps = PorterStemmer()\n",
    "text_stems = [ps.stem(word) for word in text_tokens]\n",
    "print(text_stems)"
   ]
  },
  {
   "cell_type": "code",
   "execution_count": 16,
   "metadata": {},
   "outputs": [
    {
     "name": "stdout",
     "output_type": "stream",
     "text": [
      "['hi', ':', 'i', 'am', 'digit', 'a', 'ntsc', 'signal', 'and', 'display', 'on', 'a', 'pc', 'video', 'monitor', '.', 'it', 'is', 'known', 'that', 'the', 'display', 'respons', 'of', 'tube', 'is', 'non-linear', 'and', 'is', 'sometim', 'said', 'to', 'follow', 'gamma-law', '.', 'i', 'am', 'not', 'certain', 'if', 'these', 'non-linear', 'are', '``', 'gamma-correct', \"''\", 'befor', 'encod', 'ntsc', 'signal', 'or', 'if', 'the', 'tv', 'display', 'is', 'suppos', 'to', 'correct', 'this', '.', 'also', ',', 'if', '256', 'grey', 'level', ',', 'for', 'exampl', ',', 'are', 'code', 'in', 'a', 'c', 'program', 'do', 'these', 'intens', 'level', 'appear', 'with', 'linear', 'bright', 'on', 'a', 'pc', 'monitor', '?', 'in', 'other', 'word', 'doe', 'pc', 'monitor', 'display', 'circuitri', 'correct', 'for', '``', 'gamma', 'errror', \"''\", '?', 'your', 'respons', 'is', 'much', 'appreci', '.', 'amjad', '.']\n"
     ]
    }
   ],
   "source": [
    "snowstem = SnowballStemmer(\"english\")\n",
    "text_sstems = [snowstem.stem(word) for word in text_tokens]\n",
    "print(text_sstems)"
   ]
  },
  {
   "cell_type": "code",
   "execution_count": 17,
   "metadata": {},
   "outputs": [
    {
     "name": "stdout",
     "output_type": "stream",
     "text": [
      "Hi -> hi\n",
      ": -> :\n",
      "I -> i\n",
      "am -> am\n",
      "digitizing -> digit\n",
      "a -> a\n",
      "NTSC -> ntsc\n",
      "signal -> signal\n",
      "and -> and\n",
      "displaying -> display\n",
      "on -> on\n",
      "a -> a\n",
      "PC -> pc\n",
      "video -> video\n",
      "monitor -> monitor\n",
      ". -> .\n",
      "It -> it\n",
      "is -> is\n",
      "known -> known\n",
      "that -> that\n",
      "the -> the\n",
      "display -> display\n",
      "response -> respons\n",
      "of -> of\n",
      "tubes -> tube\n",
      "is -> is\n",
      "non-linear -> non-linear\n",
      "and -> and\n",
      "is -> is\n",
      "sometimes -> sometim\n",
      "said -> said\n",
      "to -> to\n",
      "follow -> follow\n",
      "Gamma-Law -> gamma-law\n",
      ". -> .\n",
      "I -> i\n",
      "am -> am\n",
      "not -> not\n",
      "certain -> certain\n",
      "if -> if\n",
      "these -> these\n",
      "non-linearities -> non-linear\n",
      "are -> are\n",
      "`` -> ``\n",
      "Gamma-corrected -> gamma-correct\n",
      "'' -> ''\n",
      "before -> befor\n",
      "encoding -> encod\n",
      "NTSC -> ntsc\n",
      "signals -> signal\n",
      "or -> or\n",
      "if -> if\n",
      "the -> the\n",
      "TV -> tv\n",
      "display -> display\n",
      "is -> is\n",
      "supposed -> suppos\n",
      "to -> to\n",
      "correct -> correct\n",
      "this -> this\n",
      ". -> .\n",
      "Also -> also\n",
      ", -> ,\n",
      "if -> if\n",
      "256 -> 256\n",
      "grey -> grey\n",
      "levels -> level\n",
      ", -> ,\n",
      "for -> for\n",
      "example -> exampl\n",
      ", -> ,\n",
      "are -> are\n",
      "coded -> code\n",
      "in -> in\n",
      "a -> a\n",
      "C -> c\n",
      "program -> program\n",
      "do -> do\n",
      "these -> these\n",
      "intensity -> intens\n",
      "levels -> level\n",
      "appear -> appear\n",
      "with -> with\n",
      "linear -> linear\n",
      "brightness -> bright\n",
      "on -> on\n",
      "a -> a\n",
      "PC -> pc\n",
      "monitor -> monitor\n",
      "? -> ?\n",
      "In -> in\n",
      "other -> other\n",
      "words -> word\n",
      "does -> doe\n",
      "PC -> pc\n",
      "monitor -> monitor\n",
      "display -> display\n",
      "circuitry -> circuitri\n",
      "correct -> correct\n",
      "for -> for\n",
      "`` -> ``\n",
      "gamma -> gamma\n",
      "errrors -> errror\n",
      "'' -> ''\n",
      "? -> ?\n",
      "Your -> your\n",
      "response -> respons\n",
      "is -> is\n",
      "much -> much\n",
      "appreciated -> appreci\n",
      ". -> .\n",
      "Amjad -> amjad\n",
      ". -> .\n"
     ]
    }
   ],
   "source": [
    "for a,b in zip(text_tokens, text_sstems):\n",
    "    print(a, \"->\", b)"
   ]
  },
  {
   "cell_type": "code",
   "execution_count": 18,
   "metadata": {},
   "outputs": [
    {
     "data": {
      "text/plain": [
       "[('thi', 'this')]"
      ]
     },
     "execution_count": 18,
     "metadata": {},
     "output_type": "execute_result"
    }
   ],
   "source": [
    "[(a,b) for a, b in zip(text_stems, text_sstems) if a!=b]"
   ]
  },
  {
   "cell_type": "markdown",
   "metadata": {
    "id": "IJnX396HzwRM"
   },
   "source": [
    "### 2.4. Part-of-speech (POS) tagging\n",
    "Part-of-speech tagging categorizes words as a particular part-of-speech (e.g. verb, noun, etc ...) using the word itself and the surrounding context in a predictive model. Those tags can be useful for several types of analyses. In particular, they are used for lemmatization.\n",
    "\n",
    "Different more or less precise tagsets exist for each language."
   ]
  },
  {
   "cell_type": "code",
   "execution_count": 20,
   "metadata": {
    "colab": {
     "base_uri": "https://localhost:8080/"
    },
    "executionInfo": {
     "elapsed": 3,
     "status": "ok",
     "timestamp": 1662019882923,
     "user": {
      "displayName": "Zach Schillaci",
      "userId": "04144020147330636013"
     },
     "user_tz": -120
    },
    "id": "EnbOxzaCzvtw",
    "outputId": "33bd40b9-cfe3-461a-cf2d-7db45c8b48a5",
    "scrolled": true
   },
   "outputs": [
    {
     "name": "stdout",
     "output_type": "stream",
     "text": [
      "[('Hi', 'NN'), (':', ':'), ('I', 'PRP'), ('am', 'VBP'), ('digitizing', 'VBG'), ('a', 'DT'), ('NTSC', 'NNP'), ('signal', 'NN'), ('and', 'CC'), ('displaying', 'VBG'), ('on', 'IN'), ('a', 'DT'), ('PC', 'NN'), ('video', 'NN'), ('monitor', 'NN'), ('.', '.'), ('It', 'PRP'), ('is', 'VBZ'), ('known', 'VBN'), ('that', 'IN'), ('the', 'DT'), ('display', 'NN'), ('response', 'NN'), ('of', 'IN'), ('tubes', 'NNS'), ('is', 'VBZ'), ('non-linear', 'JJ'), ('and', 'CC'), ('is', 'VBZ'), ('sometimes', 'RB'), ('said', 'VBD'), ('to', 'TO'), ('follow', 'VB'), ('Gamma-Law', 'NNP'), ('.', '.'), ('I', 'PRP'), ('am', 'VBP'), ('not', 'RB'), ('certain', 'JJ'), ('if', 'IN'), ('these', 'DT'), ('non-linearities', 'NNS'), ('are', 'VBP'), ('``', '``'), ('Gamma-corrected', 'JJ'), (\"''\", \"''\"), ('before', 'IN'), ('encoding', 'VBG'), ('NTSC', 'NNP'), ('signals', 'NNS'), ('or', 'CC'), ('if', 'IN'), ('the', 'DT'), ('TV', 'NN'), ('display', 'NN'), ('is', 'VBZ'), ('supposed', 'VBN'), ('to', 'TO'), ('correct', 'VB'), ('this', 'DT'), ('.', '.'), ('Also', 'RB'), (',', ','), ('if', 'IN'), ('256', 'CD'), ('grey', 'NN'), ('levels', 'NNS'), (',', ','), ('for', 'IN'), ('example', 'NN'), (',', ','), ('are', 'VBP'), ('coded', 'VBN'), ('in', 'IN'), ('a', 'DT'), ('C', 'NNP'), ('program', 'NN'), ('do', 'VBP'), ('these', 'DT'), ('intensity', 'NN'), ('levels', 'NNS'), ('appear', 'VBP'), ('with', 'IN'), ('linear', 'JJ'), ('brightness', 'NN'), ('on', 'IN'), ('a', 'DT'), ('PC', 'NN'), ('monitor', 'NN'), ('?', '.'), ('In', 'IN'), ('other', 'JJ'), ('words', 'NNS'), ('does', 'VBZ'), ('PC', 'NNP'), ('monitor', 'NN'), ('display', 'NN'), ('circuitry', 'NN'), ('correct', 'NN'), ('for', 'IN'), ('``', '``'), ('gamma', 'JJ'), ('errrors', 'NNS'), (\"''\", \"''\"), ('?', '.'), ('Your', 'PRP$'), ('response', 'NN'), ('is', 'VBZ'), ('much', 'RB'), ('appreciated', 'VBN'), ('.', '.'), ('Amjad', 'NNP'), ('.', '.')]\n"
     ]
    }
   ],
   "source": [
    "# We can use the default pos-tagger provided by NLTK\n",
    "text_PoS_p = nltk.pos_tag(text_tokens)\n",
    "print(text_PoS_p)"
   ]
  },
  {
   "cell_type": "markdown",
   "metadata": {},
   "source": [
    "https://www.ling.upenn.edu/courses/Fall_2003/ling001/penn_treebank_pos.html"
   ]
  },
  {
   "cell_type": "code",
   "execution_count": 21,
   "metadata": {
    "colab": {
     "base_uri": "https://localhost:8080/"
    },
    "executionInfo": {
     "elapsed": 3,
     "status": "ok",
     "timestamp": 1662019882923,
     "user": {
      "displayName": "Zach Schillaci",
      "userId": "04144020147330636013"
     },
     "user_tz": -120
    },
    "id": "EnbOxzaCzvtw",
    "outputId": "33bd40b9-cfe3-461a-cf2d-7db45c8b48a5"
   },
   "outputs": [
    {
     "name": "stdout",
     "output_type": "stream",
     "text": [
      "[('Hi', 'NOUN'), (':', '.'), ('I', 'PRON'), ('am', 'VERB'), ('digitizing', 'VERB'), ('a', 'DET'), ('NTSC', 'NOUN'), ('signal', 'NOUN'), ('and', 'CONJ'), ('displaying', 'VERB'), ('on', 'ADP'), ('a', 'DET'), ('PC', 'NOUN'), ('video', 'NOUN'), ('monitor', 'NOUN'), ('.', '.'), ('It', 'PRON'), ('is', 'VERB'), ('known', 'VERB'), ('that', 'ADP'), ('the', 'DET'), ('display', 'NOUN'), ('response', 'NOUN'), ('of', 'ADP'), ('tubes', 'NOUN'), ('is', 'VERB'), ('non-linear', 'ADJ'), ('and', 'CONJ'), ('is', 'VERB'), ('sometimes', 'ADV'), ('said', 'VERB'), ('to', 'PRT'), ('follow', 'VERB'), ('Gamma-Law', 'NOUN'), ('.', '.'), ('I', 'PRON'), ('am', 'VERB'), ('not', 'ADV'), ('certain', 'ADJ'), ('if', 'ADP'), ('these', 'DET'), ('non-linearities', 'NOUN'), ('are', 'VERB'), ('``', '.'), ('Gamma-corrected', 'ADJ'), (\"''\", '.'), ('before', 'ADP'), ('encoding', 'VERB'), ('NTSC', 'NOUN'), ('signals', 'NOUN'), ('or', 'CONJ'), ('if', 'ADP'), ('the', 'DET'), ('TV', 'NOUN'), ('display', 'NOUN'), ('is', 'VERB'), ('supposed', 'VERB'), ('to', 'PRT'), ('correct', 'VERB'), ('this', 'DET'), ('.', '.'), ('Also', 'ADV'), (',', '.'), ('if', 'ADP'), ('256', 'NUM'), ('grey', 'NOUN'), ('levels', 'NOUN'), (',', '.'), ('for', 'ADP'), ('example', 'NOUN'), (',', '.'), ('are', 'VERB'), ('coded', 'VERB'), ('in', 'ADP'), ('a', 'DET'), ('C', 'NOUN'), ('program', 'NOUN'), ('do', 'VERB'), ('these', 'DET'), ('intensity', 'NOUN'), ('levels', 'NOUN'), ('appear', 'VERB'), ('with', 'ADP'), ('linear', 'ADJ'), ('brightness', 'NOUN'), ('on', 'ADP'), ('a', 'DET'), ('PC', 'NOUN'), ('monitor', 'NOUN'), ('?', '.'), ('In', 'ADP'), ('other', 'ADJ'), ('words', 'NOUN'), ('does', 'VERB'), ('PC', 'NOUN'), ('monitor', 'NOUN'), ('display', 'NOUN'), ('circuitry', 'NOUN'), ('correct', 'NOUN'), ('for', 'ADP'), ('``', '.'), ('gamma', 'ADJ'), ('errrors', 'NOUN'), (\"''\", '.'), ('?', '.'), ('Your', 'PRON'), ('response', 'NOUN'), ('is', 'VERB'), ('much', 'ADV'), ('appreciated', 'VERB'), ('.', '.'), ('Amjad', 'NOUN'), ('.', '.')]\n"
     ]
    }
   ],
   "source": [
    "# Or the \"universal\" tags\n",
    "text_PoS_u = nltk.pos_tag(text_tokens, tagset=\"universal\")\n",
    "print(text_PoS_u)"
   ]
  },
  {
   "cell_type": "markdown",
   "metadata": {},
   "source": [
    "http://www.lrec-conf.org/proceedings/lrec2012/pdf/274_Paper.pdf\n",
    "\n",
    "https://github.com/slavpetrov/universal-pos-tags\n",
    "\n",
    "- VERB - verbs (all tenses and modes)\n",
    "- NOUN - nouns (common and proper)\n",
    "- PRON - pronouns \n",
    "- ADJ - adjectives\n",
    "- ADV - adverbs\n",
    "- ADP - adpositions (prepositions and postpositions)\n",
    "- CONJ - conjunctions\n",
    "- DET - determiners\n",
    "- NUM - cardinal numbers\n",
    "- PRT - particles or other function words\n",
    "- X - other: foreign words, typos, abbreviations\n",
    "- . - punctuation"
   ]
  },
  {
   "cell_type": "markdown",
   "metadata": {
    "id": "7byMSxD0yq0O"
   },
   "source": [
    "### 2.5. Lemmatization\n",
    "Lemmatization considers the context and converts the word to its meaningful base form, which is called the \"Lemma\".\n",
    "It uses language-specific lookup tables to find the root forms of words. This makes it more computationnaly expensive than stemming.\n",
    "We here use the `WordNetLemmatizer` (https://www.nltk.org/api/nltk.stem.wordnet.html).\n",
    "It uses the Wordnet database (https://wordnet.princeton.edu/) to find the lemma of a word, given the word AND its PoS tag!"
   ]
  },
  {
   "cell_type": "code",
   "execution_count": 22,
   "metadata": {
    "executionInfo": {
     "elapsed": 2,
     "status": "ok",
     "timestamp": 1662019882923,
     "user": {
      "displayName": "Zach Schillaci",
      "userId": "04144020147330636013"
     },
     "user_tz": -120
    },
    "id": "P_DEWPixwFcB"
   },
   "outputs": [],
   "source": [
    "# We can use the English language lemmatizer provided by NLTK\n",
    "wnl = nltk.stem.WordNetLemmatizer()"
   ]
  },
  {
   "cell_type": "code",
   "execution_count": 24,
   "metadata": {},
   "outputs": [],
   "source": [
    "?wnl.lemmatize"
   ]
  },
  {
   "cell_type": "code",
   "execution_count": 25,
   "metadata": {
    "colab": {
     "base_uri": "https://localhost:8080/"
    },
    "executionInfo": {
     "elapsed": 1948,
     "status": "ok",
     "timestamp": 1662019884869,
     "user": {
      "displayName": "Zach Schillaci",
      "userId": "04144020147330636013"
     },
     "user_tz": -120
    },
    "id": "wCXSxkwIwKvh",
    "outputId": "89c7f2f4-9103-4bf0-823e-b1d5fa3dc41c"
   },
   "outputs": [
    {
     "name": "stdout",
     "output_type": "stream",
     "text": [
      "Hi -> Hi\n",
      ": -> :\n",
      "I -> I\n",
      "am -> be\n",
      "digitizing -> digitize\n",
      "a -> a\n",
      "NTSC -> NTSC\n",
      "signal -> signal\n",
      "and -> and\n",
      "displaying -> display\n",
      "on -> on\n",
      "a -> a\n",
      "PC -> PC\n",
      "video -> video\n",
      "monitor -> monitor\n",
      ". -> .\n",
      "It -> It\n",
      "is -> be\n",
      "known -> know\n",
      "that -> that\n",
      "the -> the\n",
      "display -> display\n",
      "response -> response\n",
      "of -> of\n",
      "tubes -> tube\n",
      "is -> be\n",
      "non-linear -> non-linear\n",
      "and -> and\n",
      "is -> be\n",
      "sometimes -> sometimes\n",
      "said -> say\n",
      "to -> to\n",
      "follow -> follow\n",
      "Gamma-Law -> Gamma-Law\n",
      ". -> .\n",
      "I -> I\n",
      "am -> be\n",
      "not -> not\n",
      "certain -> certain\n",
      "if -> if\n",
      "these -> these\n",
      "non-linearities -> non-linearities\n",
      "are -> be\n",
      "`` -> ``\n",
      "Gamma-corrected -> Gamma-corrected\n",
      "'' -> ''\n",
      "before -> before\n",
      "encoding -> encode\n",
      "NTSC -> NTSC\n",
      "signals -> signal\n",
      "or -> or\n",
      "if -> if\n",
      "the -> the\n",
      "TV -> TV\n",
      "display -> display\n",
      "is -> be\n",
      "supposed -> suppose\n",
      "to -> to\n",
      "correct -> correct\n",
      "this -> this\n",
      ". -> .\n",
      "Also -> Also\n",
      ", -> ,\n",
      "if -> if\n",
      "256 -> 256\n",
      "grey -> grey\n",
      "levels -> level\n",
      ", -> ,\n",
      "for -> for\n",
      "example -> example\n",
      ", -> ,\n",
      "are -> be\n",
      "coded -> cod\n",
      "in -> in\n",
      "a -> a\n",
      "C -> C\n",
      "program -> program\n",
      "do -> do\n",
      "these -> these\n",
      "intensity -> intensity\n",
      "levels -> level\n",
      "appear -> appear\n",
      "with -> with\n",
      "linear -> linear\n",
      "brightness -> brightness\n",
      "on -> on\n",
      "a -> a\n",
      "PC -> PC\n",
      "monitor -> monitor\n",
      "? -> ?\n",
      "In -> In\n",
      "other -> other\n",
      "words -> word\n",
      "does -> do\n",
      "PC -> PC\n",
      "monitor -> monitor\n",
      "display -> display\n",
      "circuitry -> circuitry\n",
      "correct -> correct\n",
      "for -> for\n",
      "`` -> ``\n",
      "gamma -> gamma\n",
      "errrors -> errrors\n",
      "'' -> ''\n",
      "? -> ?\n",
      "Your -> Your\n",
      "response -> response\n",
      "is -> be\n",
      "much -> much\n",
      "appreciated -> appreciate\n",
      ". -> .\n",
      "Amjad -> Amjad\n",
      ". -> .\n"
     ]
    }
   ],
   "source": [
    "for w, pos in text_PoS_u:\n",
    "    # Map the detailed set of POS-tags to nouns/verbs for the lemmatizer\n",
    "    if pos in [\"VERB\"]:\n",
    "        pos = \"v\"\n",
    "    elif pos in [\"ADJ\"]:\n",
    "        pos = \"a\"\n",
    "    elif pos in [\"ADV\"]:\n",
    "        pos = \"r\"\n",
    "    elif pos in [\"NOUN\"]:\n",
    "        pos = \"n\"\n",
    "    else:\n",
    "        pos = \"n\"\n",
    "    # print the original tokens and their lemma\n",
    "    print(f\"{w} -> {wnl.lemmatize(w, pos=pos)}\")"
   ]
  },
  {
   "cell_type": "code",
   "execution_count": 26,
   "metadata": {},
   "outputs": [
    {
     "name": "stdout",
     "output_type": "stream",
     "text": [
      "run - stem: run - lemma: run\n",
      "ran - stem: ran - lemma: run\n",
      "universal - stem: univers - lemma: universal\n",
      "university - stem: univers - lemma: university\n",
      "universe - stem: univers - lemma: universe\n",
      "alumnus - stem: alumnu - lemma: alumnus\n",
      "alumni - stem: alumni - lemma: alumnus\n"
     ]
    }
   ],
   "source": [
    "# To illustrate the difference:\n",
    "diff_ex = [\"run\",\"ran\",\n",
    "           \"universal\", \"university\", \"universe\",\n",
    "           \"alumnus\",\"alumni\"]\n",
    "\n",
    "for w, pos in nltk.pos_tag(diff_ex, tagset=\"universal\"):\n",
    "    # Map the detailed set of POS-tags to nouns/verbs for the lemmatizer\n",
    "    if pos in [\"VERB\"]:\n",
    "        pos = \"v\"\n",
    "    elif pos in [\"ADJ\"]:\n",
    "        pos = \"a\"\n",
    "    elif pos in [\"ADV\"]:\n",
    "        pos = \"r\"\n",
    "    elif pos in [\"NOUN\"]:\n",
    "        pos = \"n\"\n",
    "    else:\n",
    "        pos = \"n\"\n",
    "    print(f\"{w} - stem: {ps.stem(w)} - lemma: {wnl.lemmatize(w, pos=pos)}\")"
   ]
  },
  {
   "cell_type": "markdown",
   "metadata": {
    "id": "TfUp_mj32YHg"
   },
   "source": [
    "### 2.6. Putting it all together\n",
    "\n",
    "Let's combine all of the above techniques into a single \"tokenize + normalize\" function which will output a list of normalized words given a string of text (document) as input."
   ]
  },
  {
   "cell_type": "code",
   "execution_count": 27,
   "metadata": {
    "executionInfo": {
     "elapsed": 6,
     "status": "ok",
     "timestamp": 1662019884869,
     "user": {
      "displayName": "Zach Schillaci",
      "userId": "04144020147330636013"
     },
     "user_tz": -120
    },
    "id": "KzwaS4cSvr52"
   },
   "outputs": [],
   "source": [
    "# Write your custom tokenizer method here:\n",
    "def custom_tokenizer(text: str):\n",
    "    text_tokens = nltk.word_tokenize(text)\n",
    "    output = []\n",
    "    for w, pos in nltk.pos_tag(text_tokens, tagset=\"universal\"):\n",
    "        if pos in [\"VERB\"]:\n",
    "            pos = \"v\"\n",
    "        elif pos in [\"ADJ\"]:\n",
    "            pos = \"a\"\n",
    "        elif pos in [\"ADV\"]:\n",
    "            pos = \"r\"\n",
    "        elif pos in [\"NOUN\"]:\n",
    "            pos = \"n\"\n",
    "        else:\n",
    "            pos = \"n\"\n",
    "\n",
    "        # Lemmatized form accounting for POS-tag\n",
    "        l = wnl.lemmatize(w, pos=pos)\n",
    "\n",
    "        # Filter out stopwords\n",
    "        if l not in stopwords:\n",
    "            output.append(l)\n",
    "\n",
    "    return output"
   ]
  },
  {
   "cell_type": "code",
   "execution_count": 28,
   "metadata": {
    "colab": {
     "base_uri": "https://localhost:8080/"
    },
    "executionInfo": {
     "elapsed": 5,
     "status": "ok",
     "timestamp": 1662019884870,
     "user": {
      "displayName": "Zach Schillaci",
      "userId": "04144020147330636013"
     },
     "user_tz": -120
    },
    "id": "m7Fet-3W3ddO",
    "outputId": "983bc229-d2e4-4066-c07a-4312ebd5a8b0"
   },
   "outputs": [
    {
     "name": "stdout",
     "output_type": "stream",
     "text": [
      "['Hi', ':', 'I', 'digitize', 'NTSC', 'signal', 'display', 'PC', 'video', 'monitor', '.', 'It', 'know', 'display', 'response', 'tube', 'non-linear', 'sometimes', 'say', 'follow', 'Gamma-Law', '.', 'I', 'certain', 'non-linearities', '``', 'Gamma-corrected', \"''\", 'encode', 'NTSC', 'signal', 'TV', 'display', 'suppose', 'correct', '.', 'Also', ',', '256', 'grey', 'level', ',', 'example', ',', 'cod', 'C', 'program', 'intensity', 'level', 'appear', 'linear', 'brightness', 'PC', 'monitor', '?', 'In', 'word', 'PC', 'monitor', 'display', 'circuitry', 'correct', '``', 'gamma', 'errrors', \"''\", '?', 'Your', 'response', 'much', 'appreciate', '.', 'Amjad', '.']\n"
     ]
    }
   ],
   "source": [
    "# Try it out on the text\n",
    "print(custom_tokenizer(text))"
   ]
  },
  {
   "cell_type": "markdown",
   "metadata": {
    "id": "RfxFjHPM3jrQ"
   },
   "source": [
    "# 3. Word embeddings and text classification\n",
    "\n",
    "Using the NLP normalization techniques from above, including our custom tokenization method, we want to train a simple multi-class ML classifier to predict the news topic. In order to do so, we must first vectorize the text data."
   ]
  },
  {
   "cell_type": "markdown",
   "metadata": {
    "id": "oNIGZbIM32VC"
   },
   "source": [
    "### 3.1. Bag-of-words (BOW)\n",
    "\n",
    "Bag-of-words is the simplest *embedding* technique in which words are represented as one-hot encoded numeric vectors of word counts. The length of these vectors corresponds to the size of the (reduced) vocabulary of the training corpus.\n",
    "That is, each column $j$ in the resulting sparse matrix represents a word and and each row $i$ represents a different observation (i.e. document), and the coresonping entry in the matrix is the word count of how many times the word $j$ appears in document $i$.\n",
    "See [CountVectorizer](https://scikit-learn.org/stable/modules/generated/sklearn.feature_extraction.text.CountVectorizer.html) for the scikit-learn implementation of the bag-of-words embedding and its many options.\n",
    "\n",
    "We start by training the bag-of-words on our train corpus, and compare the vocabulary size with and without our `'custom_tokenizer'` normalization procedure. We can ignore tokens that appear in less than 0.1% of documents."
   ]
  },
  {
   "cell_type": "code",
   "execution_count": 29,
   "metadata": {},
   "outputs": [],
   "source": [
    "from sklearn.feature_extraction.text import CountVectorizer"
   ]
  },
  {
   "cell_type": "code",
   "execution_count": 30,
   "metadata": {},
   "outputs": [],
   "source": [
    "simple_vectorizer = CountVectorizer(lowercase=True, min_df=1e-3)\n",
    "\n",
    "bow_train_simple = simple_vectorizer.fit_transform(df_train[\"text\"])"
   ]
  },
  {
   "cell_type": "code",
   "execution_count": 33,
   "metadata": {},
   "outputs": [
    {
     "data": {
      "text/plain": [
       "(2257, 9187)"
      ]
     },
     "execution_count": 33,
     "metadata": {},
     "output_type": "execute_result"
    }
   ],
   "source": [
    "bow_train_simple.shape"
   ]
  },
  {
   "cell_type": "code",
   "execution_count": 34,
   "metadata": {
    "executionInfo": {
     "elapsed": 174431,
     "status": "ok",
     "timestamp": 1662020059298,
     "user": {
      "displayName": "Zach Schillaci",
      "userId": "04144020147330636013"
     },
     "user_tz": -120
    },
    "id": "v5A-Xfxl6wYb"
   },
   "outputs": [
    {
     "name": "stderr",
     "output_type": "stream",
     "text": [
      "C:\\Users\\pascheo\\Anaconda3\\lib\\site-packages\\sklearn\\feature_extraction\\text.py:528: UserWarning: The parameter 'token_pattern' will not be used since 'tokenizer' is not None'\n",
      "  warnings.warn(\n"
     ]
    }
   ],
   "source": [
    "vectorizer = CountVectorizer(tokenizer=custom_tokenizer, lowercase=True, min_df=1e-3)\n",
    "\n",
    "bow_train = vectorizer.fit_transform(df_train[\"text\"])"
   ]
  },
  {
   "cell_type": "code",
   "execution_count": 35,
   "metadata": {},
   "outputs": [
    {
     "data": {
      "text/plain": [
       "(2257, 7245)"
      ]
     },
     "execution_count": 35,
     "metadata": {},
     "output_type": "execute_result"
    }
   ],
   "source": [
    "bow_train.shape"
   ]
  },
  {
   "cell_type": "markdown",
   "metadata": {
    "id": "ss1gb3fi9svt"
   },
   "source": [
    "### 3.2. Bag-of-words (BOW) with Term-frequency Inverse-document-frequency (TF-IDF)\n",
    "\n",
    "TF-IDF uses the **same** one-hot encoding as traditional BOW, but transforms the simple counts to the relative word frequency, normalized by the inverse-document-frequency to account for frequently occurring words across all documents. \n",
    "\n",
    "The intuition is that not only the word's frequency in a given document indicates if that word represents the document well, but also how rare it is in other documents in comparison.\n",
    "\n",
    "We now compute the TF-IDF transformation of the BoW, using our `'custom_tokenizer'`. See the [TfidfVectorizer](https://scikit-learn.org/stable/modules/generated/sklearn.feature_extraction.text.TfidfVectorizer.html) and [TfidfTransformer](https://scikit-learn.org/stable/modules/generated/sklearn.feature_extraction.text.TfidfTransformer.html) scikit-learn classes for help."
   ]
  },
  {
   "cell_type": "markdown",
   "metadata": {},
   "source": [
    "#### Way 1: two-step bag of words and TF-IDF"
   ]
  },
  {
   "cell_type": "code",
   "execution_count": 36,
   "metadata": {},
   "outputs": [],
   "source": [
    "from sklearn.feature_extraction.text import TfidfTransformer\n",
    "tfidf_transformer = TfidfTransformer()\n",
    "\n",
    "#using the BoW from above:\n",
    "tfidf_train0 = tfidf_transformer.fit_transform(bow_train)"
   ]
  },
  {
   "cell_type": "code",
   "execution_count": 37,
   "metadata": {},
   "outputs": [
    {
     "data": {
      "text/plain": [
       "(2257, 7245)"
      ]
     },
     "execution_count": 37,
     "metadata": {},
     "output_type": "execute_result"
    }
   ],
   "source": [
    "tfidf_train0.shape"
   ]
  },
  {
   "cell_type": "markdown",
   "metadata": {},
   "source": [
    "#### Way 2: both at once"
   ]
  },
  {
   "cell_type": "markdown",
   "metadata": {},
   "source": [
    "Here we repeat the two steps above in a single equivalent step, using TfidfVectorizer."
   ]
  },
  {
   "cell_type": "code",
   "execution_count": 38,
   "metadata": {},
   "outputs": [],
   "source": [
    "from sklearn.feature_extraction.text import TfidfVectorizer\n",
    "tfidf_vectorizer = TfidfVectorizer(tokenizer=custom_tokenizer, lowercase=True, min_df=1e-3)\n",
    "\n",
    "tfidf_train = tfidf_vectorizer.fit_transform(df_train[\"text\"])"
   ]
  },
  {
   "cell_type": "code",
   "execution_count": 39,
   "metadata": {},
   "outputs": [
    {
     "data": {
      "text/plain": [
       "(2257, 7245)"
      ]
     },
     "execution_count": 39,
     "metadata": {},
     "output_type": "execute_result"
    }
   ],
   "source": [
    "tfidf_train.shape"
   ]
  },
  {
   "cell_type": "markdown",
   "metadata": {},
   "source": [
    "# 4. Topic Classification using Simple Machine Learning"
   ]
  },
  {
   "cell_type": "markdown",
   "metadata": {},
   "source": [
    "### 4.1. Lemmatization and TF-IDF impacts"
   ]
  },
  {
   "cell_type": "markdown",
   "metadata": {},
   "source": [
    "In this section we want to study the impact of lemmatization and of TF-IDF on the classification accuracy of a simple ML model. We use a multinomial logistic regression with default hyper-parameters."
   ]
  },
  {
   "cell_type": "code",
   "execution_count": 40,
   "metadata": {},
   "outputs": [],
   "source": [
    "from sklearn.linear_model import LogisticRegression\n",
    "from sklearn.metrics import accuracy_score"
   ]
  },
  {
   "cell_type": "markdown",
   "metadata": {},
   "source": [
    "Let's check the test accuracy using BoW without lemmatization."
   ]
  },
  {
   "cell_type": "code",
   "execution_count": 41,
   "metadata": {
    "colab": {
     "base_uri": "https://localhost:8080/"
    },
    "executionInfo": {
     "elapsed": 10,
     "status": "ok",
     "timestamp": 1662020167450,
     "user": {
      "displayName": "Zach Schillaci",
      "userId": "04144020147330636013"
     },
     "user_tz": -120
    },
    "id": "k5fRMDy-XTZA",
    "outputId": "797ea1f6-ba41-482f-e3a1-18f10ab828dc"
   },
   "outputs": [],
   "source": [
    "clf = LogisticRegression(max_iter=int(1e4))\n",
    "clf.fit(bow_train_simple, df_train[\"class\"])\n",
    "\n",
    "# Run the inference on test data\n",
    "pred_bow_simple = clf.predict(simple_vectorizer.transform(df_test[\"text\"]))"
   ]
  },
  {
   "cell_type": "code",
   "execution_count": 42,
   "metadata": {
    "colab": {
     "base_uri": "https://localhost:8080/"
    },
    "executionInfo": {
     "elapsed": 10,
     "status": "ok",
     "timestamp": 1662020167450,
     "user": {
      "displayName": "Zach Schillaci",
      "userId": "04144020147330636013"
     },
     "user_tz": -120
    },
    "id": "k5fRMDy-XTZA",
    "outputId": "797ea1f6-ba41-482f-e3a1-18f10ab828dc"
   },
   "outputs": [
    {
     "data": {
      "text/plain": [
       "0.7496671105193076"
      ]
     },
     "execution_count": 42,
     "metadata": {},
     "output_type": "execute_result"
    }
   ],
   "source": [
    "# Report the score\n",
    "accuracy_score(df_test[\"class\"], pred_bow_simple)"
   ]
  },
  {
   "cell_type": "markdown",
   "metadata": {},
   "source": [
    "Is the lemmatization improving the test accuracy?"
   ]
  },
  {
   "cell_type": "code",
   "execution_count": 43,
   "metadata": {
    "colab": {
     "base_uri": "https://localhost:8080/"
    },
    "executionInfo": {
     "elapsed": 10,
     "status": "ok",
     "timestamp": 1662020167450,
     "user": {
      "displayName": "Zach Schillaci",
      "userId": "04144020147330636013"
     },
     "user_tz": -120
    },
    "id": "k5fRMDy-XTZA",
    "outputId": "797ea1f6-ba41-482f-e3a1-18f10ab828dc"
   },
   "outputs": [],
   "source": [
    "clf = LogisticRegression(max_iter=int(1e4))\n",
    "clf.fit(bow_train, df_train[\"class\"])\n",
    "\n",
    "# Run the inference on test data\n",
    "pred_bow = clf.predict(vectorizer.transform(df_test[\"text\"]))"
   ]
  },
  {
   "cell_type": "code",
   "execution_count": 44,
   "metadata": {
    "colab": {
     "base_uri": "https://localhost:8080/"
    },
    "executionInfo": {
     "elapsed": 10,
     "status": "ok",
     "timestamp": 1662020167450,
     "user": {
      "displayName": "Zach Schillaci",
      "userId": "04144020147330636013"
     },
     "user_tz": -120
    },
    "id": "k5fRMDy-XTZA",
    "outputId": "797ea1f6-ba41-482f-e3a1-18f10ab828dc"
   },
   "outputs": [
    {
     "data": {
      "text/plain": [
       "0.762982689747004"
      ]
     },
     "execution_count": 44,
     "metadata": {},
     "output_type": "execute_result"
    }
   ],
   "source": [
    "# Report the score\n",
    "accuracy_score(df_test[\"class\"], pred_bow)"
   ]
  },
  {
   "cell_type": "markdown",
   "metadata": {
    "id": "4oQxaBxksixp"
   },
   "source": [
    "Let's see if using TF-IDF weights improves the score further."
   ]
  },
  {
   "cell_type": "code",
   "execution_count": 45,
   "metadata": {
    "colab": {
     "base_uri": "https://localhost:8080/"
    },
    "executionInfo": {
     "elapsed": 25,
     "status": "ok",
     "timestamp": 1662020451269,
     "user": {
      "displayName": "Zach Schillaci",
      "userId": "04144020147330636013"
     },
     "user_tz": -120
    },
    "id": "ABuLdR_KtNMB",
    "outputId": "b149ebfd-8841-4d8f-af90-a14646920f97"
   },
   "outputs": [],
   "source": [
    "clf = LogisticRegression(max_iter=int(1e4))\n",
    "clf.fit(tfidf_train, df_train[\"class\"])\n",
    "\n",
    "# Run the inference on test data\n",
    "pred_tfidf = clf.predict(tfidf_vectorizer.transform(df_test[\"text\"]))"
   ]
  },
  {
   "cell_type": "code",
   "execution_count": 46,
   "metadata": {
    "colab": {
     "base_uri": "https://localhost:8080/"
    },
    "executionInfo": {
     "elapsed": 25,
     "status": "ok",
     "timestamp": 1662020451269,
     "user": {
      "displayName": "Zach Schillaci",
      "userId": "04144020147330636013"
     },
     "user_tz": -120
    },
    "id": "ABuLdR_KtNMB",
    "outputId": "b149ebfd-8841-4d8f-af90-a14646920f97"
   },
   "outputs": [
    {
     "data": {
      "text/plain": [
       "0.7902796271637816"
      ]
     },
     "execution_count": 46,
     "metadata": {},
     "output_type": "execute_result"
    }
   ],
   "source": [
    "# Report the score\n",
    "accuracy_score(df_test[\"class\"], pred_tfidf)"
   ]
  },
  {
   "cell_type": "markdown",
   "metadata": {
    "id": "lrNaJO09u4zR"
   },
   "source": [
    "This already performs better than a simple BOW model. You can try changing the vectorizer parameters or using a different ML model for the classification. We will investigate more advanced methods in later labs."
   ]
  },
  {
   "cell_type": "markdown",
   "metadata": {},
   "source": [
    "### 4.2. Hyper-Parameter Tuning"
   ]
  },
  {
   "cell_type": "markdown",
   "metadata": {},
   "source": [
    "We can perform a cross-validated grid search to select the best hyper-parameter values for both the TF-IDF vectorizer and the logistic regression model at the same time using a sklearn `Pipeline`. For the TF-IDF Vectorizer, let's for example check if considering bigrams in the vocabulary helps the classifier. For the logistic regression, the tuning parameter is the cost ($1/penalty$) `'C'`."
   ]
  },
  {
   "cell_type": "code",
   "execution_count": 47,
   "metadata": {},
   "outputs": [],
   "source": [
    "from sklearn.pipeline import Pipeline\n",
    "from sklearn.model_selection import KFold, GridSearchCV"
   ]
  },
  {
   "cell_type": "code",
   "execution_count": 48,
   "metadata": {},
   "outputs": [],
   "source": [
    "logistic_pipe = Pipeline([\n",
    "    (\"tfidf\", TfidfVectorizer(tokenizer=custom_tokenizer, lowercase=True, min_df=1e-3, max_df=0.999)),\n",
    "    (\"logistic\", LogisticRegression(max_iter=int(1e4)))\n",
    "])"
   ]
  },
  {
   "cell_type": "code",
   "execution_count": 76,
   "metadata": {},
   "outputs": [
    {
     "name": "stderr",
     "output_type": "stream",
     "text": [
      "C:\\Users\\pascheo\\Anaconda3\\lib\\site-packages\\sklearn\\feature_extraction\\text.py:528: UserWarning: The parameter 'token_pattern' will not be used since 'tokenizer' is not None'\n",
      "  warnings.warn(\n"
     ]
    },
    {
     "data": {
      "text/html": [
       "<style>#sk-container-id-5 {color: black;background-color: white;}#sk-container-id-5 pre{padding: 0;}#sk-container-id-5 div.sk-toggleable {background-color: white;}#sk-container-id-5 label.sk-toggleable__label {cursor: pointer;display: block;width: 100%;margin-bottom: 0;padding: 0.3em;box-sizing: border-box;text-align: center;}#sk-container-id-5 label.sk-toggleable__label-arrow:before {content: \"▸\";float: left;margin-right: 0.25em;color: #696969;}#sk-container-id-5 label.sk-toggleable__label-arrow:hover:before {color: black;}#sk-container-id-5 div.sk-estimator:hover label.sk-toggleable__label-arrow:before {color: black;}#sk-container-id-5 div.sk-toggleable__content {max-height: 0;max-width: 0;overflow: hidden;text-align: left;background-color: #f0f8ff;}#sk-container-id-5 div.sk-toggleable__content pre {margin: 0.2em;color: black;border-radius: 0.25em;background-color: #f0f8ff;}#sk-container-id-5 input.sk-toggleable__control:checked~div.sk-toggleable__content {max-height: 200px;max-width: 100%;overflow: auto;}#sk-container-id-5 input.sk-toggleable__control:checked~label.sk-toggleable__label-arrow:before {content: \"▾\";}#sk-container-id-5 div.sk-estimator input.sk-toggleable__control:checked~label.sk-toggleable__label {background-color: #d4ebff;}#sk-container-id-5 div.sk-label input.sk-toggleable__control:checked~label.sk-toggleable__label {background-color: #d4ebff;}#sk-container-id-5 input.sk-hidden--visually {border: 0;clip: rect(1px 1px 1px 1px);clip: rect(1px, 1px, 1px, 1px);height: 1px;margin: -1px;overflow: hidden;padding: 0;position: absolute;width: 1px;}#sk-container-id-5 div.sk-estimator {font-family: monospace;background-color: #f0f8ff;border: 1px dotted black;border-radius: 0.25em;box-sizing: border-box;margin-bottom: 0.5em;}#sk-container-id-5 div.sk-estimator:hover {background-color: #d4ebff;}#sk-container-id-5 div.sk-parallel-item::after {content: \"\";width: 100%;border-bottom: 1px solid gray;flex-grow: 1;}#sk-container-id-5 div.sk-label:hover label.sk-toggleable__label {background-color: #d4ebff;}#sk-container-id-5 div.sk-serial::before {content: \"\";position: absolute;border-left: 1px solid gray;box-sizing: border-box;top: 0;bottom: 0;left: 50%;z-index: 0;}#sk-container-id-5 div.sk-serial {display: flex;flex-direction: column;align-items: center;background-color: white;padding-right: 0.2em;padding-left: 0.2em;position: relative;}#sk-container-id-5 div.sk-item {position: relative;z-index: 1;}#sk-container-id-5 div.sk-parallel {display: flex;align-items: stretch;justify-content: center;background-color: white;position: relative;}#sk-container-id-5 div.sk-item::before, #sk-container-id-5 div.sk-parallel-item::before {content: \"\";position: absolute;border-left: 1px solid gray;box-sizing: border-box;top: 0;bottom: 0;left: 50%;z-index: -1;}#sk-container-id-5 div.sk-parallel-item {display: flex;flex-direction: column;z-index: 1;position: relative;background-color: white;}#sk-container-id-5 div.sk-parallel-item:first-child::after {align-self: flex-end;width: 50%;}#sk-container-id-5 div.sk-parallel-item:last-child::after {align-self: flex-start;width: 50%;}#sk-container-id-5 div.sk-parallel-item:only-child::after {width: 0;}#sk-container-id-5 div.sk-dashed-wrapped {border: 1px dashed gray;margin: 0 0.4em 0.5em 0.4em;box-sizing: border-box;padding-bottom: 0.4em;background-color: white;}#sk-container-id-5 div.sk-label label {font-family: monospace;font-weight: bold;display: inline-block;line-height: 1.2em;}#sk-container-id-5 div.sk-label-container {text-align: center;}#sk-container-id-5 div.sk-container {/* jupyter's `normalize.less` sets `[hidden] { display: none; }` but bootstrap.min.css set `[hidden] { display: none !important; }` so we also need the `!important` here to be able to override the default hidden behavior on the sphinx rendered scikit-learn.org. See: https://github.com/scikit-learn/scikit-learn/issues/21755 */display: inline-block !important;position: relative;}#sk-container-id-5 div.sk-text-repr-fallback {display: none;}</style><div id=\"sk-container-id-5\" class=\"sk-top-container\"><div class=\"sk-text-repr-fallback\"><pre>GridSearchCV(cv=KFold(n_splits=3, random_state=42, shuffle=True),\n",
       "             estimator=Pipeline(steps=[(&#x27;tfidf&#x27;,\n",
       "                                        TfidfVectorizer(min_df=0.001,\n",
       "                                                        tokenizer=&lt;function custom_tokenizer at 0x0000024C2DCEC1F0&gt;)),\n",
       "                                       (&#x27;logistic&#x27;,\n",
       "                                        LogisticRegression(max_iter=10000,\n",
       "                                                           multi_class=&#x27;multinomial&#x27;))]),\n",
       "             n_jobs=-2,\n",
       "             param_grid={&#x27;logistic__C&#x27;: [10, 100, 1000],\n",
       "                         &#x27;tfidf__ngram_range&#x27;: [(1, 1), (1, 2)]},\n",
       "             scoring=&#x27;accuracy&#x27;)</pre><b>In a Jupyter environment, please rerun this cell to show the HTML representation or trust the notebook. <br />On GitHub, the HTML representation is unable to render, please try loading this page with nbviewer.org.</b></div><div class=\"sk-container\" hidden><div class=\"sk-item sk-dashed-wrapped\"><div class=\"sk-label-container\"><div class=\"sk-label sk-toggleable\"><input class=\"sk-toggleable__control sk-hidden--visually\" id=\"sk-estimator-id-14\" type=\"checkbox\" ><label for=\"sk-estimator-id-14\" class=\"sk-toggleable__label sk-toggleable__label-arrow\">GridSearchCV</label><div class=\"sk-toggleable__content\"><pre>GridSearchCV(cv=KFold(n_splits=3, random_state=42, shuffle=True),\n",
       "             estimator=Pipeline(steps=[(&#x27;tfidf&#x27;,\n",
       "                                        TfidfVectorizer(min_df=0.001,\n",
       "                                                        tokenizer=&lt;function custom_tokenizer at 0x0000024C2DCEC1F0&gt;)),\n",
       "                                       (&#x27;logistic&#x27;,\n",
       "                                        LogisticRegression(max_iter=10000,\n",
       "                                                           multi_class=&#x27;multinomial&#x27;))]),\n",
       "             n_jobs=-2,\n",
       "             param_grid={&#x27;logistic__C&#x27;: [10, 100, 1000],\n",
       "                         &#x27;tfidf__ngram_range&#x27;: [(1, 1), (1, 2)]},\n",
       "             scoring=&#x27;accuracy&#x27;)</pre></div></div></div><div class=\"sk-parallel\"><div class=\"sk-parallel-item\"><div class=\"sk-item\"><div class=\"sk-label-container\"><div class=\"sk-label sk-toggleable\"><input class=\"sk-toggleable__control sk-hidden--visually\" id=\"sk-estimator-id-15\" type=\"checkbox\" ><label for=\"sk-estimator-id-15\" class=\"sk-toggleable__label sk-toggleable__label-arrow\">estimator: Pipeline</label><div class=\"sk-toggleable__content\"><pre>Pipeline(steps=[(&#x27;tfidf&#x27;,\n",
       "                 TfidfVectorizer(min_df=0.001,\n",
       "                                 tokenizer=&lt;function custom_tokenizer at 0x0000024C2DCEC1F0&gt;)),\n",
       "                (&#x27;logistic&#x27;,\n",
       "                 LogisticRegression(max_iter=10000,\n",
       "                                    multi_class=&#x27;multinomial&#x27;))])</pre></div></div></div><div class=\"sk-serial\"><div class=\"sk-item\"><div class=\"sk-serial\"><div class=\"sk-item\"><div class=\"sk-estimator sk-toggleable\"><input class=\"sk-toggleable__control sk-hidden--visually\" id=\"sk-estimator-id-16\" type=\"checkbox\" ><label for=\"sk-estimator-id-16\" class=\"sk-toggleable__label sk-toggleable__label-arrow\">TfidfVectorizer</label><div class=\"sk-toggleable__content\"><pre>TfidfVectorizer(min_df=0.001,\n",
       "                tokenizer=&lt;function custom_tokenizer at 0x0000024C2DCEC1F0&gt;)</pre></div></div></div><div class=\"sk-item\"><div class=\"sk-estimator sk-toggleable\"><input class=\"sk-toggleable__control sk-hidden--visually\" id=\"sk-estimator-id-17\" type=\"checkbox\" ><label for=\"sk-estimator-id-17\" class=\"sk-toggleable__label sk-toggleable__label-arrow\">LogisticRegression</label><div class=\"sk-toggleable__content\"><pre>LogisticRegression(max_iter=10000, multi_class=&#x27;multinomial&#x27;)</pre></div></div></div></div></div></div></div></div></div></div></div></div>"
      ],
      "text/plain": [
       "GridSearchCV(cv=KFold(n_splits=3, random_state=42, shuffle=True),\n",
       "             estimator=Pipeline(steps=[('tfidf',\n",
       "                                        TfidfVectorizer(min_df=0.001,\n",
       "                                                        tokenizer=<function custom_tokenizer at 0x0000024C2DCEC1F0>)),\n",
       "                                       ('logistic',\n",
       "                                        LogisticRegression(max_iter=10000,\n",
       "                                                           multi_class='multinomial'))]),\n",
       "             n_jobs=-2,\n",
       "             param_grid={'logistic__C': [10, 100, 1000],\n",
       "                         'tfidf__ngram_range': [(1, 1), (1, 2)]},\n",
       "             scoring='accuracy')"
      ]
     },
     "execution_count": 76,
     "metadata": {},
     "output_type": "execute_result"
    }
   ],
   "source": [
    "# Define parameter grid\n",
    "my_grid = {\n",
    "    'tfidf__ngram_range': [(1, 1), (1, 2)],\n",
    "    \"logistic__C\": [10, 100, 1000],\n",
    "}\n",
    "\n",
    "# Define folds\n",
    "folds = KFold(n_splits=3, shuffle=True, random_state=42)\n",
    "\n",
    "# Define grid search CV\n",
    "tfidf_logistic_cv = GridSearchCV(estimator=logistic_pipe, param_grid=my_grid, scoring=\"accuracy\", cv=folds, n_jobs=-2)\n",
    "\n",
    "# Run CV\n",
    "tfidf_logistic_cv.fit(df_train[\"text\"], df_train[\"class\"])"
   ]
  },
  {
   "cell_type": "code",
   "execution_count": 77,
   "metadata": {},
   "outputs": [
    {
     "data": {
      "text/html": [
       "<div>\n",
       "<style scoped>\n",
       "    .dataframe tbody tr th:only-of-type {\n",
       "        vertical-align: middle;\n",
       "    }\n",
       "\n",
       "    .dataframe tbody tr th {\n",
       "        vertical-align: top;\n",
       "    }\n",
       "\n",
       "    .dataframe thead th {\n",
       "        text-align: right;\n",
       "    }\n",
       "</style>\n",
       "<table border=\"1\" class=\"dataframe\">\n",
       "  <thead>\n",
       "    <tr style=\"text-align: right;\">\n",
       "      <th></th>\n",
       "      <th>mean_fit_time</th>\n",
       "      <th>std_fit_time</th>\n",
       "      <th>mean_score_time</th>\n",
       "      <th>std_score_time</th>\n",
       "      <th>param_logistic__C</th>\n",
       "      <th>param_tfidf__ngram_range</th>\n",
       "      <th>params</th>\n",
       "      <th>split0_test_score</th>\n",
       "      <th>split1_test_score</th>\n",
       "      <th>split2_test_score</th>\n",
       "      <th>mean_test_score</th>\n",
       "      <th>std_test_score</th>\n",
       "      <th>rank_test_score</th>\n",
       "    </tr>\n",
       "  </thead>\n",
       "  <tbody>\n",
       "    <tr>\n",
       "      <th>2</th>\n",
       "      <td>59.497286</td>\n",
       "      <td>7.672235</td>\n",
       "      <td>29.446819</td>\n",
       "      <td>2.391476</td>\n",
       "      <td>100</td>\n",
       "      <td>(1, 1)</td>\n",
       "      <td>{'logistic__C': 100, 'tfidf__ngram_range': (1,...</td>\n",
       "      <td>0.868526</td>\n",
       "      <td>0.859043</td>\n",
       "      <td>0.851064</td>\n",
       "      <td>0.859544</td>\n",
       "      <td>0.007138</td>\n",
       "      <td>1</td>\n",
       "    </tr>\n",
       "    <tr>\n",
       "      <th>0</th>\n",
       "      <td>45.952068</td>\n",
       "      <td>1.381878</td>\n",
       "      <td>31.013361</td>\n",
       "      <td>1.099879</td>\n",
       "      <td>10</td>\n",
       "      <td>(1, 1)</td>\n",
       "      <td>{'logistic__C': 10, 'tfidf__ngram_range': (1, 1)}</td>\n",
       "      <td>0.864542</td>\n",
       "      <td>0.857713</td>\n",
       "      <td>0.849734</td>\n",
       "      <td>0.857330</td>\n",
       "      <td>0.006051</td>\n",
       "      <td>2</td>\n",
       "    </tr>\n",
       "    <tr>\n",
       "      <th>4</th>\n",
       "      <td>60.970096</td>\n",
       "      <td>13.564977</td>\n",
       "      <td>24.709396</td>\n",
       "      <td>3.421494</td>\n",
       "      <td>1000</td>\n",
       "      <td>(1, 1)</td>\n",
       "      <td>{'logistic__C': 1000, 'tfidf__ngram_range': (1...</td>\n",
       "      <td>0.861886</td>\n",
       "      <td>0.852394</td>\n",
       "      <td>0.845745</td>\n",
       "      <td>0.853341</td>\n",
       "      <td>0.006624</td>\n",
       "      <td>3</td>\n",
       "    </tr>\n",
       "    <tr>\n",
       "      <th>1</th>\n",
       "      <td>52.562788</td>\n",
       "      <td>0.741009</td>\n",
       "      <td>33.600293</td>\n",
       "      <td>1.090875</td>\n",
       "      <td>10</td>\n",
       "      <td>(1, 2)</td>\n",
       "      <td>{'logistic__C': 10, 'tfidf__ngram_range': (1, 2)}</td>\n",
       "      <td>0.868526</td>\n",
       "      <td>0.847074</td>\n",
       "      <td>0.841755</td>\n",
       "      <td>0.852452</td>\n",
       "      <td>0.011572</td>\n",
       "      <td>4</td>\n",
       "    </tr>\n",
       "    <tr>\n",
       "      <th>3</th>\n",
       "      <td>74.983177</td>\n",
       "      <td>2.083764</td>\n",
       "      <td>27.871013</td>\n",
       "      <td>1.014869</td>\n",
       "      <td>100</td>\n",
       "      <td>(1, 2)</td>\n",
       "      <td>{'logistic__C': 100, 'tfidf__ngram_range': (1,...</td>\n",
       "      <td>0.864542</td>\n",
       "      <td>0.847074</td>\n",
       "      <td>0.843085</td>\n",
       "      <td>0.851567</td>\n",
       "      <td>0.009318</td>\n",
       "      <td>5</td>\n",
       "    </tr>\n",
       "    <tr>\n",
       "      <th>5</th>\n",
       "      <td>50.044275</td>\n",
       "      <td>2.023628</td>\n",
       "      <td>14.360304</td>\n",
       "      <td>1.448081</td>\n",
       "      <td>1000</td>\n",
       "      <td>(1, 2)</td>\n",
       "      <td>{'logistic__C': 1000, 'tfidf__ngram_range': (1...</td>\n",
       "      <td>0.860558</td>\n",
       "      <td>0.845745</td>\n",
       "      <td>0.844415</td>\n",
       "      <td>0.850239</td>\n",
       "      <td>0.007317</td>\n",
       "      <td>6</td>\n",
       "    </tr>\n",
       "  </tbody>\n",
       "</table>\n",
       "</div>"
      ],
      "text/plain": [
       "   mean_fit_time  std_fit_time  mean_score_time  std_score_time  \\\n",
       "2      59.497286      7.672235        29.446819        2.391476   \n",
       "0      45.952068      1.381878        31.013361        1.099879   \n",
       "4      60.970096     13.564977        24.709396        3.421494   \n",
       "1      52.562788      0.741009        33.600293        1.090875   \n",
       "3      74.983177      2.083764        27.871013        1.014869   \n",
       "5      50.044275      2.023628        14.360304        1.448081   \n",
       "\n",
       "  param_logistic__C param_tfidf__ngram_range  \\\n",
       "2               100                   (1, 1)   \n",
       "0                10                   (1, 1)   \n",
       "4              1000                   (1, 1)   \n",
       "1                10                   (1, 2)   \n",
       "3               100                   (1, 2)   \n",
       "5              1000                   (1, 2)   \n",
       "\n",
       "                                              params  split0_test_score  \\\n",
       "2  {'logistic__C': 100, 'tfidf__ngram_range': (1,...           0.868526   \n",
       "0  {'logistic__C': 10, 'tfidf__ngram_range': (1, 1)}           0.864542   \n",
       "4  {'logistic__C': 1000, 'tfidf__ngram_range': (1...           0.861886   \n",
       "1  {'logistic__C': 10, 'tfidf__ngram_range': (1, 2)}           0.868526   \n",
       "3  {'logistic__C': 100, 'tfidf__ngram_range': (1,...           0.864542   \n",
       "5  {'logistic__C': 1000, 'tfidf__ngram_range': (1...           0.860558   \n",
       "\n",
       "   split1_test_score  split2_test_score  mean_test_score  std_test_score  \\\n",
       "2           0.859043           0.851064         0.859544        0.007138   \n",
       "0           0.857713           0.849734         0.857330        0.006051   \n",
       "4           0.852394           0.845745         0.853341        0.006624   \n",
       "1           0.847074           0.841755         0.852452        0.011572   \n",
       "3           0.847074           0.843085         0.851567        0.009318   \n",
       "5           0.845745           0.844415         0.850239        0.007317   \n",
       "\n",
       "   rank_test_score  \n",
       "2                1  \n",
       "0                2  \n",
       "4                3  \n",
       "1                4  \n",
       "3                5  \n",
       "5                6  "
      ]
     },
     "execution_count": 77,
     "metadata": {},
     "output_type": "execute_result"
    }
   ],
   "source": [
    "pd.DataFrame(tfidf_logistic_cv.cv_results_).sort_values(\"rank_test_score\")"
   ]
  },
  {
   "cell_type": "code",
   "execution_count": 79,
   "metadata": {},
   "outputs": [
    {
     "data": {
      "text/plain": [
       "{'logistic__C': 100, 'tfidf__ngram_range': (1, 1)}"
      ]
     },
     "execution_count": 79,
     "metadata": {},
     "output_type": "execute_result"
    }
   ],
   "source": [
    "tfidf_logistic_cv.best_params_"
   ]
  },
  {
   "cell_type": "code",
   "execution_count": null,
   "metadata": {},
   "outputs": [],
   "source": [
    "best_model = tfidf_logistic_cv.best_estimator_"
   ]
  },
  {
   "cell_type": "code",
   "execution_count": null,
   "metadata": {},
   "outputs": [],
   "source": [
    "#best_model = Pipeline([\n",
    "#    (\"tfidf\", TfidfVectorizer(tokenizer=custom_tokenizer, ngram_range=(1,1), lowercase=True, min_df=1e-3, max_df=0.999)),\n",
    "#    (\"logistic\", LogisticRegression(C=100, multi_class=\"multinomial\", max_iter=int(1e4)))\n",
    "#])\n",
    "#best_model.fit(df_train[\"text\"], df_train[\"class\"])"
   ]
  },
  {
   "cell_type": "code",
   "execution_count": 52,
   "metadata": {},
   "outputs": [
    {
     "data": {
      "text/plain": [
       "0.8015978695073236"
      ]
     },
     "execution_count": 52,
     "metadata": {},
     "output_type": "execute_result"
    }
   ],
   "source": [
    "y_hat = best_model.predict(df_test[\"text\"])\n",
    "accuracy_score(df_test[\"class\"], y_hat)"
   ]
  },
  {
   "cell_type": "markdown",
   "metadata": {},
   "source": [
    "### 4.3. Diagnostics"
   ]
  },
  {
   "cell_type": "markdown",
   "metadata": {},
   "source": [
    "We can run some classification accuracy diagnostics to understand in more detail how our model is performing."
   ]
  },
  {
   "cell_type": "code",
   "execution_count": 50,
   "metadata": {},
   "outputs": [],
   "source": [
    "from sklearn.metrics import confusion_matrix, ConfusionMatrixDisplay, classification_report"
   ]
  },
  {
   "cell_type": "code",
   "execution_count": 53,
   "metadata": {},
   "outputs": [
    {
     "data": {
      "image/png": "[encoded data removed]",
      "text/plain": [
       "<Figure size 640x480 with 2 Axes>"
      ]
     },
     "metadata": {},
     "output_type": "display_data"
    }
   ],
   "source": [
    "cm = confusion_matrix(df_test[\"class\"], y_hat)\n",
    "ConfusionMatrixDisplay(confusion_matrix=cm, display_labels=data_test.target_names).plot()\n",
    "plt.show()"
   ]
  },
  {
   "cell_type": "markdown",
   "metadata": {},
   "source": [
    "rows = actual category\n",
    "\n",
    "columns = predicted category"
   ]
  },
  {
   "cell_type": "code",
   "execution_count": 54,
   "metadata": {
    "scrolled": true
   },
   "outputs": [
    {
     "name": "stdout",
     "output_type": "stream",
     "text": [
      "                        precision    recall  f1-score   support\n",
      "\n",
      "           alt.atheism       0.72      0.65      0.68       319\n",
      "         comp.graphics       0.87      0.87      0.87       389\n",
      "               sci.med       0.80      0.87      0.83       396\n",
      "soc.religion.christian       0.80      0.79      0.79       398\n",
      "\n",
      "              accuracy                           0.80      1502\n",
      "             macro avg       0.80      0.79      0.79      1502\n",
      "          weighted avg       0.80      0.80      0.80      1502\n",
      "\n"
     ]
    }
   ],
   "source": [
    "print(classification_report(df_test[\"class\"], y_hat, target_names=data_test.target_names))"
   ]
  },
  {
   "cell_type": "markdown",
   "metadata": {},
   "source": [
    "precision = $TP/(TP+FP)$ = When the model is predicting this class, how often it is right\n",
    "\n",
    "recall = $TP/(TP+FN)$ = How well the model is performing (accuracy) within each (true) class\n",
    "\n",
    "F1 = harmonic mean of precision and recall = $\\frac{2}{(1/precision)+(1/recall)}$ (1= best, prefect precision and recall, 0=worst, either precision or recall is zero)\n",
    "\n",
    "support = number of occurences in the test set"
   ]
  },
  {
   "cell_type": "markdown",
   "metadata": {},
   "source": [
    "Predict the topic of a few sentences:"
   ]
  },
  {
   "cell_type": "code",
   "execution_count": 56,
   "metadata": {},
   "outputs": [
    {
     "name": "stdout",
     "output_type": "stream",
     "text": [
      "Lungs and heart health => sci.med\n",
      "CPU or GPU? => alt.atheism\n",
      "God is love => soc.religion.christian\n"
     ]
    }
   ],
   "source": [
    "docs_new = ['Lungs and heart health', \"CPU or GPU?\", 'God is love']\n",
    "\n",
    "predicted = best_model.predict(docs_new)\n",
    "\n",
    "for doc, category in zip(docs_new, predicted):\n",
    "    print(doc, \"=>\", data_test.target_names[category])"
   ]
  },
  {
   "cell_type": "markdown",
   "metadata": {},
   "source": [
    "## Appendix: Text wrangling and preprocessing"
   ]
  },
  {
   "cell_type": "markdown",
   "metadata": {},
   "source": [
    "In practice, textual datasets are rarely clean nor well structured, and often need some wrangling and preprocessing to be used effectively. \n",
    "\n",
    "Furthermore, depending on the specific task and context at hand, there are often other tailor-made transformations that can prove usefull as an addition or a replacement to normalization. (E.g. the way you would like to handle the `@`symbol might differ between e-mail and social media data. Or there might be specific groups of words that have similar meaning in general, but whose differentiation is important in a specific context.)\n",
    "\n",
    "Additionally to processing and normalizing the test for vectorisation, manual feature extraction can also prove useful. For example the number of exclamation marks, the number of ALL CAPS WORDS, or the average word per sentence ratio might give additional information on the tone or sentiment of written text, depending on the context and model.\n",
    "\n",
    "Here are a few basic string methods that can come in handy for those scenarios."
   ]
  },
  {
   "cell_type": "code",
   "execution_count": 57,
   "metadata": {},
   "outputs": [],
   "source": [
    "import string"
   ]
  },
  {
   "cell_type": "code",
   "execution_count": 58,
   "metadata": {},
   "outputs": [
    {
     "data": {
      "text/plain": [
       "'Hi there!'"
      ]
     },
     "execution_count": 58,
     "metadata": {},
     "output_type": "execute_result"
    }
   ],
   "source": [
    "text = \"Hi there!\"\n",
    "text"
   ]
  },
  {
   "cell_type": "code",
   "execution_count": 59,
   "metadata": {},
   "outputs": [
    {
     "data": {
      "text/plain": [
       "'Hello there!'"
      ]
     },
     "execution_count": 59,
     "metadata": {},
     "output_type": "execute_result"
    }
   ],
   "source": [
    "text.replace(\"Hi\",\"Hello\")"
   ]
  },
  {
   "cell_type": "code",
   "execution_count": 60,
   "metadata": {},
   "outputs": [
    {
     "data": {
      "text/plain": [
       "'Hi there ! '"
      ]
     },
     "execution_count": 60,
     "metadata": {},
     "output_type": "execute_result"
    }
   ],
   "source": [
    "text.replace(\"!\",\" ! \")"
   ]
  },
  {
   "cell_type": "code",
   "execution_count": 61,
   "metadata": {},
   "outputs": [
    {
     "data": {
      "text/plain": [
       "'Hi thr!'"
      ]
     },
     "execution_count": 61,
     "metadata": {},
     "output_type": "execute_result"
    }
   ],
   "source": [
    "text.replace(\"e\",\"\")"
   ]
  },
  {
   "cell_type": "code",
   "execution_count": 62,
   "metadata": {},
   "outputs": [
    {
     "data": {
      "text/plain": [
       "['Hi', 'there!']"
      ]
     },
     "execution_count": 62,
     "metadata": {},
     "output_type": "execute_result"
    }
   ],
   "source": [
    "text.split(\" \")"
   ]
  },
  {
   "cell_type": "code",
   "execution_count": 63,
   "metadata": {},
   "outputs": [
    {
     "data": {
      "text/plain": [
       "'hi there!'"
      ]
     },
     "execution_count": 63,
     "metadata": {},
     "output_type": "execute_result"
    }
   ],
   "source": [
    "text.lower()"
   ]
  },
  {
   "cell_type": "code",
   "execution_count": 64,
   "metadata": {},
   "outputs": [
    {
     "data": {
      "text/plain": [
       "'!\"#$%&\\'()*+,-./:;<=>?@[\\\\]^_`{|}~'"
      ]
     },
     "execution_count": 64,
     "metadata": {},
     "output_type": "execute_result"
    }
   ],
   "source": [
    "string.punctuation"
   ]
  },
  {
   "cell_type": "markdown",
   "metadata": {},
   "source": [
    "The few examples above are just to inspire you some ideas. There are many things you could think of to analyze and extract informative summaries from text data. The pandas `<pd.Series>.apply()` method can come in very handy with custom user-defined functions.\n",
    "\n",
    "pd.Series also has a `str` subset of methods for text data. Here are a few dummy examples."
   ]
  },
  {
   "cell_type": "code",
   "execution_count": 65,
   "metadata": {},
   "outputs": [
    {
     "data": {
      "text/html": [
       "<div>\n",
       "<style scoped>\n",
       "    .dataframe tbody tr th:only-of-type {\n",
       "        vertical-align: middle;\n",
       "    }\n",
       "\n",
       "    .dataframe tbody tr th {\n",
       "        vertical-align: top;\n",
       "    }\n",
       "\n",
       "    .dataframe thead th {\n",
       "        text-align: right;\n",
       "    }\n",
       "</style>\n",
       "<table border=\"1\" class=\"dataframe\">\n",
       "  <thead>\n",
       "    <tr style=\"text-align: right;\">\n",
       "      <th></th>\n",
       "      <th>my_text</th>\n",
       "    </tr>\n",
       "  </thead>\n",
       "  <tbody>\n",
       "    <tr>\n",
       "      <th>0</th>\n",
       "      <td>Hi there!</td>\n",
       "    </tr>\n",
       "    <tr>\n",
       "      <th>1</th>\n",
       "      <td>My dog is cute.</td>\n",
       "    </tr>\n",
       "    <tr>\n",
       "      <th>2</th>\n",
       "      <td>i lost my wallet</td>\n",
       "    </tr>\n",
       "  </tbody>\n",
       "</table>\n",
       "</div>"
      ],
      "text/plain": [
       "            my_text\n",
       "0         Hi there!\n",
       "1   My dog is cute.\n",
       "2  i lost my wallet"
      ]
     },
     "execution_count": 65,
     "metadata": {},
     "output_type": "execute_result"
    }
   ],
   "source": [
    "import pandas as pd\n",
    "str_text = pd.DataFrame({\"my_text\":[\"Hi there!\",\"My dog is cute.\",\"i lost my wallet\"]})\n",
    "str_text"
   ]
  },
  {
   "cell_type": "code",
   "execution_count": 67,
   "metadata": {},
   "outputs": [
    {
     "data": {
      "text/plain": [
       "0           Hi there!\n",
       "1     My dog is cute.\n",
       "2    I lost my wallet\n",
       "Name: my_text, dtype: object"
      ]
     },
     "execution_count": 67,
     "metadata": {},
     "output_type": "execute_result"
    }
   ],
   "source": [
    "str_text.my_text.str.capitalize()"
   ]
  },
  {
   "cell_type": "code",
   "execution_count": 68,
   "metadata": {},
   "outputs": [
    {
     "data": {
      "text/plain": [
       "0           hi there!\n",
       "1     my dog is cute.\n",
       "2    i lost my wallet\n",
       "Name: my_text, dtype: object"
      ]
     },
     "execution_count": 68,
     "metadata": {},
     "output_type": "execute_result"
    }
   ],
   "source": [
    "str_text.my_text.str.lower()"
   ]
  },
  {
   "cell_type": "code",
   "execution_count": 69,
   "metadata": {},
   "outputs": [
    {
     "data": {
      "text/plain": [
       "0    False\n",
       "1     True\n",
       "2     True\n",
       "Name: my_text, dtype: bool"
      ]
     },
     "execution_count": 69,
     "metadata": {},
     "output_type": "execute_result"
    }
   ],
   "source": [
    "str_text.my_text.str.contains(\"y\")"
   ]
  },
  {
   "cell_type": "code",
   "execution_count": 70,
   "metadata": {},
   "outputs": [
    {
     "data": {
      "text/plain": [
       "0    False\n",
       "1    False\n",
       "2     True\n",
       "Name: my_text, dtype: bool"
      ]
     },
     "execution_count": 70,
     "metadata": {},
     "output_type": "execute_result"
    }
   ],
   "source": [
    "str_text.my_text.str.contains(\"my\")"
   ]
  },
  {
   "cell_type": "code",
   "execution_count": 71,
   "metadata": {},
   "outputs": [
    {
     "data": {
      "text/plain": [
       "0    2\n",
       "1    1\n",
       "2    1\n",
       "Name: my_text, dtype: int64"
      ]
     },
     "execution_count": 71,
     "metadata": {},
     "output_type": "execute_result"
    }
   ],
   "source": [
    "str_text.my_text.str.count(\"e\")"
   ]
  },
  {
   "cell_type": "code",
   "execution_count": 72,
   "metadata": {},
   "outputs": [
    {
     "data": {
      "text/plain": [
       "0            Hi thr!\n",
       "1     My dog is cut.\n",
       "2    i lost my wallt\n",
       "Name: my_text, dtype: object"
      ]
     },
     "execution_count": 72,
     "metadata": {},
     "output_type": "execute_result"
    }
   ],
   "source": [
    "str_text.my_text.str.replace(\"e\",\"\")"
   ]
  },
  {
   "cell_type": "markdown",
   "metadata": {},
   "source": [
    "Many more examples in the pandas documentation.\n",
    "\n",
    "For more complicated text processing procedures, one would usually turn to [**regular expressions**](https://en.wikipedia.org/wiki/Regular_expression), as a much more powerful tool. The [`re` module](https://docs.python.org/3/library/re.html) provides the base tools to work with regular expressions in python. Some `pandas`'s  `Series.str` methods above also accept regular expressions.\n",
    "\n",
    "This goes beyond the scope of this seminar, but if you are interested:\n",
    "- [Interactive RegEx tutorials](https://regexr.com/)\n",
    "- [Another tutorial](https://www.w3schools.com/python/python_regex.asp)\n",
    "- And many more..."
   ]
  },
  {
   "cell_type": "code",
   "execution_count": 73,
   "metadata": {},
   "outputs": [
    {
     "data": {
      "text/plain": [
       "['Hello', 'Luis']"
      ]
     },
     "execution_count": 73,
     "metadata": {},
     "output_type": "execute_result"
    }
   ],
   "source": [
    "import re\n",
    "re_str = \"Hello, how are you Luis?\"\n",
    "re.findall(\"[A-Z]\\w+\", re_str)"
   ]
  }
 ],
 "metadata": {
  "colab": {
   "authorship_tag": "ABX9TyNCtguPGtWiKfucgbeYKTic",
   "collapsed_sections": [
    "yv7hitczyvUA",
    "VfzsMmdIymLR",
    "IJnX396HzwRM",
    "7byMSxD0yq0O",
    "TfUp_mj32YHg",
    "oNIGZbIM32VC",
    "ss1gb3fi9svt"
   ],
   "name": "Lab1.ipynb",
   "provenance": [],
   "toc_visible": true
  },
  "kernelspec": {
   "display_name": "Python 3 (ipykernel)",
   "language": "python",
   "name": "python3"
  },
  "language_info": {
   "codemirror_mode": {
    "name": "ipython",
    "version": 3
   },
   "file_extension": ".py",
   "mimetype": "text/x-python",
   "name": "python",
   "nbconvert_exporter": "python",
   "pygments_lexer": "ipython3",
   "version": "3.9.16"
  },
  "vscode": {
   "interpreter": {
    "hash": "916dbcbb3f70747c44a77c7bcd40155683ae19c65e1c03b4aa3499c5328201f1"
   }
  }
 },
 "nbformat": 4,
 "nbformat_minor": 1
}
