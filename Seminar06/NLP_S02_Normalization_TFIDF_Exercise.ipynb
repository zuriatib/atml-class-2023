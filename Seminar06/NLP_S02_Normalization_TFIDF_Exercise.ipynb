{
 "cells": [
  {
   "cell_type": "markdown",
   "metadata": {
    "id": "6Jwv4NQIZQx3"
   },
   "source": [
    "# NLP Seminar 2 - Normalization and Simple Word Embeddings"
   ]
  },
  {
   "cell_type": "markdown",
   "metadata": {},
   "source": [
    "# 0. Preliminaries"
   ]
  },
  {
   "cell_type": "markdown",
   "metadata": {},
   "source": [
    "In this first NLP seminar, we focus on classical text normalization methods (stemming, lemmatization) and simple word embedding/vectorization techniques (bag of words, TF-IDF), that will allow us to train machine learning methods on text data. We use again the `nltk` (natural language toolkit) python package, as well as `scikit-learn`."
   ]
  },
  {
   "cell_type": "code",
   "execution_count": null,
   "metadata": {
    "executionInfo": {
     "elapsed": 1946,
     "status": "ok",
     "timestamp": 1662019861618,
     "user": {
      "displayName": "Zach Schillaci",
      "userId": "04144020147330636013"
     },
     "user_tz": -120
    },
    "id": "ZSzIHTvFUnOn"
   },
   "outputs": [],
   "source": [
    "# Module imports\n",
    "import nltk\n",
    "import numpy as np\n",
    "import pandas as pd\n",
    "import matplotlib.pyplot as plt\n",
    "import sklearn\n",
    "from sklearnex import patch_sklearn\n",
    "patch_sklearn(verbose=False)"
   ]
  },
  {
   "cell_type": "code",
   "execution_count": null,
   "metadata": {
    "colab": {
     "base_uri": "https://localhost:8080/"
    },
    "executionInfo": {
     "elapsed": 999,
     "status": "ok",
     "timestamp": 1662019862614,
     "user": {
      "displayName": "Zach Schillaci",
      "userId": "04144020147330636013"
     },
     "user_tz": -120
    },
    "id": "-AtJGJBCWZpo",
    "outputId": "1f533aca-94fc-4526-b7f7-18af2bbce299"
   },
   "outputs": [],
   "source": [
    "# First download some nltk resources\n",
    "#nltk.download(\"stopwords\")\n",
    "#nltk.download(\"wordnet\")\n",
    "#nltk.download(\"omw-1.4\")\n",
    "#nltk.download(\"punkt\")\n",
    "#nltk.download(\"averaged_perceptron_tagger\")\n",
    "# alternatively, they are all part of:\n",
    "nltk.download('popular', quiet=True)\n",
    "nltk.download('universal_tagset', quiet=True)"
   ]
  },
  {
   "cell_type": "markdown",
   "metadata": {
    "id": "m8pxK9ucU-LX"
   },
   "source": [
    "# 1. Download the data\n"
   ]
  },
  {
   "cell_type": "markdown",
   "metadata": {},
   "source": [
    "We will work with the famous `20newsgroups` dataset. It consists of a large collection of news posts across 20 topics. We will be using it to test some basic NLP techniques and train a multi-class classification model to predict the most likely topic for unseen news posts. \n",
    "For more information, check [the dataset description](https://scikit-learn.org/stable/datasets/real_world.html#the-20-newsgroups-text-dataset) and the [import function helper](https://scikit-learn.org/stable/modules/generated/sklearn.datasets.fetch_20newsgroups.html)\n",
    "\n",
    "To make the task a bit harder, we import the data without the headers, footers and quotes.\n",
    "\n",
    "We also restrict the dataset to only 4 of the categories, for presentation simplicity."
   ]
  },
  {
   "cell_type": "code",
   "execution_count": null,
   "metadata": {
    "executionInfo": {
     "elapsed": 19957,
     "status": "ok",
     "timestamp": 1662019882569,
     "user": {
      "displayName": "Zach Schillaci",
      "userId": "04144020147330636013"
     },
     "user_tz": -120
    },
    "id": "VBE9MVJDTSHK"
   },
   "outputs": [],
   "source": [
    "from sklearn.datasets import fetch_20newsgroups\n",
    "# we restrict the data to the following response categories:\n",
    "categories = ['alt.atheism', 'soc.religion.christian', 'comp.graphics', 'sci.med']\n",
    "\n",
    "data_train = fetch_20newsgroups(subset=\"train\", categories=categories, shuffle=True, random_state=42,\n",
    "                                remove=(\"headers\", \"footers\", \"quotes\"))\n",
    "\n",
    "data_test = fetch_20newsgroups(subset=\"test\", categories=categories, shuffle=True, random_state=42,\n",
    "                               remove=(\"headers\", \"footers\", \"quotes\"))\n",
    "\n",
    "df_train = pd.DataFrame({\"text\": data_train.data, \"class\": data_train.target})\n",
    "df_test = pd.DataFrame({\"text\": data_test.data, \"class\": data_test.target})"
   ]
  },
  {
   "cell_type": "code",
   "execution_count": null,
   "metadata": {
    "colab": {
     "base_uri": "https://localhost:8080/",
     "height": 206
    },
    "executionInfo": {
     "elapsed": 21,
     "status": "ok",
     "timestamp": 1662019882569,
     "user": {
      "displayName": "Zach Schillaci",
      "userId": "04144020147330636013"
     },
     "user_tz": -120
    },
    "id": "yaOYzXrqUmTY",
    "outputId": "10c2ff36-5713-4bef-ca6d-afec8797c10a"
   },
   "outputs": [],
   "source": [
    "# Inspect the data\n",
    "df_train.head()"
   ]
  },
  {
   "cell_type": "code",
   "execution_count": null,
   "metadata": {
    "colab": {
     "base_uri": "https://localhost:8080/"
    },
    "executionInfo": {
     "elapsed": 19,
     "status": "ok",
     "timestamp": 1662019882569,
     "user": {
      "displayName": "Zach Schillaci",
      "userId": "04144020147330636013"
     },
     "user_tz": -120
    },
    "id": "Gq_er6VLuSTE",
    "outputId": "0698f796-4d3f-4fcd-ec8a-6d4c3d4c10fa"
   },
   "outputs": [],
   "source": [
    "# How many classes are there to identify?\n",
    "df_train[\"class\"].unique().shape"
   ]
  },
  {
   "cell_type": "code",
   "execution_count": null,
   "metadata": {
    "colab": {
     "base_uri": "https://localhost:8080/"
    },
    "executionInfo": {
     "elapsed": 17,
     "status": "ok",
     "timestamp": 1662019882569,
     "user": {
      "displayName": "Zach Schillaci",
      "userId": "04144020147330636013"
     },
     "user_tz": -120
    },
    "id": "fPPcy8rpuYmF",
    "outputId": "e5cf7ee6-cf81-4849-80e5-5f581d05af79"
   },
   "outputs": [],
   "source": [
    "# What do these class labels correspond to?\n",
    "target_names = data_train.target_names\n",
    "print(target_names)"
   ]
  },
  {
   "cell_type": "code",
   "execution_count": null,
   "metadata": {
    "colab": {
     "base_uri": "https://localhost:8080/"
    },
    "executionInfo": {
     "elapsed": 16,
     "status": "ok",
     "timestamp": 1662019882569,
     "user": {
      "displayName": "Zach Schillaci",
      "userId": "04144020147330636013"
     },
     "user_tz": -120
    },
    "id": "Ck87gAPDWv-f",
    "outputId": "cf91124d-94d3-46e5-800f-a8cf2df37b31"
   },
   "outputs": [],
   "source": [
    "print(f\"Train: {df_train.shape}\")\n",
    "print(f\"Test: {df_test.shape}\")"
   ]
  },
  {
   "cell_type": "markdown",
   "metadata": {
    "id": "t1uc0__Px0R5"
   },
   "source": [
    "# 2. Natural Language Processing: Text Normalization\n",
    "\n",
    "For classic NLP techniques, text normalization can be crucial to good model performance. Their main aim is to decrease the vocabulary size, by reducing similar words to common roots or removing useless words. These techniques include word tokenization, stopword removal, lemmatization, and more. We'll try a few of those here to see their impact on our news classification model.\n",
    "\n",
    "We begin by testing those text normalization methods on a single news post example, before applying them to the entire dataset."
   ]
  },
  {
   "cell_type": "code",
   "execution_count": null,
   "metadata": {
    "executionInfo": {
     "elapsed": 15,
     "status": "ok",
     "timestamp": 1662019882569,
     "user": {
      "displayName": "Zach Schillaci",
      "userId": "04144020147330636013"
     },
     "user_tz": -120
    },
    "id": "NWWF9t3S0OZo"
   },
   "outputs": [],
   "source": [
    "# Take an example entry in the training set for demonstration purposes here\n",
    "text = df_train[\"text\"].iloc[11]\n",
    "print(text)"
   ]
  },
  {
   "cell_type": "markdown",
   "metadata": {
    "id": "yv7hitczyvUA"
   },
   "source": [
    "### 2.1. Tokenization\n",
    "Before any type of normalization, the first step is to tokenize each document in our corpus. We again rely on the NLTK tokenizer to convert a string to a list of words. We here tokennize the selected `text` observation from above."
   ]
  },
  {
   "cell_type": "code",
   "execution_count": null,
   "metadata": {
    "colab": {
     "base_uri": "https://localhost:8080/"
    },
    "executionInfo": {
     "elapsed": 16,
     "status": "ok",
     "timestamp": 1662019882570,
     "user": {
      "displayName": "Zach Schillaci",
      "userId": "04144020147330636013"
     },
     "user_tz": -120
    },
    "id": "pfbCYh3Jyu5z",
    "outputId": "b7c341ad-f608-4335-9d3b-c5de97c12b25"
   },
   "outputs": [],
   "source": [
    "text_tokens = nltk.word_tokenize(??)\n",
    "print(text_tokens)"
   ]
  },
  {
   "cell_type": "markdown",
   "metadata": {
    "id": "VfzsMmdIymLR"
   },
   "source": [
    "### 2.2. Stopwords and punctuation"
   ]
  },
  {
   "cell_type": "markdown",
   "metadata": {
    "id": "B5umdlOizLCp"
   },
   "source": [
    "Stopwords correspond to unimportant words which might safely be ignored for the task at hand. For the specific task of news classification, we might for example rely on the default stopwords provided by NLTK."
   ]
  },
  {
   "cell_type": "code",
   "execution_count": null,
   "metadata": {
    "colab": {
     "base_uri": "https://localhost:8080/"
    },
    "executionInfo": {
     "elapsed": 368,
     "status": "ok",
     "timestamp": 1662019882923,
     "user": {
      "displayName": "Zach Schillaci",
      "userId": "04144020147330636013"
     },
     "user_tz": -120
    },
    "id": "QFikvQzWUkq7",
    "outputId": "186cfccc-ddf4-4e77-e5d5-7a98d90eb80e"
   },
   "outputs": [],
   "source": [
    "# Let's use the nltk stopwords available for the English language\n",
    "stopwords = nltk.corpus.stopwords.words(\"english\")\n",
    "print(stopwords)"
   ]
  },
  {
   "cell_type": "markdown",
   "metadata": {},
   "source": [
    "One might also want to remove punctuation tokens. Here is a list of standard punctuation."
   ]
  },
  {
   "cell_type": "code",
   "execution_count": null,
   "metadata": {},
   "outputs": [],
   "source": [
    "import string\n",
    "string.punctuation"
   ]
  },
  {
   "cell_type": "markdown",
   "metadata": {},
   "source": [
    "### 2.3. Stemming"
   ]
  },
  {
   "cell_type": "markdown",
   "metadata": {},
   "source": [
    "When it comes to reducing similar words to common roots, stemming is the simplest and fastest approach. Stemming is an abstract rule-based process that stems or removes some of the last few characters from a word. This sometimes leads to incorrect meanings and spelling, as a downsize.\n",
    "\n",
    "Let's try two different stemmers: \"PorterStemmer\" and the slightly more recent \"SnowballStemmer\""
   ]
  },
  {
   "cell_type": "code",
   "execution_count": null,
   "metadata": {},
   "outputs": [],
   "source": [
    "from nltk.stem import PorterStemmer\n",
    "from nltk.stem.snowball import SnowballStemmer"
   ]
  },
  {
   "cell_type": "code",
   "execution_count": null,
   "metadata": {},
   "outputs": [],
   "source": [
    "ps = PorterStemmer()\n",
    "text_stems = ??\n",
    "print(text_stems)"
   ]
  },
  {
   "cell_type": "code",
   "execution_count": null,
   "metadata": {},
   "outputs": [],
   "source": [
    "snowstem = SnowballStemmer(\"english\")\n",
    "text_sstems = ??\n",
    "print(text_sstems)"
   ]
  },
  {
   "cell_type": "markdown",
   "metadata": {
    "id": "IJnX396HzwRM"
   },
   "source": [
    "### 2.4. Part-of-speech (POS) tagging\n",
    "Part-of-speech tagging categorizes words as a particular part-of-speech (e.g. verb, noun, etc ...) using the word itself and the surrounding context in a predictive model. Those tags can be useful for several types of analyses. In particular, they are used for lemmatization.\n",
    "\n",
    "Different more or less precise tagsets exist for each language."
   ]
  },
  {
   "cell_type": "code",
   "execution_count": null,
   "metadata": {
    "colab": {
     "base_uri": "https://localhost:8080/"
    },
    "executionInfo": {
     "elapsed": 3,
     "status": "ok",
     "timestamp": 1662019882923,
     "user": {
      "displayName": "Zach Schillaci",
      "userId": "04144020147330636013"
     },
     "user_tz": -120
    },
    "id": "EnbOxzaCzvtw",
    "outputId": "33bd40b9-cfe3-461a-cf2d-7db45c8b48a5",
    "scrolled": true
   },
   "outputs": [],
   "source": [
    "# We can use the default pos-tagger provided by NLTK\n",
    "text_PoS_p = nltk.pos_tag(??)\n",
    "print(text_PoS_p)"
   ]
  },
  {
   "cell_type": "markdown",
   "metadata": {},
   "source": [
    "https://www.ling.upenn.edu/courses/Fall_2003/ling001/penn_treebank_pos.html"
   ]
  },
  {
   "cell_type": "code",
   "execution_count": null,
   "metadata": {
    "colab": {
     "base_uri": "https://localhost:8080/"
    },
    "executionInfo": {
     "elapsed": 3,
     "status": "ok",
     "timestamp": 1662019882923,
     "user": {
      "displayName": "Zach Schillaci",
      "userId": "04144020147330636013"
     },
     "user_tz": -120
    },
    "id": "EnbOxzaCzvtw",
    "outputId": "33bd40b9-cfe3-461a-cf2d-7db45c8b48a5"
   },
   "outputs": [],
   "source": [
    "# Or the \"universal\" tags\n",
    "text_PoS_u = nltk.pos_tag(??, tagset=\"universal\")\n",
    "print(text_PoS_u)"
   ]
  },
  {
   "cell_type": "markdown",
   "metadata": {},
   "source": [
    "http://www.lrec-conf.org/proceedings/lrec2012/pdf/274_Paper.pdf\n",
    "\n",
    "https://github.com/slavpetrov/universal-pos-tags\n",
    "\n",
    "- VERB - verbs (all tenses and modes)\n",
    "- NOUN - nouns (common and proper)\n",
    "- PRON - pronouns \n",
    "- ADJ - adjectives\n",
    "- ADV - adverbs\n",
    "- ADP - adpositions (prepositions and postpositions)\n",
    "- CONJ - conjunctions\n",
    "- DET - determiners\n",
    "- NUM - cardinal numbers\n",
    "- PRT - particles or other function words\n",
    "- X - other: foreign words, typos, abbreviations\n",
    "- . - punctuation"
   ]
  },
  {
   "cell_type": "markdown",
   "metadata": {
    "id": "7byMSxD0yq0O"
   },
   "source": [
    "### 2.5. Lemmatization\n",
    "Lemmatization considers the context and converts the word to its meaningful base form, which is called the \"Lemma\".\n",
    "It uses language-specific lookup tables to find the root forms of words. This makes it more computationnaly expensive than stemming.\n",
    "We here use the `WordNetLemmatizer` (https://www.nltk.org/api/nltk.stem.wordnet.html).\n",
    "It uses the Wordnet database (https://wordnet.princeton.edu/) to find the lemma of a word, given the word AND its PoS tag!"
   ]
  },
  {
   "cell_type": "code",
   "execution_count": null,
   "metadata": {
    "executionInfo": {
     "elapsed": 2,
     "status": "ok",
     "timestamp": 1662019882923,
     "user": {
      "displayName": "Zach Schillaci",
      "userId": "04144020147330636013"
     },
     "user_tz": -120
    },
    "id": "P_DEWPixwFcB"
   },
   "outputs": [],
   "source": [
    "# We can use the English language lemmatizer provided by NLTK\n",
    "wnl = nltk.stem.WordNetLemmatizer()"
   ]
  },
  {
   "cell_type": "code",
   "execution_count": null,
   "metadata": {},
   "outputs": [],
   "source": [
    "?wnl.lemmatize"
   ]
  },
  {
   "cell_type": "code",
   "execution_count": null,
   "metadata": {
    "colab": {
     "base_uri": "https://localhost:8080/"
    },
    "executionInfo": {
     "elapsed": 1948,
     "status": "ok",
     "timestamp": 1662019884869,
     "user": {
      "displayName": "Zach Schillaci",
      "userId": "04144020147330636013"
     },
     "user_tz": -120
    },
    "id": "wCXSxkwIwKvh",
    "outputId": "89c7f2f4-9103-4bf0-823e-b1d5fa3dc41c"
   },
   "outputs": [],
   "source": [
    "for w, pos in text_PoS_u:\n",
    "    # Map the detailed set of POS-tags to nouns/verbs for the lemmatizer\n",
    "    ???\n",
    "    ???\n",
    "    \n",
    "    # print the original tokens and their lemma\n",
    "    print(f\"{w} -> {??}\")"
   ]
  },
  {
   "cell_type": "markdown",
   "metadata": {
    "id": "TfUp_mj32YHg"
   },
   "source": [
    "### 2.6. Putting it all together\n",
    "\n",
    "Let's combine all of the above techniques into a single \"tokenize + normalize\" function which will output a list of normalized words given a string of text (document) as input."
   ]
  },
  {
   "cell_type": "code",
   "execution_count": null,
   "metadata": {
    "executionInfo": {
     "elapsed": 6,
     "status": "ok",
     "timestamp": 1662019884869,
     "user": {
      "displayName": "Zach Schillaci",
      "userId": "04144020147330636013"
     },
     "user_tz": -120
    },
    "id": "KzwaS4cSvr52"
   },
   "outputs": [],
   "source": [
    "# Write your custom tokenizer method here:\n",
    "def custom_tokenizer(text: str):\n",
    "    ???\n",
    "    \n",
    "    return ??"
   ]
  },
  {
   "cell_type": "code",
   "execution_count": null,
   "metadata": {
    "colab": {
     "base_uri": "https://localhost:8080/"
    },
    "executionInfo": {
     "elapsed": 5,
     "status": "ok",
     "timestamp": 1662019884870,
     "user": {
      "displayName": "Zach Schillaci",
      "userId": "04144020147330636013"
     },
     "user_tz": -120
    },
    "id": "m7Fet-3W3ddO",
    "outputId": "983bc229-d2e4-4066-c07a-4312ebd5a8b0"
   },
   "outputs": [],
   "source": [
    "# Try it out on the text\n",
    "print(custom_tokenizer(text))"
   ]
  },
  {
   "cell_type": "markdown",
   "metadata": {
    "id": "RfxFjHPM3jrQ"
   },
   "source": [
    "# 3. Word embeddings and text classification\n",
    "\n",
    "Using the NLP normalization techniques from above, including our custom tokenization method, we want to train a simple multi-class ML classifier to predict the news topic. In order to do so, we must first vectorize the text data."
   ]
  },
  {
   "cell_type": "markdown",
   "metadata": {
    "id": "oNIGZbIM32VC"
   },
   "source": [
    "### 3.1. Bag-of-words (BOW)\n",
    "\n",
    "Bag-of-words is the simplest *embedding* technique in which words are represented as one-hot encoded numeric vectors of word counts. The length of these vectors corresponds to the size of the (reduced) vocabulary of the training corpus.\n",
    "That is, each column $j$ in the resulting sparse matrix represents a word and and each row $i$ represents a different observation (i.e. document), and the coresonping entry in the matrix is the word count of how many times the word $j$ appears in document $i$.\n",
    "See [CountVectorizer](https://scikit-learn.org/stable/modules/generated/sklearn.feature_extraction.text.CountVectorizer.html) for the scikit-learn implementation of the bag-of-words embedding and its many options.\n",
    "\n",
    "We start by training the bag-of-words on our train corpus, and compare the vocabulary size with and without our `'custom_tokenizer'` normalization procedure. We can ignore tokens that appear in less than 0.1% of documents."
   ]
  },
  {
   "cell_type": "code",
   "execution_count": null,
   "metadata": {},
   "outputs": [],
   "source": [
    "from sklearn.feature_extraction.text import CountVectorizer"
   ]
  },
  {
   "cell_type": "code",
   "execution_count": null,
   "metadata": {},
   "outputs": [],
   "source": [
    "??"
   ]
  },
  {
   "cell_type": "code",
   "execution_count": null,
   "metadata": {},
   "outputs": [],
   "source": [
    "??"
   ]
  },
  {
   "cell_type": "markdown",
   "metadata": {
    "id": "ss1gb3fi9svt"
   },
   "source": [
    "### 3.2. Bag-of-words (BOW) with Term-frequency Inverse-document-frequency (TF-IDF)\n",
    "\n",
    "TF-IDF uses the **same** one-hot encoding as traditional BOW, but transforms the simple counts to the relative word frequency, normalized by the inverse-document-frequency to account for frequently occurring words across all documents. \n",
    "\n",
    "The intuition is that not only the word's frequency in a given document indicates if that word represents the document well, but also how rare it is in other documents in comparison.\n",
    "\n",
    "We now compute the TF-IDF transformation of the BoW, using our `'custom_tokenizer'`. See the [TfidfVectorizer](https://scikit-learn.org/stable/modules/generated/sklearn.feature_extraction.text.TfidfVectorizer.html) and [TfidfTransformer](https://scikit-learn.org/stable/modules/generated/sklearn.feature_extraction.text.TfidfTransformer.html) scikit-learn classes for help."
   ]
  },
  {
   "cell_type": "code",
   "execution_count": null,
   "metadata": {},
   "outputs": [],
   "source": [
    "from sklearn.feature_extraction.text import ??\n",
    "\n",
    "???"
   ]
  },
  {
   "cell_type": "code",
   "execution_count": null,
   "metadata": {},
   "outputs": [],
   "source": [
    "???"
   ]
  },
  {
   "cell_type": "markdown",
   "metadata": {},
   "source": [
    "# 4. Topic Classification using Simple Machine Learning"
   ]
  },
  {
   "cell_type": "markdown",
   "metadata": {},
   "source": [
    "### 4.1. Lemmatization and TF-IDF impacts"
   ]
  },
  {
   "cell_type": "markdown",
   "metadata": {},
   "source": [
    "In this section we want to study the impact of lemmatization and of TF-IDF on the classification accuracy of a simple ML model. We use a multinomial logistic regression with default hyper-parameters."
   ]
  },
  {
   "cell_type": "code",
   "execution_count": null,
   "metadata": {},
   "outputs": [],
   "source": [
    "from sklearn.linear_model import LogisticRegression\n",
    "from sklearn.metrics import accuracy_score"
   ]
  },
  {
   "cell_type": "markdown",
   "metadata": {},
   "source": [
    "Let's check the test accuracy using BoW without lemmatization."
   ]
  },
  {
   "cell_type": "code",
   "execution_count": null,
   "metadata": {
    "colab": {
     "base_uri": "https://localhost:8080/"
    },
    "executionInfo": {
     "elapsed": 10,
     "status": "ok",
     "timestamp": 1662020167450,
     "user": {
      "displayName": "Zach Schillaci",
      "userId": "04144020147330636013"
     },
     "user_tz": -120
    },
    "id": "k5fRMDy-XTZA",
    "outputId": "797ea1f6-ba41-482f-e3a1-18f10ab828dc"
   },
   "outputs": [],
   "source": [
    "??"
   ]
  },
  {
   "cell_type": "markdown",
   "metadata": {},
   "source": [
    "Is the lemmatization improving the test accuracy?"
   ]
  },
  {
   "cell_type": "code",
   "execution_count": null,
   "metadata": {
    "colab": {
     "base_uri": "https://localhost:8080/"
    },
    "executionInfo": {
     "elapsed": 10,
     "status": "ok",
     "timestamp": 1662020167450,
     "user": {
      "displayName": "Zach Schillaci",
      "userId": "04144020147330636013"
     },
     "user_tz": -120
    },
    "id": "k5fRMDy-XTZA",
    "outputId": "797ea1f6-ba41-482f-e3a1-18f10ab828dc"
   },
   "outputs": [],
   "source": [
    "??"
   ]
  },
  {
   "cell_type": "markdown",
   "metadata": {
    "id": "4oQxaBxksixp"
   },
   "source": [
    "Let's see if using TF-IDF weights improves the score further."
   ]
  },
  {
   "cell_type": "code",
   "execution_count": null,
   "metadata": {
    "colab": {
     "base_uri": "https://localhost:8080/"
    },
    "executionInfo": {
     "elapsed": 25,
     "status": "ok",
     "timestamp": 1662020451269,
     "user": {
      "displayName": "Zach Schillaci",
      "userId": "04144020147330636013"
     },
     "user_tz": -120
    },
    "id": "ABuLdR_KtNMB",
    "outputId": "b149ebfd-8841-4d8f-af90-a14646920f97"
   },
   "outputs": [],
   "source": [
    "??"
   ]
  },
  {
   "cell_type": "markdown",
   "metadata": {},
   "source": [
    "### 4.2. Hyper-Parameter Tuning"
   ]
  },
  {
   "cell_type": "markdown",
   "metadata": {},
   "source": [
    "We can perform a cross-validated grid search to select the best hyper-parameter values for both the TF-IDF vectorizer and the logistic regression model at the same time using a sklearn `Pipeline`. For the TF-IDF Vectorizer, let's for example check if considering bigrams in the vocabulary helps the classifier. For the logistic regression, the tuning parameter is the cost ($1/penalty$) `'C'`."
   ]
  },
  {
   "cell_type": "code",
   "execution_count": null,
   "metadata": {},
   "outputs": [],
   "source": [
    "from sklearn.pipeline import Pipeline\n",
    "from sklearn.model_selection import KFold, GridSearchCV"
   ]
  },
  {
   "cell_type": "code",
   "execution_count": null,
   "metadata": {},
   "outputs": [],
   "source": [
    "logistic_pipe = Pipeline(???)"
   ]
  },
  {
   "cell_type": "code",
   "execution_count": null,
   "metadata": {},
   "outputs": [],
   "source": [
    "# Define parameter grid\n",
    "???\n",
    "\n",
    "# Define folds\n",
    "???\n",
    "\n",
    "# Define grid search CV\n",
    "???\n",
    "\n",
    "# Run CV\n",
    "???"
   ]
  },
  {
   "cell_type": "code",
   "execution_count": null,
   "metadata": {},
   "outputs": [],
   "source": [
    "# Get the best model\n",
    "???"
   ]
  },
  {
   "cell_type": "markdown",
   "metadata": {},
   "source": [
    "### 4.3. Diagnostics"
   ]
  },
  {
   "cell_type": "markdown",
   "metadata": {},
   "source": [
    "We can run some classification accuracy diagnostics to understand in more detail how our model is performing."
   ]
  },
  {
   "cell_type": "code",
   "execution_count": null,
   "metadata": {},
   "outputs": [],
   "source": [
    "from sklearn.metrics import confusion_matrix, ConfusionMatrixDisplay, classification_report"
   ]
  },
  {
   "cell_type": "code",
   "execution_count": null,
   "metadata": {},
   "outputs": [],
   "source": [
    "??"
   ]
  },
  {
   "cell_type": "markdown",
   "metadata": {},
   "source": [
    "Predict the topic of a few sentences:"
   ]
  },
  {
   "cell_type": "code",
   "execution_count": null,
   "metadata": {},
   "outputs": [],
   "source": [
    "docs_new = ['Lungs and heart health', \"CPU or GPU?\", 'God is love']\n",
    "\n",
    "predicted = ??\n",
    "\n",
    "for doc, category in zip(docs_new, predicted):\n",
    "    print(doc, \"=>\", data_test.target_names[category])"
   ]
  },
  {
   "cell_type": "markdown",
   "metadata": {},
   "source": [
    "## Appendix: Text wrangling and preprocessing"
   ]
  },
  {
   "cell_type": "markdown",
   "metadata": {},
   "source": [
    "In practice, textual datasets are rarely clean nor well structured, and often need some wrangling and preprocessing to be used effectively. \n",
    "\n",
    "Furthermore, depending on the specific task and context at hand, there are often other tailor-made transformations that can prove usefull as an addition or a replacement to normalization. (E.g. the way you would like to handle the `@`symbol might differ between e-mail and social media data. Or there might be specific groups of words that have similar meaning in general, but whose differentiation is important in a specific context.)\n",
    "\n",
    "Additionally to processing and normalizing the test for vectorisation, manual feature extraction can also prove useful. For example the number of exclamation marks, the number of ALL CAPS WORDS, or the average word per sentence ratio might give additional information on the tone or sentiment of written text, depending on the context and model.\n",
    "\n",
    "Here are a few basic string methods that can come in handy for those scenarios."
   ]
  },
  {
   "cell_type": "code",
   "execution_count": null,
   "metadata": {},
   "outputs": [],
   "source": [
    "import string"
   ]
  },
  {
   "cell_type": "code",
   "execution_count": null,
   "metadata": {},
   "outputs": [],
   "source": [
    "text = \"Hi there!\"\n",
    "text"
   ]
  },
  {
   "cell_type": "code",
   "execution_count": null,
   "metadata": {},
   "outputs": [],
   "source": [
    "text.replace(\"Hi\",\"Hello\")"
   ]
  },
  {
   "cell_type": "code",
   "execution_count": null,
   "metadata": {},
   "outputs": [],
   "source": [
    "text.replace(\"!\",\" ! \")"
   ]
  },
  {
   "cell_type": "code",
   "execution_count": null,
   "metadata": {},
   "outputs": [],
   "source": [
    "text.replace(\"e\",\"\")"
   ]
  },
  {
   "cell_type": "code",
   "execution_count": null,
   "metadata": {},
   "outputs": [],
   "source": [
    "text.split(\" \")"
   ]
  },
  {
   "cell_type": "code",
   "execution_count": null,
   "metadata": {},
   "outputs": [],
   "source": [
    "text.lower()"
   ]
  },
  {
   "cell_type": "code",
   "execution_count": null,
   "metadata": {},
   "outputs": [],
   "source": [
    "string.punctuation"
   ]
  },
  {
   "cell_type": "markdown",
   "metadata": {},
   "source": [
    "The few examples above are just to inspire you some ideas. There are many things you could think of to analyze and extract informative summaries from text data. The pandas `<pd.Series>.apply()` method can come in very handy with custom user-defined functions.\n",
    "\n",
    "pd.Series also has a `str` subset of methods for text data. Here are a few dummy examples."
   ]
  },
  {
   "cell_type": "code",
   "execution_count": null,
   "metadata": {},
   "outputs": [],
   "source": [
    "import pandas as pd\n",
    "str_text = pd.DataFrame({\"my_text\":[\"Hi there!\",\"My dog is cute.\",\"i lost my wallet\"]})\n",
    "str_text"
   ]
  },
  {
   "cell_type": "code",
   "execution_count": null,
   "metadata": {},
   "outputs": [],
   "source": [
    "str_text.my_text.str.capitalize()"
   ]
  },
  {
   "cell_type": "code",
   "execution_count": null,
   "metadata": {},
   "outputs": [],
   "source": [
    "str_text.my_text.str.lower()"
   ]
  },
  {
   "cell_type": "code",
   "execution_count": null,
   "metadata": {},
   "outputs": [],
   "source": [
    "str_text.my_text.str.contains(\"y\")"
   ]
  },
  {
   "cell_type": "code",
   "execution_count": null,
   "metadata": {},
   "outputs": [],
   "source": [
    "str_text.my_text.str.contains(\"my\")"
   ]
  },
  {
   "cell_type": "code",
   "execution_count": null,
   "metadata": {},
   "outputs": [],
   "source": [
    "str_text.my_text.str.count(\"e\")"
   ]
  },
  {
   "cell_type": "code",
   "execution_count": null,
   "metadata": {},
   "outputs": [],
   "source": [
    "str_text.my_text.str.replace(\"e\",\"\")"
   ]
  },
  {
   "cell_type": "markdown",
   "metadata": {},
   "source": [
    "Many more examples in the pandas documentation.\n",
    "\n",
    "For more complicated text processing procedures, one would usually turn to [**regular expressions**](https://en.wikipedia.org/wiki/Regular_expression), as a much more powerful tool. The [`re` module](https://docs.python.org/3/library/re.html) provides the base tools to work with regular expressions in python. Some `pandas`'s  `Series.str` methods above also accept regular expressions.\n",
    "\n",
    "This goes beyond the scope of this seminar, but if you are interested:\n",
    "- [Interactive RegEx tutorials](https://regexr.com/)\n",
    "- [Another tutorial](https://www.w3schools.com/python/python_regex.asp)\n",
    "- And many more..."
   ]
  },
  {
   "cell_type": "code",
   "execution_count": null,
   "metadata": {},
   "outputs": [],
   "source": [
    "import re\n",
    "re_str = \"Hello, how are you Luis?\"\n",
    "re.findall(\"[A-Z]\\w+\", re_str)"
   ]
  }
 ],
 "metadata": {
  "colab": {
   "authorship_tag": "ABX9TyNCtguPGtWiKfucgbeYKTic",
   "collapsed_sections": [
    "yv7hitczyvUA",
    "VfzsMmdIymLR",
    "IJnX396HzwRM",
    "7byMSxD0yq0O",
    "TfUp_mj32YHg",
    "oNIGZbIM32VC",
    "ss1gb3fi9svt"
   ],
   "name": "Lab1.ipynb",
   "provenance": [],
   "toc_visible": true
  },
  "kernelspec": {
   "display_name": "Python 3 (ipykernel)",
   "language": "python",
   "name": "python3"
  },
  "language_info": {
   "codemirror_mode": {
    "name": "ipython",
    "version": 3
   },
   "file_extension": ".py",
   "mimetype": "text/x-python",
   "name": "python",
   "nbconvert_exporter": "python",
   "pygments_lexer": "ipython3",
   "version": "3.9.16"
  },
  "vscode": {
   "interpreter": {
    "hash": "916dbcbb3f70747c44a77c7bcd40155683ae19c65e1c03b4aa3499c5328201f1"
   }
  }
 },
 "nbformat": 4,
 "nbformat_minor": 1
}
