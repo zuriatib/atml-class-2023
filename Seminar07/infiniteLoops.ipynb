{
 "cells": [
  {
   "attachments": {},
   "cell_type": "markdown",
   "metadata": {},
   "source": [
    "# Debugging Infinite Loops"
   ]
  },
  {
   "attachments": {},
   "cell_type": "markdown",
   "metadata": {},
   "source": [
    "This notebook contains a few tips on how to write, debug, or simply avoid (infinite) while loops in python."
   ]
  },
  {
   "attachments": {},
   "cell_type": "markdown",
   "metadata": {},
   "source": [
    "### Avoiding while loops"
   ]
  },
  {
   "attachments": {},
   "cell_type": "markdown",
   "metadata": {},
   "source": [
    "\n",
    "Some problems can be written either using a `while` loop or a `for` loop.\n",
    "\n",
    "If possible, it is usually recommended to go with a `for` loop.\n",
    "\n",
    "As a example, consider the task to print the numbers between `n0` and `n1` in increments of `d`.\n",
    "To start with, let `n0=20`, `n1=50`, `d=3`.\n"
   ]
  },
  {
   "cell_type": "code",
   "execution_count": null,
   "metadata": {},
   "outputs": [],
   "source": [
    "n0 = 20\n",
    "n1 = 50\n",
    "d = 3"
   ]
  },
  {
   "cell_type": "code",
   "execution_count": null,
   "metadata": {},
   "outputs": [],
   "source": [
    "# Using a `while True` loop\n",
    "x = n0\n",
    "while True:\n",
    "    print(x)\n",
    "    x = x + d\n",
    "    if x >= n1:\n",
    "        break"
   ]
  },
  {
   "cell_type": "code",
   "execution_count": null,
   "metadata": {},
   "outputs": [],
   "source": [
    "# Using a normal `while` loop\n",
    "x = n0\n",
    "while x < n1:\n",
    "    print(x)\n",
    "    x = x + d"
   ]
  },
  {
   "cell_type": "code",
   "execution_count": null,
   "metadata": {},
   "outputs": [],
   "source": [
    "# Using a `for` loop:\n",
    "for x in range(n0, n1, d):\n",
    "    print(x)"
   ]
  },
  {
   "attachments": {},
   "cell_type": "markdown",
   "metadata": {},
   "source": [
    "For the values of `n0`, `n1`, and `d` used above, these loops behave the same.\n",
    "\n",
    "However, if these values change (e.g. as results of previous computations), it could e.g. happen that a negative value `d=-5` is provided.\n",
    "In this case, only the `for` loop will terminate.\n",
    "\n",
    "\n",
    "*Note: Here, the `for` loop is also easiest to read, but that might differ from case to case.*"
   ]
  },
  {
   "attachments": {},
   "cell_type": "markdown",
   "metadata": {},
   "source": [
    "### Debugging infinite loops"
   ]
  },
  {
   "attachments": {},
   "cell_type": "markdown",
   "metadata": {},
   "source": [
    "Of course, it is often not possible to avoid `while` loop altogether (e.g. in policy iteration).\n",
    "If the body of the loop contains a mistake, this might lead to infinite loops that don't terminate.\n",
    "\n",
    "In these cases, the following tips might help to debug the issue:\n",
    "\n",
    "* Learn how to interrupt running code!\n",
    "    * In jupyter, click `interrupt`\n",
    "    * In the terminal, type `ctrl + c`\n",
    "    * In a debugger, click `stop` or `disconnect` etc.\n",
    "\n",
    "<!-- -->\n",
    "\n",
    "* Double check your `while` condition!\n",
    "    * E.g. if you are waiting for an iterative computation to converge, your tolerance might be too small, or you might have mixed up a `<` and a `>`.\n",
    "\n",
    "<!-- -->\n",
    "\n",
    "* Convert your `while` loops to `for` loops!\n",
    "    * Sometimes it makes sense to introduce a `max_iteration` parameter set to a high number,\n",
    "    and terminate the loop if this number of iterations is reached.\n",
    "    This is common practice in many optimization algorithms.\n",
    "    * If this is not feasible,\n",
    "    you can *temporarily* replace `while XXX` with `for i in range(100)` to make sure the loop terminates.\n",
    "    Afterwards you can check the results of the computations in the loop.\n",
    "\n",
    "<!-- -->\n",
    "\n",
    "* Keep track of your `while`-condition!\n",
    "\n",
    "    Consider a loop of the form\n",
    "\n",
    "    ```\n",
    "    while max(list_of_errors) > SOME_TOLERANCE:\n",
    "        list_of_errors = do_some_computations()\n",
    "    ```\n",
    "\n",
    "    To get a better idea of what's going on, you can print `max(list_of_errors)` or `list_of_errors` after every iteration.\n",
    "    This will show e.g. if the error is even decreasing (slowly) or something completely wrong is happening.\n",
    "\n",
    "<!-- -->\n",
    "\n",
    "* Use a debugger!\n",
    "\n",
    "    The most effective way to debug most issues is to use a debugger.\n",
    "    In vscode this can be done by pressing `F5` with a python file open, or using the command `Debug Cell` in a Jupyter notebook.\n",
    "    Other editors will have different commands/buttons/shortcuts.\n",
    "\n",
    "    With a debugger, you can set a breakpoint inside your loop body and inspect variables, change variable values, step through the code, and more.\n",
    " "
   ]
  },
  {
   "attachments": {},
   "cell_type": "markdown",
   "metadata": {},
   "source": [
    "To practice, let's debug the following infinite loop in the policy evaluation for the \"Stand\" policy."
   ]
  },
  {
   "cell_type": "code",
   "execution_count": 1,
   "metadata": {},
   "outputs": [
    {
     "name": "stdout",
     "output_type": "stream",
     "text": [
      "[-10.0, -10.0, -10.0, -10.0, -10.0, -10.0, -10.0, -10.0, -10.0, -10.0, -10.0, -10.0, -10.0, -10.0, -10.0, -10.0, -10.0, -10.0, -10.0, -10.0, -8.571428571428571, -5.7142857142857135, -2.8571428571428568, -4.440892098500626e-16, 2.8571428571428563, 5.7142857142857135, 8.571428571428571, 0]\n"
     ]
    }
   ],
   "source": [
    "# Define constants\n",
    "BUST = 27\n",
    "DEALER_CARDS = list(range(20, 27))\n",
    "REWARD_WIN = 10\n",
    "REWARD_DRAW = 0\n",
    "REWARD_LOST = -10\n",
    "\n",
    "# Choose a small threshold\n",
    "THETA = 1e-18\n",
    "\n",
    "# Initialize values at 0\n",
    "# We use one extra slot for the terminal state after going bust\n",
    "values = [0 for s in range(BUST + 1)]\n",
    "\n",
    "while True:\n",
    "    Delta = 0\n",
    "    # We do not need to update the terminal state (BUST)\n",
    "    # Iterate over all other states\n",
    "    for s in range(BUST):\n",
    "        # Remember old value\n",
    "        v = values[s]\n",
    "\n",
    "        # Compute expected value and reward for action \"stand\"\n",
    "        # Cards do not change -> always the same value\n",
    "        newValue = v\n",
    "        # Add the expected reward\n",
    "        for dc in DEALER_CARDS:\n",
    "            if s > dc:\n",
    "                reward = REWARD_WIN\n",
    "            elif s == dc:\n",
    "                reward = REWARD_DRAW\n",
    "            else:\n",
    "                reward = REWARD_LOST\n",
    "            # We can ignore the new state value since it is always the terminal one (=0)\n",
    "            newValue += 1/len(DEALER_CARDS) * reward\n",
    "        \n",
    "        # update values, Delta\n",
    "        Delta = max(Delta, abs(v - newValue))\n",
    "        values[s] = newValue\n",
    "\n",
    "    # stop if no significant change:\n",
    "    if Delta < THETA:\n",
    "        break\n",
    "\n",
    "print(values)"
   ]
  }
 ],
 "metadata": {
  "kernelspec": {
   "display_name": "Python 3",
   "language": "python",
   "name": "python3"
  },
  "language_info": {
   "codemirror_mode": {
    "name": "ipython",
    "version": 3
   },
   "file_extension": ".py",
   "mimetype": "text/x-python",
   "name": "python",
   "nbconvert_exporter": "python",
   "pygments_lexer": "ipython3",
   "version": "3.11.0"
  },
  "orig_nbformat": 4,
  "vscode": {
   "interpreter": {
    "hash": "275c90bd5bb82664c788af040251692cc03dc86a881c38c70c21622899dbd0c4"
   }
  }
 },
 "nbformat": 4,
 "nbformat_minor": 2
}
